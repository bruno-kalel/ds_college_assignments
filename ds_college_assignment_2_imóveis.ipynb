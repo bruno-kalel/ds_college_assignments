{
  "nbformat": 4,
  "nbformat_minor": 0,
  "metadata": {
    "colab": {
      "provenance": []
    },
    "kernelspec": {
      "name": "python3",
      "display_name": "Python 3"
    },
    "language_info": {
      "name": "python"
    }
  },
  "cells": [
    {
      "cell_type": "code",
      "execution_count": null,
      "metadata": {
        "id": "NM_2PwfVxjdh"
      },
      "outputs": [],
      "source": [
        "import pandas as pd\n",
        "import matplotlib.pyplot as plt\n",
        "import seaborn as srn\n",
        "import plotly"
      ]
    },
    {
      "cell_type": "code",
      "source": [
        "import numpy as np"
      ],
      "metadata": {
        "id": "4pOqnZXP4lHW"
      },
      "execution_count": null,
      "outputs": []
    },
    {
      "cell_type": "code",
      "source": [
        "url = \"https://gist.githubusercontent.com/tgcsantos/3bdb29eba6ce391e90df2b72205ba891/raw/22fa920e80c9fa209a9fccc8b52d74cc95d1599b/dados_imoveis.csv\"\n",
        "dados = pd.read_csv(url)"
      ],
      "metadata": {
        "id": "wi0J9hWLxoEL"
      },
      "execution_count": null,
      "outputs": []
    },
    {
      "cell_type": "code",
      "source": [
        "dados.head()"
      ],
      "metadata": {
        "colab": {
          "base_uri": "https://localhost:8080/",
          "height": 206
        },
        "id": "XJKa_YlNxqV7",
        "outputId": "75690d95-5e9f-441a-c83d-7c3811664233"
      },
      "execution_count": null,
      "outputs": [
        {
          "output_type": "execute_result",
          "data": {
            "text/plain": [
              "                              Rua              Bairro     Cidade  Metragem  \\\n",
              "0           Avenida Itacira, 255    Planalto Paulista  São Paulo      1000   \n",
              "1  Rua Aurelia Perez Alvarez, 42   Jardim dos Estados  São Paulo       496   \n",
              "2                 Rua Alba Valdez     Jardim Reimberg  São Paulo       125   \n",
              "3                             NaN      Jardim Morumbi  São Paulo       310   \n",
              "4        Rua Tobias Barreto, 195                Mooca  São Paulo       100   \n",
              "\n",
              "   Quartos  Banheiros  Vagas         Valor  \n",
              "0        4          8      6  R$ 7.000.000  \n",
              "1        4          4      4  R$ 3.700.000  \n",
              "2        4          3      2    R$ 380.000  \n",
              "3        3          2      4    R$ 685.000  \n",
              "4        3          2      2    R$ 540.000  "
            ],
            "text/html": [
              "\n",
              "  <div id=\"df-b18f6f2a-f37a-4e52-bbff-0dc330cac33a\" class=\"colab-df-container\">\n",
              "    <div>\n",
              "<style scoped>\n",
              "    .dataframe tbody tr th:only-of-type {\n",
              "        vertical-align: middle;\n",
              "    }\n",
              "\n",
              "    .dataframe tbody tr th {\n",
              "        vertical-align: top;\n",
              "    }\n",
              "\n",
              "    .dataframe thead th {\n",
              "        text-align: right;\n",
              "    }\n",
              "</style>\n",
              "<table border=\"1\" class=\"dataframe\">\n",
              "  <thead>\n",
              "    <tr style=\"text-align: right;\">\n",
              "      <th></th>\n",
              "      <th>Rua</th>\n",
              "      <th>Bairro</th>\n",
              "      <th>Cidade</th>\n",
              "      <th>Metragem</th>\n",
              "      <th>Quartos</th>\n",
              "      <th>Banheiros</th>\n",
              "      <th>Vagas</th>\n",
              "      <th>Valor</th>\n",
              "    </tr>\n",
              "  </thead>\n",
              "  <tbody>\n",
              "    <tr>\n",
              "      <th>0</th>\n",
              "      <td>Avenida Itacira, 255</td>\n",
              "      <td>Planalto Paulista</td>\n",
              "      <td>São Paulo</td>\n",
              "      <td>1000</td>\n",
              "      <td>4</td>\n",
              "      <td>8</td>\n",
              "      <td>6</td>\n",
              "      <td>R$ 7.000.000</td>\n",
              "    </tr>\n",
              "    <tr>\n",
              "      <th>1</th>\n",
              "      <td>Rua Aurelia Perez Alvarez, 42</td>\n",
              "      <td>Jardim dos Estados</td>\n",
              "      <td>São Paulo</td>\n",
              "      <td>496</td>\n",
              "      <td>4</td>\n",
              "      <td>4</td>\n",
              "      <td>4</td>\n",
              "      <td>R$ 3.700.000</td>\n",
              "    </tr>\n",
              "    <tr>\n",
              "      <th>2</th>\n",
              "      <td>Rua Alba Valdez</td>\n",
              "      <td>Jardim Reimberg</td>\n",
              "      <td>São Paulo</td>\n",
              "      <td>125</td>\n",
              "      <td>4</td>\n",
              "      <td>3</td>\n",
              "      <td>2</td>\n",
              "      <td>R$ 380.000</td>\n",
              "    </tr>\n",
              "    <tr>\n",
              "      <th>3</th>\n",
              "      <td>NaN</td>\n",
              "      <td>Jardim Morumbi</td>\n",
              "      <td>São Paulo</td>\n",
              "      <td>310</td>\n",
              "      <td>3</td>\n",
              "      <td>2</td>\n",
              "      <td>4</td>\n",
              "      <td>R$ 685.000</td>\n",
              "    </tr>\n",
              "    <tr>\n",
              "      <th>4</th>\n",
              "      <td>Rua Tobias Barreto, 195</td>\n",
              "      <td>Mooca</td>\n",
              "      <td>São Paulo</td>\n",
              "      <td>100</td>\n",
              "      <td>3</td>\n",
              "      <td>2</td>\n",
              "      <td>2</td>\n",
              "      <td>R$ 540.000</td>\n",
              "    </tr>\n",
              "  </tbody>\n",
              "</table>\n",
              "</div>\n",
              "    <div class=\"colab-df-buttons\">\n",
              "\n",
              "  <div class=\"colab-df-container\">\n",
              "    <button class=\"colab-df-convert\" onclick=\"convertToInteractive('df-b18f6f2a-f37a-4e52-bbff-0dc330cac33a')\"\n",
              "            title=\"Convert this dataframe to an interactive table.\"\n",
              "            style=\"display:none;\">\n",
              "\n",
              "  <svg xmlns=\"http://www.w3.org/2000/svg\" height=\"24px\" viewBox=\"0 -960 960 960\">\n",
              "    <path d=\"M120-120v-720h720v720H120Zm60-500h600v-160H180v160Zm220 220h160v-160H400v160Zm0 220h160v-160H400v160ZM180-400h160v-160H180v160Zm440 0h160v-160H620v160ZM180-180h160v-160H180v160Zm440 0h160v-160H620v160Z\"/>\n",
              "  </svg>\n",
              "    </button>\n",
              "\n",
              "  <style>\n",
              "    .colab-df-container {\n",
              "      display:flex;\n",
              "      gap: 12px;\n",
              "    }\n",
              "\n",
              "    .colab-df-convert {\n",
              "      background-color: #E8F0FE;\n",
              "      border: none;\n",
              "      border-radius: 50%;\n",
              "      cursor: pointer;\n",
              "      display: none;\n",
              "      fill: #1967D2;\n",
              "      height: 32px;\n",
              "      padding: 0 0 0 0;\n",
              "      width: 32px;\n",
              "    }\n",
              "\n",
              "    .colab-df-convert:hover {\n",
              "      background-color: #E2EBFA;\n",
              "      box-shadow: 0px 1px 2px rgba(60, 64, 67, 0.3), 0px 1px 3px 1px rgba(60, 64, 67, 0.15);\n",
              "      fill: #174EA6;\n",
              "    }\n",
              "\n",
              "    .colab-df-buttons div {\n",
              "      margin-bottom: 4px;\n",
              "    }\n",
              "\n",
              "    [theme=dark] .colab-df-convert {\n",
              "      background-color: #3B4455;\n",
              "      fill: #D2E3FC;\n",
              "    }\n",
              "\n",
              "    [theme=dark] .colab-df-convert:hover {\n",
              "      background-color: #434B5C;\n",
              "      box-shadow: 0px 1px 3px 1px rgba(0, 0, 0, 0.15);\n",
              "      filter: drop-shadow(0px 1px 2px rgba(0, 0, 0, 0.3));\n",
              "      fill: #FFFFFF;\n",
              "    }\n",
              "  </style>\n",
              "\n",
              "    <script>\n",
              "      const buttonEl =\n",
              "        document.querySelector('#df-b18f6f2a-f37a-4e52-bbff-0dc330cac33a button.colab-df-convert');\n",
              "      buttonEl.style.display =\n",
              "        google.colab.kernel.accessAllowed ? 'block' : 'none';\n",
              "\n",
              "      async function convertToInteractive(key) {\n",
              "        const element = document.querySelector('#df-b18f6f2a-f37a-4e52-bbff-0dc330cac33a');\n",
              "        const dataTable =\n",
              "          await google.colab.kernel.invokeFunction('convertToInteractive',\n",
              "                                                    [key], {});\n",
              "        if (!dataTable) return;\n",
              "\n",
              "        const docLinkHtml = 'Like what you see? Visit the ' +\n",
              "          '<a target=\"_blank\" href=https://colab.research.google.com/notebooks/data_table.ipynb>data table notebook</a>'\n",
              "          + ' to learn more about interactive tables.';\n",
              "        element.innerHTML = '';\n",
              "        dataTable['output_type'] = 'display_data';\n",
              "        await google.colab.output.renderOutput(dataTable, element);\n",
              "        const docLink = document.createElement('div');\n",
              "        docLink.innerHTML = docLinkHtml;\n",
              "        element.appendChild(docLink);\n",
              "      }\n",
              "    </script>\n",
              "  </div>\n",
              "\n",
              "\n",
              "<div id=\"df-1a565c2d-e355-4d3b-869f-fcd5c6c800ea\">\n",
              "  <button class=\"colab-df-quickchart\" onclick=\"quickchart('df-1a565c2d-e355-4d3b-869f-fcd5c6c800ea')\"\n",
              "            title=\"Suggest charts\"\n",
              "            style=\"display:none;\">\n",
              "\n",
              "<svg xmlns=\"http://www.w3.org/2000/svg\" height=\"24px\"viewBox=\"0 0 24 24\"\n",
              "     width=\"24px\">\n",
              "    <g>\n",
              "        <path d=\"M19 3H5c-1.1 0-2 .9-2 2v14c0 1.1.9 2 2 2h14c1.1 0 2-.9 2-2V5c0-1.1-.9-2-2-2zM9 17H7v-7h2v7zm4 0h-2V7h2v10zm4 0h-2v-4h2v4z\"/>\n",
              "    </g>\n",
              "</svg>\n",
              "  </button>\n",
              "\n",
              "<style>\n",
              "  .colab-df-quickchart {\n",
              "      --bg-color: #E8F0FE;\n",
              "      --fill-color: #1967D2;\n",
              "      --hover-bg-color: #E2EBFA;\n",
              "      --hover-fill-color: #174EA6;\n",
              "      --disabled-fill-color: #AAA;\n",
              "      --disabled-bg-color: #DDD;\n",
              "  }\n",
              "\n",
              "  [theme=dark] .colab-df-quickchart {\n",
              "      --bg-color: #3B4455;\n",
              "      --fill-color: #D2E3FC;\n",
              "      --hover-bg-color: #434B5C;\n",
              "      --hover-fill-color: #FFFFFF;\n",
              "      --disabled-bg-color: #3B4455;\n",
              "      --disabled-fill-color: #666;\n",
              "  }\n",
              "\n",
              "  .colab-df-quickchart {\n",
              "    background-color: var(--bg-color);\n",
              "    border: none;\n",
              "    border-radius: 50%;\n",
              "    cursor: pointer;\n",
              "    display: none;\n",
              "    fill: var(--fill-color);\n",
              "    height: 32px;\n",
              "    padding: 0;\n",
              "    width: 32px;\n",
              "  }\n",
              "\n",
              "  .colab-df-quickchart:hover {\n",
              "    background-color: var(--hover-bg-color);\n",
              "    box-shadow: 0 1px 2px rgba(60, 64, 67, 0.3), 0 1px 3px 1px rgba(60, 64, 67, 0.15);\n",
              "    fill: var(--button-hover-fill-color);\n",
              "  }\n",
              "\n",
              "  .colab-df-quickchart-complete:disabled,\n",
              "  .colab-df-quickchart-complete:disabled:hover {\n",
              "    background-color: var(--disabled-bg-color);\n",
              "    fill: var(--disabled-fill-color);\n",
              "    box-shadow: none;\n",
              "  }\n",
              "\n",
              "  .colab-df-spinner {\n",
              "    border: 2px solid var(--fill-color);\n",
              "    border-color: transparent;\n",
              "    border-bottom-color: var(--fill-color);\n",
              "    animation:\n",
              "      spin 1s steps(1) infinite;\n",
              "  }\n",
              "\n",
              "  @keyframes spin {\n",
              "    0% {\n",
              "      border-color: transparent;\n",
              "      border-bottom-color: var(--fill-color);\n",
              "      border-left-color: var(--fill-color);\n",
              "    }\n",
              "    20% {\n",
              "      border-color: transparent;\n",
              "      border-left-color: var(--fill-color);\n",
              "      border-top-color: var(--fill-color);\n",
              "    }\n",
              "    30% {\n",
              "      border-color: transparent;\n",
              "      border-left-color: var(--fill-color);\n",
              "      border-top-color: var(--fill-color);\n",
              "      border-right-color: var(--fill-color);\n",
              "    }\n",
              "    40% {\n",
              "      border-color: transparent;\n",
              "      border-right-color: var(--fill-color);\n",
              "      border-top-color: var(--fill-color);\n",
              "    }\n",
              "    60% {\n",
              "      border-color: transparent;\n",
              "      border-right-color: var(--fill-color);\n",
              "    }\n",
              "    80% {\n",
              "      border-color: transparent;\n",
              "      border-right-color: var(--fill-color);\n",
              "      border-bottom-color: var(--fill-color);\n",
              "    }\n",
              "    90% {\n",
              "      border-color: transparent;\n",
              "      border-bottom-color: var(--fill-color);\n",
              "    }\n",
              "  }\n",
              "</style>\n",
              "\n",
              "  <script>\n",
              "    async function quickchart(key) {\n",
              "      const quickchartButtonEl =\n",
              "        document.querySelector('#' + key + ' button');\n",
              "      quickchartButtonEl.disabled = true;  // To prevent multiple clicks.\n",
              "      quickchartButtonEl.classList.add('colab-df-spinner');\n",
              "      try {\n",
              "        const charts = await google.colab.kernel.invokeFunction(\n",
              "            'suggestCharts', [key], {});\n",
              "      } catch (error) {\n",
              "        console.error('Error during call to suggestCharts:', error);\n",
              "      }\n",
              "      quickchartButtonEl.classList.remove('colab-df-spinner');\n",
              "      quickchartButtonEl.classList.add('colab-df-quickchart-complete');\n",
              "    }\n",
              "    (() => {\n",
              "      let quickchartButtonEl =\n",
              "        document.querySelector('#df-1a565c2d-e355-4d3b-869f-fcd5c6c800ea button');\n",
              "      quickchartButtonEl.style.display =\n",
              "        google.colab.kernel.accessAllowed ? 'block' : 'none';\n",
              "    })();\n",
              "  </script>\n",
              "</div>\n",
              "    </div>\n",
              "  </div>\n"
            ],
            "application/vnd.google.colaboratory.intrinsic+json": {
              "type": "dataframe",
              "variable_name": "dados",
              "summary": "{\n  \"name\": \"dados\",\n  \"rows\": 10008,\n  \"fields\": [\n    {\n      \"column\": \"Rua\",\n      \"properties\": {\n        \"dtype\": \"category\",\n        \"num_unique_values\": 3130,\n        \"samples\": [\n          \"Rua Sebasti\\u00e3o Falconi, 168 \",\n          \"Travessa Joan Mir\\u00f3\",\n          \"Rua Banib\\u00e1s\"\n        ],\n        \"semantic_type\": \"\",\n        \"description\": \"\"\n      }\n    },\n    {\n      \"column\": \"Bairro\",\n      \"properties\": {\n        \"dtype\": \"category\",\n        \"num_unique_values\": 701,\n        \"samples\": [\n          \"Vila Santo Ant\\u00f4nio\",\n          \"Vila Santa Maria\",\n          \"Vila Arriete\"\n        ],\n        \"semantic_type\": \"\",\n        \"description\": \"\"\n      }\n    },\n    {\n      \"column\": \"Cidade\",\n      \"properties\": {\n        \"dtype\": \"category\",\n        \"num_unique_values\": 1,\n        \"samples\": [\n          \"S\\u00e3o Paulo\"\n        ],\n        \"semantic_type\": \"\",\n        \"description\": \"\"\n      }\n    },\n    {\n      \"column\": \"Metragem\",\n      \"properties\": {\n        \"dtype\": \"number\",\n        \"std\": 7515,\n        \"min\": 10,\n        \"max\": 750000,\n        \"num_unique_values\": 916,\n        \"samples\": [\n          281\n        ],\n        \"semantic_type\": \"\",\n        \"description\": \"\"\n      }\n    },\n    {\n      \"column\": \"Quartos\",\n      \"properties\": {\n        \"dtype\": \"number\",\n        \"std\": 1,\n        \"min\": 1,\n        \"max\": 16,\n        \"num_unique_values\": 15,\n        \"samples\": [\n          10\n        ],\n        \"semantic_type\": \"\",\n        \"description\": \"\"\n      }\n    },\n    {\n      \"column\": \"Banheiros\",\n      \"properties\": {\n        \"dtype\": \"number\",\n        \"std\": 1,\n        \"min\": 1,\n        \"max\": 40,\n        \"num_unique_values\": 15,\n        \"samples\": [\n          10\n        ],\n        \"semantic_type\": \"\",\n        \"description\": \"\"\n      }\n    },\n    {\n      \"column\": \"Vagas\",\n      \"properties\": {\n        \"dtype\": \"number\",\n        \"std\": 2,\n        \"min\": 1,\n        \"max\": 50,\n        \"num_unique_values\": 28,\n        \"samples\": [\n          12\n        ],\n        \"semantic_type\": \"\",\n        \"description\": \"\"\n      }\n    },\n    {\n      \"column\": \"Valor\",\n      \"properties\": {\n        \"dtype\": \"category\",\n        \"num_unique_values\": 1041,\n        \"samples\": [\n          \"R$ 3.150.000\"\n        ],\n        \"semantic_type\": \"\",\n        \"description\": \"\"\n      }\n    }\n  ]\n}"
            }
          },
          "metadata": {},
          "execution_count": 4
        }
      ]
    },
    {
      "cell_type": "code",
      "source": [
        "dados.shape"
      ],
      "metadata": {
        "colab": {
          "base_uri": "https://localhost:8080/"
        },
        "id": "mZqi5nhg2JE9",
        "outputId": "d7d707c3-faa3-4247-be50-124ca369eb3a"
      },
      "execution_count": null,
      "outputs": [
        {
          "output_type": "execute_result",
          "data": {
            "text/plain": [
              "(10008, 8)"
            ]
          },
          "metadata": {},
          "execution_count": 5
        }
      ]
    },
    {
      "cell_type": "code",
      "source": [
        "dados.info()"
      ],
      "metadata": {
        "colab": {
          "base_uri": "https://localhost:8080/"
        },
        "id": "7X2TH4Bw2LGF",
        "outputId": "f1a9a10a-d8f1-4531-8ffd-ca6b0a191966"
      },
      "execution_count": null,
      "outputs": [
        {
          "output_type": "stream",
          "name": "stdout",
          "text": [
            "<class 'pandas.core.frame.DataFrame'>\n",
            "RangeIndex: 10008 entries, 0 to 10007\n",
            "Data columns (total 8 columns):\n",
            " #   Column     Non-Null Count  Dtype \n",
            "---  ------     --------------  ----- \n",
            " 0   Rua        6574 non-null   object\n",
            " 1   Bairro     9996 non-null   object\n",
            " 2   Cidade     10008 non-null  object\n",
            " 3   Metragem   10008 non-null  int64 \n",
            " 4   Quartos    10008 non-null  int64 \n",
            " 5   Banheiros  10008 non-null  int64 \n",
            " 6   Vagas      10008 non-null  int64 \n",
            " 7   Valor      10008 non-null  object\n",
            "dtypes: int64(4), object(4)\n",
            "memory usage: 625.6+ KB\n"
          ]
        }
      ]
    },
    {
      "cell_type": "code",
      "source": [
        "dados.describe(include='all')"
      ],
      "metadata": {
        "colab": {
          "base_uri": "https://localhost:8080/",
          "height": 394
        },
        "id": "c50M4niLxv5q",
        "outputId": "9dcb2c0d-a41f-4dfe-997e-234f67f34a4e"
      },
      "execution_count": null,
      "outputs": [
        {
          "output_type": "execute_result",
          "data": {
            "text/plain": [
              "                      Rua             Bairro     Cidade       Metragem  \\\n",
              "count                6574               9996      10008   10008.000000   \n",
              "unique               3130                701          1            NaN   \n",
              "top     Rua Alberto Faria  Alto de Pinheiros  São Paulo            NaN   \n",
              "freq                   24                409      10008            NaN   \n",
              "mean                  NaN                NaN        NaN     442.300659   \n",
              "std                   NaN                NaN        NaN    7515.379389   \n",
              "min                   NaN                NaN        NaN      10.000000   \n",
              "25%                   NaN                NaN        NaN     173.000000   \n",
              "50%                   NaN                NaN        NaN     290.000000   \n",
              "75%                   NaN                NaN        NaN     460.250000   \n",
              "max                   NaN                NaN        NaN  750000.000000   \n",
              "\n",
              "             Quartos     Banheiros         Vagas         Valor  \n",
              "count   10008.000000  10008.000000  10008.000000         10008  \n",
              "unique           NaN           NaN           NaN          1041  \n",
              "top              NaN           NaN           NaN  R$ 2.500.000  \n",
              "freq             NaN           NaN           NaN           182  \n",
              "mean        3.483114      3.879097      4.097222           NaN  \n",
              "std         1.064200      1.988467      2.824014           NaN  \n",
              "min         1.000000      1.000000      1.000000           NaN  \n",
              "25%         3.000000      2.000000      2.000000           NaN  \n",
              "50%         3.000000      4.000000      4.000000           NaN  \n",
              "75%         4.000000      5.000000      5.000000           NaN  \n",
              "max        16.000000     40.000000     50.000000           NaN  "
            ],
            "text/html": [
              "\n",
              "  <div id=\"df-5bfc2124-02d2-41df-84d7-ef68b4d2c8d6\" class=\"colab-df-container\">\n",
              "    <div>\n",
              "<style scoped>\n",
              "    .dataframe tbody tr th:only-of-type {\n",
              "        vertical-align: middle;\n",
              "    }\n",
              "\n",
              "    .dataframe tbody tr th {\n",
              "        vertical-align: top;\n",
              "    }\n",
              "\n",
              "    .dataframe thead th {\n",
              "        text-align: right;\n",
              "    }\n",
              "</style>\n",
              "<table border=\"1\" class=\"dataframe\">\n",
              "  <thead>\n",
              "    <tr style=\"text-align: right;\">\n",
              "      <th></th>\n",
              "      <th>Rua</th>\n",
              "      <th>Bairro</th>\n",
              "      <th>Cidade</th>\n",
              "      <th>Metragem</th>\n",
              "      <th>Quartos</th>\n",
              "      <th>Banheiros</th>\n",
              "      <th>Vagas</th>\n",
              "      <th>Valor</th>\n",
              "    </tr>\n",
              "  </thead>\n",
              "  <tbody>\n",
              "    <tr>\n",
              "      <th>count</th>\n",
              "      <td>6574</td>\n",
              "      <td>9996</td>\n",
              "      <td>10008</td>\n",
              "      <td>10008.000000</td>\n",
              "      <td>10008.000000</td>\n",
              "      <td>10008.000000</td>\n",
              "      <td>10008.000000</td>\n",
              "      <td>10008</td>\n",
              "    </tr>\n",
              "    <tr>\n",
              "      <th>unique</th>\n",
              "      <td>3130</td>\n",
              "      <td>701</td>\n",
              "      <td>1</td>\n",
              "      <td>NaN</td>\n",
              "      <td>NaN</td>\n",
              "      <td>NaN</td>\n",
              "      <td>NaN</td>\n",
              "      <td>1041</td>\n",
              "    </tr>\n",
              "    <tr>\n",
              "      <th>top</th>\n",
              "      <td>Rua Alberto Faria</td>\n",
              "      <td>Alto de Pinheiros</td>\n",
              "      <td>São Paulo</td>\n",
              "      <td>NaN</td>\n",
              "      <td>NaN</td>\n",
              "      <td>NaN</td>\n",
              "      <td>NaN</td>\n",
              "      <td>R$ 2.500.000</td>\n",
              "    </tr>\n",
              "    <tr>\n",
              "      <th>freq</th>\n",
              "      <td>24</td>\n",
              "      <td>409</td>\n",
              "      <td>10008</td>\n",
              "      <td>NaN</td>\n",
              "      <td>NaN</td>\n",
              "      <td>NaN</td>\n",
              "      <td>NaN</td>\n",
              "      <td>182</td>\n",
              "    </tr>\n",
              "    <tr>\n",
              "      <th>mean</th>\n",
              "      <td>NaN</td>\n",
              "      <td>NaN</td>\n",
              "      <td>NaN</td>\n",
              "      <td>442.300659</td>\n",
              "      <td>3.483114</td>\n",
              "      <td>3.879097</td>\n",
              "      <td>4.097222</td>\n",
              "      <td>NaN</td>\n",
              "    </tr>\n",
              "    <tr>\n",
              "      <th>std</th>\n",
              "      <td>NaN</td>\n",
              "      <td>NaN</td>\n",
              "      <td>NaN</td>\n",
              "      <td>7515.379389</td>\n",
              "      <td>1.064200</td>\n",
              "      <td>1.988467</td>\n",
              "      <td>2.824014</td>\n",
              "      <td>NaN</td>\n",
              "    </tr>\n",
              "    <tr>\n",
              "      <th>min</th>\n",
              "      <td>NaN</td>\n",
              "      <td>NaN</td>\n",
              "      <td>NaN</td>\n",
              "      <td>10.000000</td>\n",
              "      <td>1.000000</td>\n",
              "      <td>1.000000</td>\n",
              "      <td>1.000000</td>\n",
              "      <td>NaN</td>\n",
              "    </tr>\n",
              "    <tr>\n",
              "      <th>25%</th>\n",
              "      <td>NaN</td>\n",
              "      <td>NaN</td>\n",
              "      <td>NaN</td>\n",
              "      <td>173.000000</td>\n",
              "      <td>3.000000</td>\n",
              "      <td>2.000000</td>\n",
              "      <td>2.000000</td>\n",
              "      <td>NaN</td>\n",
              "    </tr>\n",
              "    <tr>\n",
              "      <th>50%</th>\n",
              "      <td>NaN</td>\n",
              "      <td>NaN</td>\n",
              "      <td>NaN</td>\n",
              "      <td>290.000000</td>\n",
              "      <td>3.000000</td>\n",
              "      <td>4.000000</td>\n",
              "      <td>4.000000</td>\n",
              "      <td>NaN</td>\n",
              "    </tr>\n",
              "    <tr>\n",
              "      <th>75%</th>\n",
              "      <td>NaN</td>\n",
              "      <td>NaN</td>\n",
              "      <td>NaN</td>\n",
              "      <td>460.250000</td>\n",
              "      <td>4.000000</td>\n",
              "      <td>5.000000</td>\n",
              "      <td>5.000000</td>\n",
              "      <td>NaN</td>\n",
              "    </tr>\n",
              "    <tr>\n",
              "      <th>max</th>\n",
              "      <td>NaN</td>\n",
              "      <td>NaN</td>\n",
              "      <td>NaN</td>\n",
              "      <td>750000.000000</td>\n",
              "      <td>16.000000</td>\n",
              "      <td>40.000000</td>\n",
              "      <td>50.000000</td>\n",
              "      <td>NaN</td>\n",
              "    </tr>\n",
              "  </tbody>\n",
              "</table>\n",
              "</div>\n",
              "    <div class=\"colab-df-buttons\">\n",
              "\n",
              "  <div class=\"colab-df-container\">\n",
              "    <button class=\"colab-df-convert\" onclick=\"convertToInteractive('df-5bfc2124-02d2-41df-84d7-ef68b4d2c8d6')\"\n",
              "            title=\"Convert this dataframe to an interactive table.\"\n",
              "            style=\"display:none;\">\n",
              "\n",
              "  <svg xmlns=\"http://www.w3.org/2000/svg\" height=\"24px\" viewBox=\"0 -960 960 960\">\n",
              "    <path d=\"M120-120v-720h720v720H120Zm60-500h600v-160H180v160Zm220 220h160v-160H400v160Zm0 220h160v-160H400v160ZM180-400h160v-160H180v160Zm440 0h160v-160H620v160ZM180-180h160v-160H180v160Zm440 0h160v-160H620v160Z\"/>\n",
              "  </svg>\n",
              "    </button>\n",
              "\n",
              "  <style>\n",
              "    .colab-df-container {\n",
              "      display:flex;\n",
              "      gap: 12px;\n",
              "    }\n",
              "\n",
              "    .colab-df-convert {\n",
              "      background-color: #E8F0FE;\n",
              "      border: none;\n",
              "      border-radius: 50%;\n",
              "      cursor: pointer;\n",
              "      display: none;\n",
              "      fill: #1967D2;\n",
              "      height: 32px;\n",
              "      padding: 0 0 0 0;\n",
              "      width: 32px;\n",
              "    }\n",
              "\n",
              "    .colab-df-convert:hover {\n",
              "      background-color: #E2EBFA;\n",
              "      box-shadow: 0px 1px 2px rgba(60, 64, 67, 0.3), 0px 1px 3px 1px rgba(60, 64, 67, 0.15);\n",
              "      fill: #174EA6;\n",
              "    }\n",
              "\n",
              "    .colab-df-buttons div {\n",
              "      margin-bottom: 4px;\n",
              "    }\n",
              "\n",
              "    [theme=dark] .colab-df-convert {\n",
              "      background-color: #3B4455;\n",
              "      fill: #D2E3FC;\n",
              "    }\n",
              "\n",
              "    [theme=dark] .colab-df-convert:hover {\n",
              "      background-color: #434B5C;\n",
              "      box-shadow: 0px 1px 3px 1px rgba(0, 0, 0, 0.15);\n",
              "      filter: drop-shadow(0px 1px 2px rgba(0, 0, 0, 0.3));\n",
              "      fill: #FFFFFF;\n",
              "    }\n",
              "  </style>\n",
              "\n",
              "    <script>\n",
              "      const buttonEl =\n",
              "        document.querySelector('#df-5bfc2124-02d2-41df-84d7-ef68b4d2c8d6 button.colab-df-convert');\n",
              "      buttonEl.style.display =\n",
              "        google.colab.kernel.accessAllowed ? 'block' : 'none';\n",
              "\n",
              "      async function convertToInteractive(key) {\n",
              "        const element = document.querySelector('#df-5bfc2124-02d2-41df-84d7-ef68b4d2c8d6');\n",
              "        const dataTable =\n",
              "          await google.colab.kernel.invokeFunction('convertToInteractive',\n",
              "                                                    [key], {});\n",
              "        if (!dataTable) return;\n",
              "\n",
              "        const docLinkHtml = 'Like what you see? Visit the ' +\n",
              "          '<a target=\"_blank\" href=https://colab.research.google.com/notebooks/data_table.ipynb>data table notebook</a>'\n",
              "          + ' to learn more about interactive tables.';\n",
              "        element.innerHTML = '';\n",
              "        dataTable['output_type'] = 'display_data';\n",
              "        await google.colab.output.renderOutput(dataTable, element);\n",
              "        const docLink = document.createElement('div');\n",
              "        docLink.innerHTML = docLinkHtml;\n",
              "        element.appendChild(docLink);\n",
              "      }\n",
              "    </script>\n",
              "  </div>\n",
              "\n",
              "\n",
              "<div id=\"df-376d1374-233d-40e8-8cf7-17f0dd038320\">\n",
              "  <button class=\"colab-df-quickchart\" onclick=\"quickchart('df-376d1374-233d-40e8-8cf7-17f0dd038320')\"\n",
              "            title=\"Suggest charts\"\n",
              "            style=\"display:none;\">\n",
              "\n",
              "<svg xmlns=\"http://www.w3.org/2000/svg\" height=\"24px\"viewBox=\"0 0 24 24\"\n",
              "     width=\"24px\">\n",
              "    <g>\n",
              "        <path d=\"M19 3H5c-1.1 0-2 .9-2 2v14c0 1.1.9 2 2 2h14c1.1 0 2-.9 2-2V5c0-1.1-.9-2-2-2zM9 17H7v-7h2v7zm4 0h-2V7h2v10zm4 0h-2v-4h2v4z\"/>\n",
              "    </g>\n",
              "</svg>\n",
              "  </button>\n",
              "\n",
              "<style>\n",
              "  .colab-df-quickchart {\n",
              "      --bg-color: #E8F0FE;\n",
              "      --fill-color: #1967D2;\n",
              "      --hover-bg-color: #E2EBFA;\n",
              "      --hover-fill-color: #174EA6;\n",
              "      --disabled-fill-color: #AAA;\n",
              "      --disabled-bg-color: #DDD;\n",
              "  }\n",
              "\n",
              "  [theme=dark] .colab-df-quickchart {\n",
              "      --bg-color: #3B4455;\n",
              "      --fill-color: #D2E3FC;\n",
              "      --hover-bg-color: #434B5C;\n",
              "      --hover-fill-color: #FFFFFF;\n",
              "      --disabled-bg-color: #3B4455;\n",
              "      --disabled-fill-color: #666;\n",
              "  }\n",
              "\n",
              "  .colab-df-quickchart {\n",
              "    background-color: var(--bg-color);\n",
              "    border: none;\n",
              "    border-radius: 50%;\n",
              "    cursor: pointer;\n",
              "    display: none;\n",
              "    fill: var(--fill-color);\n",
              "    height: 32px;\n",
              "    padding: 0;\n",
              "    width: 32px;\n",
              "  }\n",
              "\n",
              "  .colab-df-quickchart:hover {\n",
              "    background-color: var(--hover-bg-color);\n",
              "    box-shadow: 0 1px 2px rgba(60, 64, 67, 0.3), 0 1px 3px 1px rgba(60, 64, 67, 0.15);\n",
              "    fill: var(--button-hover-fill-color);\n",
              "  }\n",
              "\n",
              "  .colab-df-quickchart-complete:disabled,\n",
              "  .colab-df-quickchart-complete:disabled:hover {\n",
              "    background-color: var(--disabled-bg-color);\n",
              "    fill: var(--disabled-fill-color);\n",
              "    box-shadow: none;\n",
              "  }\n",
              "\n",
              "  .colab-df-spinner {\n",
              "    border: 2px solid var(--fill-color);\n",
              "    border-color: transparent;\n",
              "    border-bottom-color: var(--fill-color);\n",
              "    animation:\n",
              "      spin 1s steps(1) infinite;\n",
              "  }\n",
              "\n",
              "  @keyframes spin {\n",
              "    0% {\n",
              "      border-color: transparent;\n",
              "      border-bottom-color: var(--fill-color);\n",
              "      border-left-color: var(--fill-color);\n",
              "    }\n",
              "    20% {\n",
              "      border-color: transparent;\n",
              "      border-left-color: var(--fill-color);\n",
              "      border-top-color: var(--fill-color);\n",
              "    }\n",
              "    30% {\n",
              "      border-color: transparent;\n",
              "      border-left-color: var(--fill-color);\n",
              "      border-top-color: var(--fill-color);\n",
              "      border-right-color: var(--fill-color);\n",
              "    }\n",
              "    40% {\n",
              "      border-color: transparent;\n",
              "      border-right-color: var(--fill-color);\n",
              "      border-top-color: var(--fill-color);\n",
              "    }\n",
              "    60% {\n",
              "      border-color: transparent;\n",
              "      border-right-color: var(--fill-color);\n",
              "    }\n",
              "    80% {\n",
              "      border-color: transparent;\n",
              "      border-right-color: var(--fill-color);\n",
              "      border-bottom-color: var(--fill-color);\n",
              "    }\n",
              "    90% {\n",
              "      border-color: transparent;\n",
              "      border-bottom-color: var(--fill-color);\n",
              "    }\n",
              "  }\n",
              "</style>\n",
              "\n",
              "  <script>\n",
              "    async function quickchart(key) {\n",
              "      const quickchartButtonEl =\n",
              "        document.querySelector('#' + key + ' button');\n",
              "      quickchartButtonEl.disabled = true;  // To prevent multiple clicks.\n",
              "      quickchartButtonEl.classList.add('colab-df-spinner');\n",
              "      try {\n",
              "        const charts = await google.colab.kernel.invokeFunction(\n",
              "            'suggestCharts', [key], {});\n",
              "      } catch (error) {\n",
              "        console.error('Error during call to suggestCharts:', error);\n",
              "      }\n",
              "      quickchartButtonEl.classList.remove('colab-df-spinner');\n",
              "      quickchartButtonEl.classList.add('colab-df-quickchart-complete');\n",
              "    }\n",
              "    (() => {\n",
              "      let quickchartButtonEl =\n",
              "        document.querySelector('#df-376d1374-233d-40e8-8cf7-17f0dd038320 button');\n",
              "      quickchartButtonEl.style.display =\n",
              "        google.colab.kernel.accessAllowed ? 'block' : 'none';\n",
              "    })();\n",
              "  </script>\n",
              "</div>\n",
              "    </div>\n",
              "  </div>\n"
            ],
            "application/vnd.google.colaboratory.intrinsic+json": {
              "type": "dataframe",
              "summary": "{\n  \"name\": \"dados\",\n  \"rows\": 11,\n  \"fields\": [\n    {\n      \"column\": \"Rua\",\n      \"properties\": {\n        \"dtype\": \"category\",\n        \"num_unique_values\": 4,\n        \"samples\": [\n          3130,\n          \"24\",\n          \"6574\"\n        ],\n        \"semantic_type\": \"\",\n        \"description\": \"\"\n      }\n    },\n    {\n      \"column\": \"Bairro\",\n      \"properties\": {\n        \"dtype\": \"category\",\n        \"num_unique_values\": 4,\n        \"samples\": [\n          701,\n          \"409\",\n          \"9996\"\n        ],\n        \"semantic_type\": \"\",\n        \"description\": \"\"\n      }\n    },\n    {\n      \"column\": \"Cidade\",\n      \"properties\": {\n        \"dtype\": \"category\",\n        \"num_unique_values\": 3,\n        \"samples\": [\n          \"10008\",\n          1,\n          \"S\\u00e3o Paulo\"\n        ],\n        \"semantic_type\": \"\",\n        \"description\": \"\"\n      }\n    },\n    {\n      \"column\": \"Metragem\",\n      \"properties\": {\n        \"dtype\": \"number\",\n        \"std\": 264239.19548164576,\n        \"min\": 10.0,\n        \"max\": 750000.0,\n        \"num_unique_values\": 8,\n        \"samples\": [\n          442.30065947242207,\n          290.0,\n          10008.0\n        ],\n        \"semantic_type\": \"\",\n        \"description\": \"\"\n      }\n    },\n    {\n      \"column\": \"Quartos\",\n      \"properties\": {\n        \"dtype\": \"number\",\n        \"std\": 3536.772226638025,\n        \"min\": 1.0,\n        \"max\": 10008.0,\n        \"num_unique_values\": 7,\n        \"samples\": [\n          10008.0,\n          3.4831135091926457,\n          4.0\n        ],\n        \"semantic_type\": \"\",\n        \"description\": \"\"\n      }\n    },\n    {\n      \"column\": \"Banheiros\",\n      \"properties\": {\n        \"dtype\": \"number\",\n        \"std\": 3535.4635536416104,\n        \"min\": 1.0,\n        \"max\": 10008.0,\n        \"num_unique_values\": 8,\n        \"samples\": [\n          3.8790967226219024,\n          4.0,\n          10008.0\n        ],\n        \"semantic_type\": \"\",\n        \"description\": \"\"\n      }\n    },\n    {\n      \"column\": \"Vagas\",\n      \"properties\": {\n        \"dtype\": \"number\",\n        \"std\": 3534.9195194106032,\n        \"min\": 1.0,\n        \"max\": 10008.0,\n        \"num_unique_values\": 8,\n        \"samples\": [\n          4.097222222222222,\n          4.0,\n          10008.0\n        ],\n        \"semantic_type\": \"\",\n        \"description\": \"\"\n      }\n    },\n    {\n      \"column\": \"Valor\",\n      \"properties\": {\n        \"dtype\": \"category\",\n        \"num_unique_values\": 4,\n        \"samples\": [\n          1041,\n          \"182\",\n          \"10008\"\n        ],\n        \"semantic_type\": \"\",\n        \"description\": \"\"\n      }\n    }\n  ]\n}"
            }
          },
          "metadata": {},
          "execution_count": 7
        }
      ]
    },
    {
      "cell_type": "markdown",
      "source": [
        "1 - Realizar a média da metragem para cara um dos bairros\n",
        "\n"
      ],
      "metadata": {
        "id": "Gf8eymDmx_NC"
      }
    },
    {
      "cell_type": "code",
      "source": [
        "dados.columns"
      ],
      "metadata": {
        "colab": {
          "base_uri": "https://localhost:8080/"
        },
        "id": "Nqi_dDOn2SPW",
        "outputId": "024ff6bf-0bae-47e0-ad48-9c8e124ca840"
      },
      "execution_count": null,
      "outputs": [
        {
          "output_type": "execute_result",
          "data": {
            "text/plain": [
              "Index(['Rua', 'Bairro', 'Cidade', 'Metragem', 'Quartos', 'Banheiros', 'Vagas',\n",
              "       'Valor'],\n",
              "      dtype='object')"
            ]
          },
          "metadata": {},
          "execution_count": 8
        }
      ]
    },
    {
      "cell_type": "code",
      "source": [
        "dados.columns = dados.columns.str.lower().str.strip()"
      ],
      "metadata": {
        "id": "-NB4c0iE2XRp"
      },
      "execution_count": null,
      "outputs": []
    },
    {
      "cell_type": "code",
      "source": [
        "dados.columns"
      ],
      "metadata": {
        "colab": {
          "base_uri": "https://localhost:8080/"
        },
        "id": "t6JcJlOA2XTl",
        "outputId": "ca6be919-1f70-4dde-97fe-d6f52e05f307"
      },
      "execution_count": null,
      "outputs": [
        {
          "output_type": "execute_result",
          "data": {
            "text/plain": [
              "Index(['rua', 'bairro', 'cidade', 'metragem', 'quartos', 'banheiros', 'vagas',\n",
              "       'valor'],\n",
              "      dtype='object')"
            ]
          },
          "metadata": {},
          "execution_count": 10
        }
      ]
    },
    {
      "cell_type": "code",
      "source": [
        "dados.bairro.value_counts()"
      ],
      "metadata": {
        "colab": {
          "base_uri": "https://localhost:8080/"
        },
        "id": "fIvhK_KY3C5N",
        "outputId": "1f839c67-0044-4352-b38e-45c784c777ee"
      },
      "execution_count": null,
      "outputs": [
        {
          "output_type": "execute_result",
          "data": {
            "text/plain": [
              "Alto de Pinheiros     409\n",
              "Jardim Guedala        403\n",
              "Jardim Paulista       309\n",
              "Brooklin Paulista     247\n",
              "Jardim Europa         240\n",
              "                     ... \n",
              "Jardim das Imbuias      1\n",
              "Vila Represa            1\n",
              "Vila Nancy              1\n",
              "Sítio Represa           1\n",
              "Vila Invernada          1\n",
              "Name: bairro, Length: 701, dtype: int64"
            ]
          },
          "metadata": {},
          "execution_count": 11
        }
      ]
    },
    {
      "cell_type": "code",
      "source": [
        "colunas = ['bairro', 'metragem']\n",
        "\n",
        "dados.groupby('bairro')[colunas].mean(numeric_only=True).sort_values(by='metragem', ascending=False)"
      ],
      "metadata": {
        "colab": {
          "base_uri": "https://localhost:8080/",
          "height": 455
        },
        "id": "kL-WWW_82XVv",
        "outputId": "f325fac1-65e9-4f83-feaf-cefa73a6a4ba"
      },
      "execution_count": null,
      "outputs": [
        {
          "output_type": "execute_result",
          "data": {
            "text/plain": [
              "                                        metragem\n",
              "bairro                                          \n",
              "Sítio Represa                       37000.000000\n",
              "Vila Castelo                         2850.000000\n",
              "Jardim Guedala                       2486.640199\n",
              "Jardim das Camélias                  1700.000000\n",
              "Chácara Flora                        1260.727273\n",
              "...                                          ...\n",
              "Cidade Antônio Estevão de Carvalho     57.500000\n",
              "Jardim Nova Germania                   57.000000\n",
              "Jardim Benfica                         48.000000\n",
              "Vila Leonor                            46.000000\n",
              "Vila Guaca                             10.000000\n",
              "\n",
              "[701 rows x 1 columns]"
            ],
            "text/html": [
              "\n",
              "  <div id=\"df-831e8c26-3a5f-48a5-a52c-a1072f32422f\" class=\"colab-df-container\">\n",
              "    <div>\n",
              "<style scoped>\n",
              "    .dataframe tbody tr th:only-of-type {\n",
              "        vertical-align: middle;\n",
              "    }\n",
              "\n",
              "    .dataframe tbody tr th {\n",
              "        vertical-align: top;\n",
              "    }\n",
              "\n",
              "    .dataframe thead th {\n",
              "        text-align: right;\n",
              "    }\n",
              "</style>\n",
              "<table border=\"1\" class=\"dataframe\">\n",
              "  <thead>\n",
              "    <tr style=\"text-align: right;\">\n",
              "      <th></th>\n",
              "      <th>metragem</th>\n",
              "    </tr>\n",
              "    <tr>\n",
              "      <th>bairro</th>\n",
              "      <th></th>\n",
              "    </tr>\n",
              "  </thead>\n",
              "  <tbody>\n",
              "    <tr>\n",
              "      <th>Sítio Represa</th>\n",
              "      <td>37000.000000</td>\n",
              "    </tr>\n",
              "    <tr>\n",
              "      <th>Vila Castelo</th>\n",
              "      <td>2850.000000</td>\n",
              "    </tr>\n",
              "    <tr>\n",
              "      <th>Jardim Guedala</th>\n",
              "      <td>2486.640199</td>\n",
              "    </tr>\n",
              "    <tr>\n",
              "      <th>Jardim das Camélias</th>\n",
              "      <td>1700.000000</td>\n",
              "    </tr>\n",
              "    <tr>\n",
              "      <th>Chácara Flora</th>\n",
              "      <td>1260.727273</td>\n",
              "    </tr>\n",
              "    <tr>\n",
              "      <th>...</th>\n",
              "      <td>...</td>\n",
              "    </tr>\n",
              "    <tr>\n",
              "      <th>Cidade Antônio Estevão de Carvalho</th>\n",
              "      <td>57.500000</td>\n",
              "    </tr>\n",
              "    <tr>\n",
              "      <th>Jardim Nova Germania</th>\n",
              "      <td>57.000000</td>\n",
              "    </tr>\n",
              "    <tr>\n",
              "      <th>Jardim Benfica</th>\n",
              "      <td>48.000000</td>\n",
              "    </tr>\n",
              "    <tr>\n",
              "      <th>Vila Leonor</th>\n",
              "      <td>46.000000</td>\n",
              "    </tr>\n",
              "    <tr>\n",
              "      <th>Vila Guaca</th>\n",
              "      <td>10.000000</td>\n",
              "    </tr>\n",
              "  </tbody>\n",
              "</table>\n",
              "<p>701 rows × 1 columns</p>\n",
              "</div>\n",
              "    <div class=\"colab-df-buttons\">\n",
              "\n",
              "  <div class=\"colab-df-container\">\n",
              "    <button class=\"colab-df-convert\" onclick=\"convertToInteractive('df-831e8c26-3a5f-48a5-a52c-a1072f32422f')\"\n",
              "            title=\"Convert this dataframe to an interactive table.\"\n",
              "            style=\"display:none;\">\n",
              "\n",
              "  <svg xmlns=\"http://www.w3.org/2000/svg\" height=\"24px\" viewBox=\"0 -960 960 960\">\n",
              "    <path d=\"M120-120v-720h720v720H120Zm60-500h600v-160H180v160Zm220 220h160v-160H400v160Zm0 220h160v-160H400v160ZM180-400h160v-160H180v160Zm440 0h160v-160H620v160ZM180-180h160v-160H180v160Zm440 0h160v-160H620v160Z\"/>\n",
              "  </svg>\n",
              "    </button>\n",
              "\n",
              "  <style>\n",
              "    .colab-df-container {\n",
              "      display:flex;\n",
              "      gap: 12px;\n",
              "    }\n",
              "\n",
              "    .colab-df-convert {\n",
              "      background-color: #E8F0FE;\n",
              "      border: none;\n",
              "      border-radius: 50%;\n",
              "      cursor: pointer;\n",
              "      display: none;\n",
              "      fill: #1967D2;\n",
              "      height: 32px;\n",
              "      padding: 0 0 0 0;\n",
              "      width: 32px;\n",
              "    }\n",
              "\n",
              "    .colab-df-convert:hover {\n",
              "      background-color: #E2EBFA;\n",
              "      box-shadow: 0px 1px 2px rgba(60, 64, 67, 0.3), 0px 1px 3px 1px rgba(60, 64, 67, 0.15);\n",
              "      fill: #174EA6;\n",
              "    }\n",
              "\n",
              "    .colab-df-buttons div {\n",
              "      margin-bottom: 4px;\n",
              "    }\n",
              "\n",
              "    [theme=dark] .colab-df-convert {\n",
              "      background-color: #3B4455;\n",
              "      fill: #D2E3FC;\n",
              "    }\n",
              "\n",
              "    [theme=dark] .colab-df-convert:hover {\n",
              "      background-color: #434B5C;\n",
              "      box-shadow: 0px 1px 3px 1px rgba(0, 0, 0, 0.15);\n",
              "      filter: drop-shadow(0px 1px 2px rgba(0, 0, 0, 0.3));\n",
              "      fill: #FFFFFF;\n",
              "    }\n",
              "  </style>\n",
              "\n",
              "    <script>\n",
              "      const buttonEl =\n",
              "        document.querySelector('#df-831e8c26-3a5f-48a5-a52c-a1072f32422f button.colab-df-convert');\n",
              "      buttonEl.style.display =\n",
              "        google.colab.kernel.accessAllowed ? 'block' : 'none';\n",
              "\n",
              "      async function convertToInteractive(key) {\n",
              "        const element = document.querySelector('#df-831e8c26-3a5f-48a5-a52c-a1072f32422f');\n",
              "        const dataTable =\n",
              "          await google.colab.kernel.invokeFunction('convertToInteractive',\n",
              "                                                    [key], {});\n",
              "        if (!dataTable) return;\n",
              "\n",
              "        const docLinkHtml = 'Like what you see? Visit the ' +\n",
              "          '<a target=\"_blank\" href=https://colab.research.google.com/notebooks/data_table.ipynb>data table notebook</a>'\n",
              "          + ' to learn more about interactive tables.';\n",
              "        element.innerHTML = '';\n",
              "        dataTable['output_type'] = 'display_data';\n",
              "        await google.colab.output.renderOutput(dataTable, element);\n",
              "        const docLink = document.createElement('div');\n",
              "        docLink.innerHTML = docLinkHtml;\n",
              "        element.appendChild(docLink);\n",
              "      }\n",
              "    </script>\n",
              "  </div>\n",
              "\n",
              "\n",
              "<div id=\"df-e0f3d4ca-08fc-49c8-b0c4-89d15cf7200c\">\n",
              "  <button class=\"colab-df-quickchart\" onclick=\"quickchart('df-e0f3d4ca-08fc-49c8-b0c4-89d15cf7200c')\"\n",
              "            title=\"Suggest charts\"\n",
              "            style=\"display:none;\">\n",
              "\n",
              "<svg xmlns=\"http://www.w3.org/2000/svg\" height=\"24px\"viewBox=\"0 0 24 24\"\n",
              "     width=\"24px\">\n",
              "    <g>\n",
              "        <path d=\"M19 3H5c-1.1 0-2 .9-2 2v14c0 1.1.9 2 2 2h14c1.1 0 2-.9 2-2V5c0-1.1-.9-2-2-2zM9 17H7v-7h2v7zm4 0h-2V7h2v10zm4 0h-2v-4h2v4z\"/>\n",
              "    </g>\n",
              "</svg>\n",
              "  </button>\n",
              "\n",
              "<style>\n",
              "  .colab-df-quickchart {\n",
              "      --bg-color: #E8F0FE;\n",
              "      --fill-color: #1967D2;\n",
              "      --hover-bg-color: #E2EBFA;\n",
              "      --hover-fill-color: #174EA6;\n",
              "      --disabled-fill-color: #AAA;\n",
              "      --disabled-bg-color: #DDD;\n",
              "  }\n",
              "\n",
              "  [theme=dark] .colab-df-quickchart {\n",
              "      --bg-color: #3B4455;\n",
              "      --fill-color: #D2E3FC;\n",
              "      --hover-bg-color: #434B5C;\n",
              "      --hover-fill-color: #FFFFFF;\n",
              "      --disabled-bg-color: #3B4455;\n",
              "      --disabled-fill-color: #666;\n",
              "  }\n",
              "\n",
              "  .colab-df-quickchart {\n",
              "    background-color: var(--bg-color);\n",
              "    border: none;\n",
              "    border-radius: 50%;\n",
              "    cursor: pointer;\n",
              "    display: none;\n",
              "    fill: var(--fill-color);\n",
              "    height: 32px;\n",
              "    padding: 0;\n",
              "    width: 32px;\n",
              "  }\n",
              "\n",
              "  .colab-df-quickchart:hover {\n",
              "    background-color: var(--hover-bg-color);\n",
              "    box-shadow: 0 1px 2px rgba(60, 64, 67, 0.3), 0 1px 3px 1px rgba(60, 64, 67, 0.15);\n",
              "    fill: var(--button-hover-fill-color);\n",
              "  }\n",
              "\n",
              "  .colab-df-quickchart-complete:disabled,\n",
              "  .colab-df-quickchart-complete:disabled:hover {\n",
              "    background-color: var(--disabled-bg-color);\n",
              "    fill: var(--disabled-fill-color);\n",
              "    box-shadow: none;\n",
              "  }\n",
              "\n",
              "  .colab-df-spinner {\n",
              "    border: 2px solid var(--fill-color);\n",
              "    border-color: transparent;\n",
              "    border-bottom-color: var(--fill-color);\n",
              "    animation:\n",
              "      spin 1s steps(1) infinite;\n",
              "  }\n",
              "\n",
              "  @keyframes spin {\n",
              "    0% {\n",
              "      border-color: transparent;\n",
              "      border-bottom-color: var(--fill-color);\n",
              "      border-left-color: var(--fill-color);\n",
              "    }\n",
              "    20% {\n",
              "      border-color: transparent;\n",
              "      border-left-color: var(--fill-color);\n",
              "      border-top-color: var(--fill-color);\n",
              "    }\n",
              "    30% {\n",
              "      border-color: transparent;\n",
              "      border-left-color: var(--fill-color);\n",
              "      border-top-color: var(--fill-color);\n",
              "      border-right-color: var(--fill-color);\n",
              "    }\n",
              "    40% {\n",
              "      border-color: transparent;\n",
              "      border-right-color: var(--fill-color);\n",
              "      border-top-color: var(--fill-color);\n",
              "    }\n",
              "    60% {\n",
              "      border-color: transparent;\n",
              "      border-right-color: var(--fill-color);\n",
              "    }\n",
              "    80% {\n",
              "      border-color: transparent;\n",
              "      border-right-color: var(--fill-color);\n",
              "      border-bottom-color: var(--fill-color);\n",
              "    }\n",
              "    90% {\n",
              "      border-color: transparent;\n",
              "      border-bottom-color: var(--fill-color);\n",
              "    }\n",
              "  }\n",
              "</style>\n",
              "\n",
              "  <script>\n",
              "    async function quickchart(key) {\n",
              "      const quickchartButtonEl =\n",
              "        document.querySelector('#' + key + ' button');\n",
              "      quickchartButtonEl.disabled = true;  // To prevent multiple clicks.\n",
              "      quickchartButtonEl.classList.add('colab-df-spinner');\n",
              "      try {\n",
              "        const charts = await google.colab.kernel.invokeFunction(\n",
              "            'suggestCharts', [key], {});\n",
              "      } catch (error) {\n",
              "        console.error('Error during call to suggestCharts:', error);\n",
              "      }\n",
              "      quickchartButtonEl.classList.remove('colab-df-spinner');\n",
              "      quickchartButtonEl.classList.add('colab-df-quickchart-complete');\n",
              "    }\n",
              "    (() => {\n",
              "      let quickchartButtonEl =\n",
              "        document.querySelector('#df-e0f3d4ca-08fc-49c8-b0c4-89d15cf7200c button');\n",
              "      quickchartButtonEl.style.display =\n",
              "        google.colab.kernel.accessAllowed ? 'block' : 'none';\n",
              "    })();\n",
              "  </script>\n",
              "</div>\n",
              "    </div>\n",
              "  </div>\n"
            ],
            "application/vnd.google.colaboratory.intrinsic+json": {
              "type": "dataframe",
              "summary": "{\n  \"name\": \"dados\",\n  \"rows\": 701,\n  \"fields\": [\n    {\n      \"column\": \"bairro\",\n      \"properties\": {\n        \"dtype\": \"string\",\n        \"num_unique_values\": 701,\n        \"samples\": [\n          \"Jardim Rizzo\",\n          \"Jardim Jap\\u00e3o\",\n          \"Real Parque\"\n        ],\n        \"semantic_type\": \"\",\n        \"description\": \"\"\n      }\n    },\n    {\n      \"column\": \"metragem\",\n      \"properties\": {\n        \"dtype\": \"number\",\n        \"std\": 1403.2680093804254,\n        \"min\": 10.0,\n        \"max\": 37000.0,\n        \"num_unique_values\": 528,\n        \"samples\": [\n          270.05,\n          147.75,\n          1084.0454545454545\n        ],\n        \"semantic_type\": \"\",\n        \"description\": \"\"\n      }\n    }\n  ]\n}"
            }
          },
          "metadata": {},
          "execution_count": 12
        }
      ]
    },
    {
      "cell_type": "markdown",
      "source": [
        "2 formas de selecionar os dados por bairro (consultar os métodos na documentação do pandas)"
      ],
      "metadata": {
        "id": "4hsd8bQLyBq4"
      }
    },
    {
      "cell_type": "code",
      "source": [
        "dados.bairro"
      ],
      "metadata": {
        "colab": {
          "base_uri": "https://localhost:8080/"
        },
        "id": "6eoDc_Yv359t",
        "outputId": "375a505a-c1f0-424f-8a47-2eac38f79b44"
      },
      "execution_count": null,
      "outputs": [
        {
          "output_type": "execute_result",
          "data": {
            "text/plain": [
              "0         Planalto Paulista\n",
              "1        Jardim dos Estados\n",
              "2           Jardim Reimberg\n",
              "3            Jardim Morumbi\n",
              "4                     Mooca\n",
              "                ...        \n",
              "10003            Vila Sofia\n",
              "10004       Bosque da Saúde\n",
              "10005         Vila da Saúde\n",
              "10006         Vila Oratório\n",
              "10007           Vila Alpina\n",
              "Name: bairro, Length: 10008, dtype: object"
            ]
          },
          "metadata": {},
          "execution_count": 13
        }
      ]
    },
    {
      "cell_type": "code",
      "source": [
        "dados['bairro']"
      ],
      "metadata": {
        "colab": {
          "base_uri": "https://localhost:8080/"
        },
        "id": "O0asBXq735_s",
        "outputId": "eb1d8516-b29d-4801-bf3d-9e7838c86b16"
      },
      "execution_count": null,
      "outputs": [
        {
          "output_type": "execute_result",
          "data": {
            "text/plain": [
              "0         Planalto Paulista\n",
              "1        Jardim dos Estados\n",
              "2           Jardim Reimberg\n",
              "3            Jardim Morumbi\n",
              "4                     Mooca\n",
              "                ...        \n",
              "10003            Vila Sofia\n",
              "10004       Bosque da Saúde\n",
              "10005         Vila da Saúde\n",
              "10006         Vila Oratório\n",
              "10007           Vila Alpina\n",
              "Name: bairro, Length: 10008, dtype: object"
            ]
          },
          "metadata": {},
          "execution_count": 14
        }
      ]
    },
    {
      "cell_type": "code",
      "source": [
        "dados.get('bairro')"
      ],
      "metadata": {
        "colab": {
          "base_uri": "https://localhost:8080/"
        },
        "id": "1dpKVFXk36CM",
        "outputId": "20e2e0f0-ab86-47fe-ec3e-25af5185c341"
      },
      "execution_count": null,
      "outputs": [
        {
          "output_type": "execute_result",
          "data": {
            "text/plain": [
              "0         Planalto Paulista\n",
              "1        Jardim dos Estados\n",
              "2           Jardim Reimberg\n",
              "3            Jardim Morumbi\n",
              "4                     Mooca\n",
              "                ...        \n",
              "10003            Vila Sofia\n",
              "10004       Bosque da Saúde\n",
              "10005         Vila da Saúde\n",
              "10006         Vila Oratório\n",
              "10007           Vila Alpina\n",
              "Name: bairro, Length: 10008, dtype: object"
            ]
          },
          "metadata": {},
          "execution_count": 15
        }
      ]
    },
    {
      "cell_type": "code",
      "source": [
        "dados.loc[:, 'bairro']"
      ],
      "metadata": {
        "colab": {
          "base_uri": "https://localhost:8080/"
        },
        "id": "PzbZbnJf4FJN",
        "outputId": "f5319b8a-cff3-4bc2-edfb-a28c9b5701ee"
      },
      "execution_count": null,
      "outputs": [
        {
          "output_type": "execute_result",
          "data": {
            "text/plain": [
              "0         Planalto Paulista\n",
              "1        Jardim dos Estados\n",
              "2           Jardim Reimberg\n",
              "3            Jardim Morumbi\n",
              "4                     Mooca\n",
              "                ...        \n",
              "10003            Vila Sofia\n",
              "10004       Bosque da Saúde\n",
              "10005         Vila da Saúde\n",
              "10006         Vila Oratório\n",
              "10007           Vila Alpina\n",
              "Name: bairro, Length: 10008, dtype: object"
            ]
          },
          "metadata": {},
          "execution_count": 16
        }
      ]
    },
    {
      "cell_type": "markdown",
      "source": [
        "3 - Explorar alguns gráficos na documentação e aplicar nas demais colunas do DF, tentar colocar alguma conclusão"
      ],
      "metadata": {
        "id": "NNtxFOLWyDDJ"
      }
    },
    {
      "cell_type": "code",
      "source": [
        "dados[dados.valor.str.contains('\\n                      /Mês')].valor"
      ],
      "metadata": {
        "colab": {
          "base_uri": "https://localhost:8080/"
        },
        "id": "WaIgAq-f8G55",
        "outputId": "8e66d29e-93ee-4bb2-bdb4-ea1dba44f9df"
      },
      "execution_count": null,
      "outputs": [
        {
          "output_type": "execute_result",
          "data": {
            "text/plain": [
              "151      R$ 11.000\\n                      /Mês\n",
              "156      R$ 12.000\\n                      /Mês\n",
              "175      R$ 25.000\\n                      /Mês\n",
              "178      R$ 30.000\\n                      /Mês\n",
              "182      R$ 10.000\\n                      /Mês\n",
              "                         ...                  \n",
              "9934      R$ 2.200\\n                      /Mês\n",
              "9941      R$ 6.000\\n                      /Mês\n",
              "9970      R$ 2.200\\n                      /Mês\n",
              "9977      R$ 6.000\\n                      /Mês\n",
              "10006     R$ 2.200\\n                      /Mês\n",
              "Name: valor, Length: 848, dtype: object"
            ]
          },
          "metadata": {},
          "execution_count": 17
        }
      ]
    },
    {
      "cell_type": "code",
      "source": [
        "def converter(valor):\n",
        "  # assumindo que está catalogado por dia\n",
        "  valor = valor.replace('R$ ', '')\n",
        "  valor = valor.replace('.', '')\n",
        "\n",
        "  if 'M' in valor or 'A' in valor or 'D' in valor:\n",
        "      if 'M' in valor:\n",
        "        valor = valor.replace('\\n                      /Mês', '')\n",
        "        valor = float(valor)\n",
        "        valor /= 30\n",
        "\n",
        "      elif 'A' in valor:\n",
        "        valor = valor.replace('\\n                      /Ano', '')\n",
        "        valor = float(valor)\n",
        "        valor /= 365\n",
        "\n",
        "      else:\n",
        "        valor = valor.replace('\\n                      /Dia', '')\n",
        "        valor = float(valor)\n",
        "        valor *= 1\n",
        "\n",
        "  return valor"
      ],
      "metadata": {
        "id": "ZS-LEvLy7kV5"
      },
      "execution_count": null,
      "outputs": []
    },
    {
      "cell_type": "code",
      "source": [
        "dados.valor.apply(lambda x: converter(x))\n",
        "\n",
        "dados.valor = dados.valor.apply(lambda linha: converter(linha))"
      ],
      "metadata": {
        "id": "CUppjaew9n7d"
      },
      "execution_count": null,
      "outputs": []
    },
    {
      "cell_type": "code",
      "source": [
        "dados.valor = dados.valor.str.replace('R$ ', '', regex=False)\n",
        "dados.valor = dados.valor.str.replace('.', '', regex=False)\n",
        "dados.valor.unique()"
      ],
      "metadata": {
        "colab": {
          "base_uri": "https://localhost:8080/"
        },
        "id": "EY2Eha0e4d7v",
        "outputId": "5e5102db-27ea-4049-b883-d204e5cb75ec"
      },
      "execution_count": null,
      "outputs": [
        {
          "output_type": "execute_result",
          "data": {
            "text/plain": [
              "array(['7000000', '3700000', '380000', '685000', '540000', '1980000',\n",
              "       '850000', '450000', '199900', '585000', '700000', '15000',\n",
              "       '2500000', '1700000', '1150000', '550000', '420000', '2232000',\n",
              "       '2700000', '4190000', '860000', '650000', '490000', '1485000',\n",
              "       '1100000', '2985000', '3100000', '8700000', '849000', '890000',\n",
              "       '1650000', '445000', '425000', '500000', '1060000', '3890000',\n",
              "       '2200000', '1250000', '390000', '1600000', '370000', '130000',\n",
              "       '545000', '520000', '325000', '409000', '1500000', '5500000',\n",
              "       '250000', '775000', '13000', '780000', '980000', '750000',\n",
              "       '1680000', '14500000', '1237000', '950000', '510000', '4240000',\n",
              "       '2190000', '2180000', '398000', '1390000', '530000', '1280000',\n",
              "       '6500000', '2900000', '3500000', '670000', '470000', '2400000',\n",
              "       '1350000', '800000', '630000', '1063830', '1800000', '2950000',\n",
              "       '37000000', '1200000', '4950000', '920000', '30000000', '940000',\n",
              "       '6200000', '8000000', '430000', '2014000', '820000', '3950000',\n",
              "       '2450000', '486000', '680000', '245000', '610000', '460000',\n",
              "       '270000', '1750000', '1050000', '3480000', '7900000', '4500000',\n",
              "       '3000000', '620000', '987000', '350000', '600000', '16000000', nan,\n",
              "       '900000', '2140000', '1490000', '1000000', '1900000', '621000',\n",
              "       '1300000', '1969000', '6360000', '1550000', '688000', '2340000',\n",
              "       '580000', '570000', '480000', '300000', '5100000', '1272000',\n",
              "       '1850000', '455000', '26600000', '3150000', '11489000', '251000',\n",
              "       '595000', '960000', '2160000', '3290000', '3650000', '3600000',\n",
              "       '374500', '660000', '990000', '2750000', '949000', '710000',\n",
              "       '972000', '2100000', '590000', '2350000', '870000', '340000',\n",
              "       '9500000', '1290000', '11700000', '2590000', '3995000', '22000000',\n",
              "       '10600000', '2000000', '2850000', '440000', '799000', '190000',\n",
              "       '559000', '2240000', '2150000', '1070000', '2890000', '435000',\n",
              "       '6900000', '1620000', '2290000', '1780000', '3200000', '3490000',\n",
              "       '9890000', '4000000', '3800000', '690000', '10000000', '315000',\n",
              "       '3880000', '795000', '2300000', '2800000', '1740000', '3350000',\n",
              "       '475000', '5600000', '3300000', '1450000', '1090000', '360000',\n",
              "       '305000', '1745000', '1420000', '5200000', '4100000', '369999',\n",
              "       '3900000', '1389000', '565000', '689900', '589000', '830000',\n",
              "       '598000', '625400', '65000000', '4250000', '1400000', '2995000',\n",
              "       '4200000', '770000', '2980000', '15500000', '4700000', '400000',\n",
              "       '1950000', '5995500', '3280000', '2111000', '4490000', '5797000',\n",
              "       '1595000', '9900000', '200000', '791000', '1864500', '7200000',\n",
              "       '1276600', '852000', '2020000', '2226000', '11990000', '1270000',\n",
              "       '2128000', '1180000', '1914893', '1332000', '9396000', '1219000',\n",
              "       '2250000', '1915000', '840000', '5050000', '745000', '1691000',\n",
              "       '295000', '1590000', '5950000', '25000000', '1310000', '371000',\n",
              "       '8980000', '4600000', '4800000', '5320000', '1880000', '1990000',\n",
              "       '695000', '3180000', '1890000', '692000', '768000', '3450000',\n",
              "       '790000', '5000000', '3400000', '12000000', '1120000', '6300000',\n",
              "       '6000000', '1190000', '3610000', '26000000', '2990000', '9000000',\n",
              "       '5800000', '3750000', '4300000', '985000', '5250000', '2050000',\n",
              "       '2600000', '5400000', '7700000', '4750000', '954000', '1930000',\n",
              "       '2580000', '4150000', '3390000', '26500000', '6400000', '27000000',\n",
              "       '1279000', '536000', '14000000', '1710000', '5900000', '15000000',\n",
              "       '11000000', '4650000', '7500000', '636000', '3030000', '20000000',\n",
              "       '10500000', '5880000', '10400000', '2490000', '4900000', '730000',\n",
              "       '2660000', '12500000', '1395000', '330000', '6450000', '1690000',\n",
              "       '439998', '6800000', '6750000', '6890000', '3990000', '2970000',\n",
              "       '6100000', '2820000', '579000', '4350000', '5300000', '8500000',\n",
              "       '2597000', '1175000', '8300000', '3850000', '4400000', '18000000',\n",
              "       '6599000', '560000', '19000000', '9200000', '1810000', '16900000',\n",
              "       '2680000', '720000', '1380000', '2239369', '2862000', '7400000',\n",
              "       '2550000', '4260000', '4990000', '8550000', '2130000', '1580000',\n",
              "       '6920000', '2650000', '671000', '8100000', '8400000', '5790000',\n",
              "       '1895000', '1999000', '18720000', '970000', '711000', '786000',\n",
              "       '7410000', '3999000', '3960000', '13000000', '4255000', '14900000',\n",
              "       '848000', '1970000', '4440000', '1160000', '555000', '691489',\n",
              "       '3195000', '4050000', '6990000', '5700000', '8200000', '843000',\n",
              "       '1845000', '3985000', '3086000', '147288', '2199997', '1265000',\n",
              "       '5890000', '1470000', '2979000', '2880000', '1860000', '1262000',\n",
              "       '583000', '485000', '1695000', '8900000', '1285000', '1282400',\n",
              "       '7750000', '2460000', '5350000', '2241000', '2480000', '880000',\n",
              "       '855000', '1170000', '1540000', '1321000', '11600000', '11500000',\n",
              "       '865000', '3883000', '2335000', '28000000', '640000', '798000',\n",
              "       '3035000', '1910000', '23000000', '1498000', '1975000', '255000',\n",
              "       '639000', '1570000', '13500000', '1790000', '7250000', '699000',\n",
              "       '3723000', '1720000', '2780000', '905000', '1820000', '9800000',\n",
              "       '12800000', '3640000', '7300000', '822000', '2690000', '9600000',\n",
              "       '6950000', '6600000', '8250000', '1049400', '2080000', '599000',\n",
              "       '25500000', '4495000', '5750000', '7800000', '23600000', '2640000',\n",
              "       '5990000', '1355010', '495000', '691000', '1596000', '4043000',\n",
              "       '1383000', '638500', '19800000', '15499000', '1172000', '2021300',\n",
              "       '4570000', '452000', '1908000', '3310000', '2565000', '1277000',\n",
              "       '429000', '915000', '8600000', '8790000', '851000', '1030000',\n",
              "       '930000', '1385000', '4787000', '498000', '2540000', '479000',\n",
              "       '328900', '2790000', '14700000', '5850000', '421000', '9040000',\n",
              "       '3210000', '2120000', '16500000', '4074000', '405000', '2390000',\n",
              "       '35000000', '1779990', '13900000', '9580000', '3160000', '1080000',\n",
              "       '3250000', '25600000', '5290000', '1095000', '6863720', '531000',\n",
              "       '760000', '4340000', '1599000', '3672500', '1020000', '946000',\n",
              "       '3190000', '4032000', '17000000', '8990000', '345000', '2230000',\n",
              "       '899990', '9050000', '12720000', '265000', '1245000', '2389000',\n",
              "       '563000', '2930000', '17500000', '320000', '532000', '4850000',\n",
              "       '1330000', '4949000', '399000', '1670000', '5550000', '535000',\n",
              "       '2380000', '914000', '45825000', '1630000', '7243185', '999999',\n",
              "       '426000', '1370000', '1585000', '810000', '11900000', '4980000',\n",
              "       '785000', '3286000', '5499000', '22800000', '885000', '3620000',\n",
              "       '2420000', '7599600', '10750000', '1940000', '2630000', '20640000',\n",
              "       '2295000', '1198000', '3845000', '975000', '4920000', '1230000',\n",
              "       '8067520', '4975000', '12990000', '1010000', '14600000', '2260000',\n",
              "       '3192000', '289000', '410000', '895000', '740000', '910000',\n",
              "       '1440000', '1430000', '8129860', '10900000', '995000', '445200',\n",
              "       '742000', '1099000', '5450000', '1068000', '1730000', '466000',\n",
              "       '4770000', '741000', '3149000', '2332000', '725000', '989000',\n",
              "       '298000', '549000', '2498000', '945000', '180000', '1500001',\n",
              "       '1499000', '480012', '4412000', '499998', '3540000', '1999900',\n",
              "       '1360000', '1399900', '5897000', '499000', '658000', '997000',\n",
              "       '1900010', '8599000', '586000', '7600000', '735000', '10300000',\n",
              "       '4890000', '5490000', '2758000', '899000', '10700000', '1675000',\n",
              "       '385000', '29780000', '352800', '1729000', '2370000', '765000',\n",
              "       '339900', '1009900', '2395000', '2495000', '2280000', '259692',\n",
              "       '1250010', '1544000', '809000', '958000', '355000', '4280000',\n",
              "       '2210000', '6850000', '1696000', '584998', '1645000', '462770',\n",
              "       '1914000', '772000', '724000', '991000', '719000', '1520000',\n",
              "       '853100', '447000', '2400010', '1099950', '1920000', '252900',\n",
              "       '12160000', '1796000', '839000', '6700000', '7699000', '693000',\n",
              "       '947000', '2765000', '675000', '1601000', '1130000', '382000',\n",
              "       '957010', '6340000', '3920000', '1760000', '1568000', '525000',\n",
              "       '12250000', '2345000', '1295000', '846000', '1703000', '55000000',\n",
              "       '188682', '3598010', '863010', '797900', '1387000', '2440000',\n",
              "       '2022000', '3980000', '635000', '3064000', '678000', '2870000',\n",
              "       '897000', '1636700', '999900', '2999800', '689000', '1799010',\n",
              "       '2819000', '2009000', '721000', '1011000', '280000', '649900',\n",
              "       '8634300', '387000', '260000', '375000', '1220000', '827739',\n",
              "       '2015000', '3405000', '845000', '2940000', '18900000', '929000',\n",
              "       '349800', '841750', '645000', '1510000', '4560000', '2915000',\n",
              "       '1535000', '479900', '1480000', '395000', '379000', '1085000',\n",
              "       '648000', '1319500', '1298000', '196000', '4499000', '1340999',\n",
              "       '596000', '619000', '749000', '200038', '953000', '650010',\n",
              "       '1830000', '579900', '797000', '998000', '1040000', '665000',\n",
              "       '614800', '939000', '1199999', '7497000', '1249000', '257600',\n",
              "       '1705000', '1045000', '448970', '394550', '606000', '2875000',\n",
              "       '7920000', '573000', '261252', '1684000', '2184000', '467000',\n",
              "       '1802000', '20200000', '2759000', '277780', '317990', '763200',\n",
              "       '999000', '7980000', '965000', '830010', '823400', '372000',\n",
              "       '4461000', '319800', '21999000', '1349000', '957000', '855159',\n",
              "       '419000', '878000', '2197000', '784000', '669000', '300004',\n",
              "       '6895000', '649990', '465000', '509000', '15958000', '515000',\n",
              "       '477000', '1396369', '1399000', '1065000', '2553191', '789500',\n",
              "       '1699999', '1277250', '361200', '401100', '5899000', '896000',\n",
              "       '649000', '605000', '948000', '403000', '655000', '429999',\n",
              "       '1995000', '354000', '3780000', '5799000', '575000', '615000',\n",
              "       '304500', '32000000', '1578010', '859000', '286000', '165000',\n",
              "       '1600003', '2549800', '369000', '622500', '719999', '1648000',\n",
              "       '365000', '367929', '1378000', '4390000', '386250', '264214',\n",
              "       '16497000', '3739000', '290000', '587000', '959075', '4510000',\n",
              "       '419900', '215118', '1770000', '213850', '699300', '4550000',\n",
              "       '1978000', '899900', '230000', '220000', '459000', '352950',\n",
              "       '1452000', '625000', '842700', '3140000', '729000', '508000',\n",
              "       '790558', '19150000', '790004', '233376', '1340000', '1375000',\n",
              "       '359000', '3195980', '3191489', '900001', '785005', '2350014',\n",
              "       '1210000', '1260000', '732000', '6180000', '328000', '1195000',\n",
              "       '420013', '698000', '759000', '3998000', '1145000', '519000',\n",
              "       '436000', '2356800', '2868500', '4790000', '335004', '1682000',\n",
              "       '936000', '913900', '955000', '428000', '519800', '749870',\n",
              "       '1484000', '3540100', '649999', '1530000', '3895000', '5899900',\n",
              "       '8690000', '705000', '13499900', '2840000', '11980000', '1171000',\n",
              "       '825000', '160000', '646761', '720001', '1299000', '2093000',\n",
              "       '3229000', '1850001', '424000', '385001', '222950', '12600000',\n",
              "       '538000', '320004', '3500001', '386234', '797872', '639001',\n",
              "       '850001', '553000', '951000'], dtype=object)"
            ]
          },
          "metadata": {},
          "execution_count": 20
        }
      ]
    },
    {
      "cell_type": "code",
      "source": [
        "dados.valor = dados.valor.str.replace('\\n                      /Mês', '', regex=False)\n",
        "dados.valor = dados.valor.str.replace('\\n                      /Ano', '', regex=False)\n",
        "dados.valor = dados.valor.str.replace('\\n                      /Dia', '', regex=False)"
      ],
      "metadata": {
        "id": "DBUYnCMZ7iO5"
      },
      "execution_count": null,
      "outputs": []
    },
    {
      "cell_type": "code",
      "source": [
        "dados.valor = dados.valor.astype(np.float64)\n",
        "dados.valor.info()"
      ],
      "metadata": {
        "colab": {
          "base_uri": "https://localhost:8080/"
        },
        "id": "W-Mz-ldY4Ide",
        "outputId": "6e914efe-711c-48ed-f077-e0db0309feb3"
      },
      "execution_count": null,
      "outputs": [
        {
          "output_type": "stream",
          "name": "stdout",
          "text": [
            "<class 'pandas.core.series.Series'>\n",
            "RangeIndex: 10008 entries, 0 to 10007\n",
            "Series name: valor\n",
            "Non-Null Count  Dtype  \n",
            "--------------  -----  \n",
            "9156 non-null   float64\n",
            "dtypes: float64(1)\n",
            "memory usage: 78.3 KB\n"
          ]
        }
      ]
    },
    {
      "cell_type": "code",
      "source": [
        "dados.banheiros.info()"
      ],
      "metadata": {
        "colab": {
          "base_uri": "https://localhost:8080/"
        },
        "id": "OZ-CbzHwGg5G",
        "outputId": "db5a0051-5500-4eab-ed72-ab0bc65b56d0"
      },
      "execution_count": null,
      "outputs": [
        {
          "output_type": "stream",
          "name": "stdout",
          "text": [
            "<class 'pandas.core.series.Series'>\n",
            "RangeIndex: 10008 entries, 0 to 10007\n",
            "Series name: banheiros\n",
            "Non-Null Count  Dtype\n",
            "--------------  -----\n",
            "10008 non-null  int64\n",
            "dtypes: int64(1)\n",
            "memory usage: 78.3 KB\n"
          ]
        }
      ]
    },
    {
      "cell_type": "code",
      "source": [
        "srn.boxplot(dados.banheiros)"
      ],
      "metadata": {
        "colab": {
          "base_uri": "https://localhost:8080/",
          "height": 428
        },
        "id": "y6wIiibG4Ih0",
        "outputId": "caf0456a-2e2c-4036-e3de-94274e49faea"
      },
      "execution_count": null,
      "outputs": [
        {
          "output_type": "execute_result",
          "data": {
            "text/plain": [
              "<Axes: ylabel='banheiros'>"
            ]
          },
          "metadata": {},
          "execution_count": 24
        },
        {
          "output_type": "display_data",
          "data": {
            "text/plain": [
              "<Figure size 640x480 with 1 Axes>"
            ],
            "image/png": "[encoded data removed]"
          },
          "metadata": {}
        }
      ]
    },
    {
      "cell_type": "code",
      "source": [
        "# conclusão: analisar se esses outliers de banheiros tratam\n",
        "# de prédios comerciais ou coisa do tipo ou se não outliers mesmo"
      ],
      "metadata": {
        "id": "oXU3Vm_ZGwGP"
      },
      "execution_count": null,
      "outputs": []
    },
    {
      "cell_type": "code",
      "source": [
        "colunas = ['bairro', 'valor']\n",
        "\n",
        "dados[colunas].sort_values(by='valor', ascending=False)"
      ],
      "metadata": {
        "colab": {
          "base_uri": "https://localhost:8080/",
          "height": 424
        },
        "id": "AMPkwv4mHjSJ",
        "outputId": "f32fa997-553e-4534-e539-33807d276639"
      },
      "execution_count": null,
      "outputs": [
        {
          "output_type": "execute_result",
          "data": {
            "text/plain": [
              "                  bairro       valor\n",
              "400        Jardim Europa  65000000.0\n",
              "1530      Jardim América  65000000.0\n",
              "6882      Jardim América  65000000.0\n",
              "6131      Jardim América  55000000.0\n",
              "3542      Jardim América  45825000.0\n",
              "...                  ...         ...\n",
              "9934       Vila Oratório         NaN\n",
              "9941   Jardim Petrópolis         NaN\n",
              "9970       Vila Oratório         NaN\n",
              "9977   Jardim Petrópolis         NaN\n",
              "10006      Vila Oratório         NaN\n",
              "\n",
              "[10008 rows x 2 columns]"
            ],
            "text/html": [
              "\n",
              "  <div id=\"df-e5f8afad-851c-430a-be14-ab75b06a6a34\" class=\"colab-df-container\">\n",
              "    <div>\n",
              "<style scoped>\n",
              "    .dataframe tbody tr th:only-of-type {\n",
              "        vertical-align: middle;\n",
              "    }\n",
              "\n",
              "    .dataframe tbody tr th {\n",
              "        vertical-align: top;\n",
              "    }\n",
              "\n",
              "    .dataframe thead th {\n",
              "        text-align: right;\n",
              "    }\n",
              "</style>\n",
              "<table border=\"1\" class=\"dataframe\">\n",
              "  <thead>\n",
              "    <tr style=\"text-align: right;\">\n",
              "      <th></th>\n",
              "      <th>bairro</th>\n",
              "      <th>valor</th>\n",
              "    </tr>\n",
              "  </thead>\n",
              "  <tbody>\n",
              "    <tr>\n",
              "      <th>400</th>\n",
              "      <td>Jardim Europa</td>\n",
              "      <td>65000000.0</td>\n",
              "    </tr>\n",
              "    <tr>\n",
              "      <th>1530</th>\n",
              "      <td>Jardim América</td>\n",
              "      <td>65000000.0</td>\n",
              "    </tr>\n",
              "    <tr>\n",
              "      <th>6882</th>\n",
              "      <td>Jardim América</td>\n",
              "      <td>65000000.0</td>\n",
              "    </tr>\n",
              "    <tr>\n",
              "      <th>6131</th>\n",
              "      <td>Jardim América</td>\n",
              "      <td>55000000.0</td>\n",
              "    </tr>\n",
              "    <tr>\n",
              "      <th>3542</th>\n",
              "      <td>Jardim América</td>\n",
              "      <td>45825000.0</td>\n",
              "    </tr>\n",
              "    <tr>\n",
              "      <th>...</th>\n",
              "      <td>...</td>\n",
              "      <td>...</td>\n",
              "    </tr>\n",
              "    <tr>\n",
              "      <th>9934</th>\n",
              "      <td>Vila Oratório</td>\n",
              "      <td>NaN</td>\n",
              "    </tr>\n",
              "    <tr>\n",
              "      <th>9941</th>\n",
              "      <td>Jardim Petrópolis</td>\n",
              "      <td>NaN</td>\n",
              "    </tr>\n",
              "    <tr>\n",
              "      <th>9970</th>\n",
              "      <td>Vila Oratório</td>\n",
              "      <td>NaN</td>\n",
              "    </tr>\n",
              "    <tr>\n",
              "      <th>9977</th>\n",
              "      <td>Jardim Petrópolis</td>\n",
              "      <td>NaN</td>\n",
              "    </tr>\n",
              "    <tr>\n",
              "      <th>10006</th>\n",
              "      <td>Vila Oratório</td>\n",
              "      <td>NaN</td>\n",
              "    </tr>\n",
              "  </tbody>\n",
              "</table>\n",
              "<p>10008 rows × 2 columns</p>\n",
              "</div>\n",
              "    <div class=\"colab-df-buttons\">\n",
              "\n",
              "  <div class=\"colab-df-container\">\n",
              "    <button class=\"colab-df-convert\" onclick=\"convertToInteractive('df-e5f8afad-851c-430a-be14-ab75b06a6a34')\"\n",
              "            title=\"Convert this dataframe to an interactive table.\"\n",
              "            style=\"display:none;\">\n",
              "\n",
              "  <svg xmlns=\"http://www.w3.org/2000/svg\" height=\"24px\" viewBox=\"0 -960 960 960\">\n",
              "    <path d=\"M120-120v-720h720v720H120Zm60-500h600v-160H180v160Zm220 220h160v-160H400v160Zm0 220h160v-160H400v160ZM180-400h160v-160H180v160Zm440 0h160v-160H620v160ZM180-180h160v-160H180v160Zm440 0h160v-160H620v160Z\"/>\n",
              "  </svg>\n",
              "    </button>\n",
              "\n",
              "  <style>\n",
              "    .colab-df-container {\n",
              "      display:flex;\n",
              "      gap: 12px;\n",
              "    }\n",
              "\n",
              "    .colab-df-convert {\n",
              "      background-color: #E8F0FE;\n",
              "      border: none;\n",
              "      border-radius: 50%;\n",
              "      cursor: pointer;\n",
              "      display: none;\n",
              "      fill: #1967D2;\n",
              "      height: 32px;\n",
              "      padding: 0 0 0 0;\n",
              "      width: 32px;\n",
              "    }\n",
              "\n",
              "    .colab-df-convert:hover {\n",
              "      background-color: #E2EBFA;\n",
              "      box-shadow: 0px 1px 2px rgba(60, 64, 67, 0.3), 0px 1px 3px 1px rgba(60, 64, 67, 0.15);\n",
              "      fill: #174EA6;\n",
              "    }\n",
              "\n",
              "    .colab-df-buttons div {\n",
              "      margin-bottom: 4px;\n",
              "    }\n",
              "\n",
              "    [theme=dark] .colab-df-convert {\n",
              "      background-color: #3B4455;\n",
              "      fill: #D2E3FC;\n",
              "    }\n",
              "\n",
              "    [theme=dark] .colab-df-convert:hover {\n",
              "      background-color: #434B5C;\n",
              "      box-shadow: 0px 1px 3px 1px rgba(0, 0, 0, 0.15);\n",
              "      filter: drop-shadow(0px 1px 2px rgba(0, 0, 0, 0.3));\n",
              "      fill: #FFFFFF;\n",
              "    }\n",
              "  </style>\n",
              "\n",
              "    <script>\n",
              "      const buttonEl =\n",
              "        document.querySelector('#df-e5f8afad-851c-430a-be14-ab75b06a6a34 button.colab-df-convert');\n",
              "      buttonEl.style.display =\n",
              "        google.colab.kernel.accessAllowed ? 'block' : 'none';\n",
              "\n",
              "      async function convertToInteractive(key) {\n",
              "        const element = document.querySelector('#df-e5f8afad-851c-430a-be14-ab75b06a6a34');\n",
              "        const dataTable =\n",
              "          await google.colab.kernel.invokeFunction('convertToInteractive',\n",
              "                                                    [key], {});\n",
              "        if (!dataTable) return;\n",
              "\n",
              "        const docLinkHtml = 'Like what you see? Visit the ' +\n",
              "          '<a target=\"_blank\" href=https://colab.research.google.com/notebooks/data_table.ipynb>data table notebook</a>'\n",
              "          + ' to learn more about interactive tables.';\n",
              "        element.innerHTML = '';\n",
              "        dataTable['output_type'] = 'display_data';\n",
              "        await google.colab.output.renderOutput(dataTable, element);\n",
              "        const docLink = document.createElement('div');\n",
              "        docLink.innerHTML = docLinkHtml;\n",
              "        element.appendChild(docLink);\n",
              "      }\n",
              "    </script>\n",
              "  </div>\n",
              "\n",
              "\n",
              "<div id=\"df-604f5fac-a85f-4efd-a890-7076d3167a47\">\n",
              "  <button class=\"colab-df-quickchart\" onclick=\"quickchart('df-604f5fac-a85f-4efd-a890-7076d3167a47')\"\n",
              "            title=\"Suggest charts\"\n",
              "            style=\"display:none;\">\n",
              "\n",
              "<svg xmlns=\"http://www.w3.org/2000/svg\" height=\"24px\"viewBox=\"0 0 24 24\"\n",
              "     width=\"24px\">\n",
              "    <g>\n",
              "        <path d=\"M19 3H5c-1.1 0-2 .9-2 2v14c0 1.1.9 2 2 2h14c1.1 0 2-.9 2-2V5c0-1.1-.9-2-2-2zM9 17H7v-7h2v7zm4 0h-2V7h2v10zm4 0h-2v-4h2v4z\"/>\n",
              "    </g>\n",
              "</svg>\n",
              "  </button>\n",
              "\n",
              "<style>\n",
              "  .colab-df-quickchart {\n",
              "      --bg-color: #E8F0FE;\n",
              "      --fill-color: #1967D2;\n",
              "      --hover-bg-color: #E2EBFA;\n",
              "      --hover-fill-color: #174EA6;\n",
              "      --disabled-fill-color: #AAA;\n",
              "      --disabled-bg-color: #DDD;\n",
              "  }\n",
              "\n",
              "  [theme=dark] .colab-df-quickchart {\n",
              "      --bg-color: #3B4455;\n",
              "      --fill-color: #D2E3FC;\n",
              "      --hover-bg-color: #434B5C;\n",
              "      --hover-fill-color: #FFFFFF;\n",
              "      --disabled-bg-color: #3B4455;\n",
              "      --disabled-fill-color: #666;\n",
              "  }\n",
              "\n",
              "  .colab-df-quickchart {\n",
              "    background-color: var(--bg-color);\n",
              "    border: none;\n",
              "    border-radius: 50%;\n",
              "    cursor: pointer;\n",
              "    display: none;\n",
              "    fill: var(--fill-color);\n",
              "    height: 32px;\n",
              "    padding: 0;\n",
              "    width: 32px;\n",
              "  }\n",
              "\n",
              "  .colab-df-quickchart:hover {\n",
              "    background-color: var(--hover-bg-color);\n",
              "    box-shadow: 0 1px 2px rgba(60, 64, 67, 0.3), 0 1px 3px 1px rgba(60, 64, 67, 0.15);\n",
              "    fill: var(--button-hover-fill-color);\n",
              "  }\n",
              "\n",
              "  .colab-df-quickchart-complete:disabled,\n",
              "  .colab-df-quickchart-complete:disabled:hover {\n",
              "    background-color: var(--disabled-bg-color);\n",
              "    fill: var(--disabled-fill-color);\n",
              "    box-shadow: none;\n",
              "  }\n",
              "\n",
              "  .colab-df-spinner {\n",
              "    border: 2px solid var(--fill-color);\n",
              "    border-color: transparent;\n",
              "    border-bottom-color: var(--fill-color);\n",
              "    animation:\n",
              "      spin 1s steps(1) infinite;\n",
              "  }\n",
              "\n",
              "  @keyframes spin {\n",
              "    0% {\n",
              "      border-color: transparent;\n",
              "      border-bottom-color: var(--fill-color);\n",
              "      border-left-color: var(--fill-color);\n",
              "    }\n",
              "    20% {\n",
              "      border-color: transparent;\n",
              "      border-left-color: var(--fill-color);\n",
              "      border-top-color: var(--fill-color);\n",
              "    }\n",
              "    30% {\n",
              "      border-color: transparent;\n",
              "      border-left-color: var(--fill-color);\n",
              "      border-top-color: var(--fill-color);\n",
              "      border-right-color: var(--fill-color);\n",
              "    }\n",
              "    40% {\n",
              "      border-color: transparent;\n",
              "      border-right-color: var(--fill-color);\n",
              "      border-top-color: var(--fill-color);\n",
              "    }\n",
              "    60% {\n",
              "      border-color: transparent;\n",
              "      border-right-color: var(--fill-color);\n",
              "    }\n",
              "    80% {\n",
              "      border-color: transparent;\n",
              "      border-right-color: var(--fill-color);\n",
              "      border-bottom-color: var(--fill-color);\n",
              "    }\n",
              "    90% {\n",
              "      border-color: transparent;\n",
              "      border-bottom-color: var(--fill-color);\n",
              "    }\n",
              "  }\n",
              "</style>\n",
              "\n",
              "  <script>\n",
              "    async function quickchart(key) {\n",
              "      const quickchartButtonEl =\n",
              "        document.querySelector('#' + key + ' button');\n",
              "      quickchartButtonEl.disabled = true;  // To prevent multiple clicks.\n",
              "      quickchartButtonEl.classList.add('colab-df-spinner');\n",
              "      try {\n",
              "        const charts = await google.colab.kernel.invokeFunction(\n",
              "            'suggestCharts', [key], {});\n",
              "      } catch (error) {\n",
              "        console.error('Error during call to suggestCharts:', error);\n",
              "      }\n",
              "      quickchartButtonEl.classList.remove('colab-df-spinner');\n",
              "      quickchartButtonEl.classList.add('colab-df-quickchart-complete');\n",
              "    }\n",
              "    (() => {\n",
              "      let quickchartButtonEl =\n",
              "        document.querySelector('#df-604f5fac-a85f-4efd-a890-7076d3167a47 button');\n",
              "      quickchartButtonEl.style.display =\n",
              "        google.colab.kernel.accessAllowed ? 'block' : 'none';\n",
              "    })();\n",
              "  </script>\n",
              "</div>\n",
              "    </div>\n",
              "  </div>\n"
            ],
            "application/vnd.google.colaboratory.intrinsic+json": {
              "type": "dataframe",
              "summary": "{\n  \"name\": \"dados[colunas]\",\n  \"rows\": 10008,\n  \"fields\": [\n    {\n      \"column\": \"bairro\",\n      \"properties\": {\n        \"dtype\": \"category\",\n        \"num_unique_values\": 701,\n        \"samples\": [\n          \"Vila Leonor\",\n          \"Jardim Miriam\",\n          \"Vila Cordeiro\"\n        ],\n        \"semantic_type\": \"\",\n        \"description\": \"\"\n      }\n    },\n    {\n      \"column\": \"valor\",\n      \"properties\": {\n        \"dtype\": \"number\",\n        \"std\": 3944208.186317309,\n        \"min\": 13000.0,\n        \"max\": 65000000.0,\n        \"num_unique_values\": 939,\n        \"samples\": [\n          2900000.0,\n          11489000.0,\n          6400000.0\n        ],\n        \"semantic_type\": \"\",\n        \"description\": \"\"\n      }\n    }\n  ]\n}"
            }
          },
          "metadata": {},
          "execution_count": 26
        }
      ]
    },
    {
      "cell_type": "code",
      "source": [
        "primeiros_20 = dados[colunas].sort_values(by='valor', ascending=False).iloc[:20]\n",
        "média_por_bairro = primeiros_20.groupby('bairro')['valor'].mean()\n",
        "média_por_bairro = pd.DataFrame(média_por_bairro)\n",
        "média_por_bairro"
      ],
      "metadata": {
        "colab": {
          "base_uri": "https://localhost:8080/",
          "height": 238
        },
        "id": "WIET6IEfIKtY",
        "outputId": "60272d15-74b5-4b2d-ea6d-3e00ae82cd09"
      },
      "execution_count": null,
      "outputs": [
        {
          "output_type": "execute_result",
          "data": {
            "text/plain": [
              "                          valor\n",
              "bairro                         \n",
              "Jardim América     4.231389e+07\n",
              "Jardim Europa      4.175000e+07\n",
              "Jardim Paulista    3.000000e+07\n",
              "Jardim Petrópolis  3.200000e+07\n",
              "Vila Morumbi       3.000000e+07"
            ],
            "text/html": [
              "\n",
              "  <div id=\"df-db660dfc-2d91-4f2e-9372-5a0d4debc835\" class=\"colab-df-container\">\n",
              "    <div>\n",
              "<style scoped>\n",
              "    .dataframe tbody tr th:only-of-type {\n",
              "        vertical-align: middle;\n",
              "    }\n",
              "\n",
              "    .dataframe tbody tr th {\n",
              "        vertical-align: top;\n",
              "    }\n",
              "\n",
              "    .dataframe thead th {\n",
              "        text-align: right;\n",
              "    }\n",
              "</style>\n",
              "<table border=\"1\" class=\"dataframe\">\n",
              "  <thead>\n",
              "    <tr style=\"text-align: right;\">\n",
              "      <th></th>\n",
              "      <th>valor</th>\n",
              "    </tr>\n",
              "    <tr>\n",
              "      <th>bairro</th>\n",
              "      <th></th>\n",
              "    </tr>\n",
              "  </thead>\n",
              "  <tbody>\n",
              "    <tr>\n",
              "      <th>Jardim América</th>\n",
              "      <td>4.231389e+07</td>\n",
              "    </tr>\n",
              "    <tr>\n",
              "      <th>Jardim Europa</th>\n",
              "      <td>4.175000e+07</td>\n",
              "    </tr>\n",
              "    <tr>\n",
              "      <th>Jardim Paulista</th>\n",
              "      <td>3.000000e+07</td>\n",
              "    </tr>\n",
              "    <tr>\n",
              "      <th>Jardim Petrópolis</th>\n",
              "      <td>3.200000e+07</td>\n",
              "    </tr>\n",
              "    <tr>\n",
              "      <th>Vila Morumbi</th>\n",
              "      <td>3.000000e+07</td>\n",
              "    </tr>\n",
              "  </tbody>\n",
              "</table>\n",
              "</div>\n",
              "    <div class=\"colab-df-buttons\">\n",
              "\n",
              "  <div class=\"colab-df-container\">\n",
              "    <button class=\"colab-df-convert\" onclick=\"convertToInteractive('df-db660dfc-2d91-4f2e-9372-5a0d4debc835')\"\n",
              "            title=\"Convert this dataframe to an interactive table.\"\n",
              "            style=\"display:none;\">\n",
              "\n",
              "  <svg xmlns=\"http://www.w3.org/2000/svg\" height=\"24px\" viewBox=\"0 -960 960 960\">\n",
              "    <path d=\"M120-120v-720h720v720H120Zm60-500h600v-160H180v160Zm220 220h160v-160H400v160Zm0 220h160v-160H400v160ZM180-400h160v-160H180v160Zm440 0h160v-160H620v160ZM180-180h160v-160H180v160Zm440 0h160v-160H620v160Z\"/>\n",
              "  </svg>\n",
              "    </button>\n",
              "\n",
              "  <style>\n",
              "    .colab-df-container {\n",
              "      display:flex;\n",
              "      gap: 12px;\n",
              "    }\n",
              "\n",
              "    .colab-df-convert {\n",
              "      background-color: #E8F0FE;\n",
              "      border: none;\n",
              "      border-radius: 50%;\n",
              "      cursor: pointer;\n",
              "      display: none;\n",
              "      fill: #1967D2;\n",
              "      height: 32px;\n",
              "      padding: 0 0 0 0;\n",
              "      width: 32px;\n",
              "    }\n",
              "\n",
              "    .colab-df-convert:hover {\n",
              "      background-color: #E2EBFA;\n",
              "      box-shadow: 0px 1px 2px rgba(60, 64, 67, 0.3), 0px 1px 3px 1px rgba(60, 64, 67, 0.15);\n",
              "      fill: #174EA6;\n",
              "    }\n",
              "\n",
              "    .colab-df-buttons div {\n",
              "      margin-bottom: 4px;\n",
              "    }\n",
              "\n",
              "    [theme=dark] .colab-df-convert {\n",
              "      background-color: #3B4455;\n",
              "      fill: #D2E3FC;\n",
              "    }\n",
              "\n",
              "    [theme=dark] .colab-df-convert:hover {\n",
              "      background-color: #434B5C;\n",
              "      box-shadow: 0px 1px 3px 1px rgba(0, 0, 0, 0.15);\n",
              "      filter: drop-shadow(0px 1px 2px rgba(0, 0, 0, 0.3));\n",
              "      fill: #FFFFFF;\n",
              "    }\n",
              "  </style>\n",
              "\n",
              "    <script>\n",
              "      const buttonEl =\n",
              "        document.querySelector('#df-db660dfc-2d91-4f2e-9372-5a0d4debc835 button.colab-df-convert');\n",
              "      buttonEl.style.display =\n",
              "        google.colab.kernel.accessAllowed ? 'block' : 'none';\n",
              "\n",
              "      async function convertToInteractive(key) {\n",
              "        const element = document.querySelector('#df-db660dfc-2d91-4f2e-9372-5a0d4debc835');\n",
              "        const dataTable =\n",
              "          await google.colab.kernel.invokeFunction('convertToInteractive',\n",
              "                                                    [key], {});\n",
              "        if (!dataTable) return;\n",
              "\n",
              "        const docLinkHtml = 'Like what you see? Visit the ' +\n",
              "          '<a target=\"_blank\" href=https://colab.research.google.com/notebooks/data_table.ipynb>data table notebook</a>'\n",
              "          + ' to learn more about interactive tables.';\n",
              "        element.innerHTML = '';\n",
              "        dataTable['output_type'] = 'display_data';\n",
              "        await google.colab.output.renderOutput(dataTable, element);\n",
              "        const docLink = document.createElement('div');\n",
              "        docLink.innerHTML = docLinkHtml;\n",
              "        element.appendChild(docLink);\n",
              "      }\n",
              "    </script>\n",
              "  </div>\n",
              "\n",
              "\n",
              "<div id=\"df-15c94b2e-bb0c-40ac-8995-faeb08f6a889\">\n",
              "  <button class=\"colab-df-quickchart\" onclick=\"quickchart('df-15c94b2e-bb0c-40ac-8995-faeb08f6a889')\"\n",
              "            title=\"Suggest charts\"\n",
              "            style=\"display:none;\">\n",
              "\n",
              "<svg xmlns=\"http://www.w3.org/2000/svg\" height=\"24px\"viewBox=\"0 0 24 24\"\n",
              "     width=\"24px\">\n",
              "    <g>\n",
              "        <path d=\"M19 3H5c-1.1 0-2 .9-2 2v14c0 1.1.9 2 2 2h14c1.1 0 2-.9 2-2V5c0-1.1-.9-2-2-2zM9 17H7v-7h2v7zm4 0h-2V7h2v10zm4 0h-2v-4h2v4z\"/>\n",
              "    </g>\n",
              "</svg>\n",
              "  </button>\n",
              "\n",
              "<style>\n",
              "  .colab-df-quickchart {\n",
              "      --bg-color: #E8F0FE;\n",
              "      --fill-color: #1967D2;\n",
              "      --hover-bg-color: #E2EBFA;\n",
              "      --hover-fill-color: #174EA6;\n",
              "      --disabled-fill-color: #AAA;\n",
              "      --disabled-bg-color: #DDD;\n",
              "  }\n",
              "\n",
              "  [theme=dark] .colab-df-quickchart {\n",
              "      --bg-color: #3B4455;\n",
              "      --fill-color: #D2E3FC;\n",
              "      --hover-bg-color: #434B5C;\n",
              "      --hover-fill-color: #FFFFFF;\n",
              "      --disabled-bg-color: #3B4455;\n",
              "      --disabled-fill-color: #666;\n",
              "  }\n",
              "\n",
              "  .colab-df-quickchart {\n",
              "    background-color: var(--bg-color);\n",
              "    border: none;\n",
              "    border-radius: 50%;\n",
              "    cursor: pointer;\n",
              "    display: none;\n",
              "    fill: var(--fill-color);\n",
              "    height: 32px;\n",
              "    padding: 0;\n",
              "    width: 32px;\n",
              "  }\n",
              "\n",
              "  .colab-df-quickchart:hover {\n",
              "    background-color: var(--hover-bg-color);\n",
              "    box-shadow: 0 1px 2px rgba(60, 64, 67, 0.3), 0 1px 3px 1px rgba(60, 64, 67, 0.15);\n",
              "    fill: var(--button-hover-fill-color);\n",
              "  }\n",
              "\n",
              "  .colab-df-quickchart-complete:disabled,\n",
              "  .colab-df-quickchart-complete:disabled:hover {\n",
              "    background-color: var(--disabled-bg-color);\n",
              "    fill: var(--disabled-fill-color);\n",
              "    box-shadow: none;\n",
              "  }\n",
              "\n",
              "  .colab-df-spinner {\n",
              "    border: 2px solid var(--fill-color);\n",
              "    border-color: transparent;\n",
              "    border-bottom-color: var(--fill-color);\n",
              "    animation:\n",
              "      spin 1s steps(1) infinite;\n",
              "  }\n",
              "\n",
              "  @keyframes spin {\n",
              "    0% {\n",
              "      border-color: transparent;\n",
              "      border-bottom-color: var(--fill-color);\n",
              "      border-left-color: var(--fill-color);\n",
              "    }\n",
              "    20% {\n",
              "      border-color: transparent;\n",
              "      border-left-color: var(--fill-color);\n",
              "      border-top-color: var(--fill-color);\n",
              "    }\n",
              "    30% {\n",
              "      border-color: transparent;\n",
              "      border-left-color: var(--fill-color);\n",
              "      border-top-color: var(--fill-color);\n",
              "      border-right-color: var(--fill-color);\n",
              "    }\n",
              "    40% {\n",
              "      border-color: transparent;\n",
              "      border-right-color: var(--fill-color);\n",
              "      border-top-color: var(--fill-color);\n",
              "    }\n",
              "    60% {\n",
              "      border-color: transparent;\n",
              "      border-right-color: var(--fill-color);\n",
              "    }\n",
              "    80% {\n",
              "      border-color: transparent;\n",
              "      border-right-color: var(--fill-color);\n",
              "      border-bottom-color: var(--fill-color);\n",
              "    }\n",
              "    90% {\n",
              "      border-color: transparent;\n",
              "      border-bottom-color: var(--fill-color);\n",
              "    }\n",
              "  }\n",
              "</style>\n",
              "\n",
              "  <script>\n",
              "    async function quickchart(key) {\n",
              "      const quickchartButtonEl =\n",
              "        document.querySelector('#' + key + ' button');\n",
              "      quickchartButtonEl.disabled = true;  // To prevent multiple clicks.\n",
              "      quickchartButtonEl.classList.add('colab-df-spinner');\n",
              "      try {\n",
              "        const charts = await google.colab.kernel.invokeFunction(\n",
              "            'suggestCharts', [key], {});\n",
              "      } catch (error) {\n",
              "        console.error('Error during call to suggestCharts:', error);\n",
              "      }\n",
              "      quickchartButtonEl.classList.remove('colab-df-spinner');\n",
              "      quickchartButtonEl.classList.add('colab-df-quickchart-complete');\n",
              "    }\n",
              "    (() => {\n",
              "      let quickchartButtonEl =\n",
              "        document.querySelector('#df-15c94b2e-bb0c-40ac-8995-faeb08f6a889 button');\n",
              "      quickchartButtonEl.style.display =\n",
              "        google.colab.kernel.accessAllowed ? 'block' : 'none';\n",
              "    })();\n",
              "  </script>\n",
              "</div>\n",
              "    </div>\n",
              "  </div>\n"
            ],
            "application/vnd.google.colaboratory.intrinsic+json": {
              "type": "dataframe",
              "variable_name": "média_por_bairro",
              "summary": "{\n  \"name\": \"m\\u00e9dia_por_bairro\",\n  \"rows\": 5,\n  \"fields\": [\n    {\n      \"column\": \"bairro\",\n      \"properties\": {\n        \"dtype\": \"string\",\n        \"num_unique_values\": 5,\n        \"samples\": [\n          \"Jardim Europa\",\n          \"Vila Morumbi\",\n          \"Jardim Paulista\"\n        ],\n        \"semantic_type\": \"\",\n        \"description\": \"\"\n      }\n    },\n    {\n      \"column\": \"valor\",\n      \"properties\": {\n        \"dtype\": \"number\",\n        \"std\": 6281502.582293349,\n        \"min\": 30000000.0,\n        \"max\": 42313888.88888889,\n        \"num_unique_values\": 4,\n        \"samples\": [\n          41750000.0,\n          32000000.0,\n          42313888.88888889\n        ],\n        \"semantic_type\": \"\",\n        \"description\": \"\"\n      }\n    }\n  ]\n}"
            }
          },
          "metadata": {},
          "execution_count": 27
        }
      ]
    },
    {
      "cell_type": "code",
      "source": [
        "média_por_bairro.columns"
      ],
      "metadata": {
        "colab": {
          "base_uri": "https://localhost:8080/"
        },
        "id": "dl4uZFAOK4bD",
        "outputId": "ab4b2cf9-d13e-400b-d213-7ee57d9759d1"
      },
      "execution_count": null,
      "outputs": [
        {
          "output_type": "execute_result",
          "data": {
            "text/plain": [
              "Index(['valor'], dtype='object')"
            ]
          },
          "metadata": {},
          "execution_count": 28
        }
      ]
    },
    {
      "cell_type": "code",
      "source": [
        "import plotly.graph_objects as go\n",
        "\n",
        "go.Figure(data=[go.Pie(labels=média_por_bairro.index, values=média_por_bairro.valor)]).show()"
      ],
      "metadata": {
        "colab": {
          "base_uri": "https://localhost:8080/",
          "height": 542
        },
        "id": "v4_uac94JXL3",
        "outputId": "9c34dcb3-a43e-4882-e6d3-75403fc05466"
      },
      "execution_count": null,
      "outputs": [
        {
          "output_type": "display_data",
          "data": {
            "text/html": [
              "<html>\n",
              "<head><meta charset=\"utf-8\" /></head>\n",
              "<body>\n",
              "    <div>            <script src=\"https://cdnjs.cloudflare.com/ajax/libs/mathjax/2.7.5/MathJax.js?config=TeX-AMS-MML_SVG\"></script><script type=\"text/javascript\">if (window.MathJax && window.MathJax.Hub && window.MathJax.Hub.Config) {window.MathJax.Hub.Config({SVG: {font: \"STIX-Web\"}});}</script>                <script type=\"text/javascript\">window.PlotlyConfig = {MathJaxConfig: 'local'};</script>\n",
              "        <script charset=\"utf-8\" src=\"https://cdn.plot.ly/plotly-2.24.1.min.js\"></script>                <div id=\"988f4930-487c-4a21-87f1-f8fb3fee97a5\" class=\"plotly-graph-div\" style=\"height:525px; width:100%;\"></div>            <script type=\"text/javascript\">                                    window.PLOTLYENV=window.PLOTLYENV || {};                                    if (document.getElementById(\"988f4930-487c-4a21-87f1-f8fb3fee97a5\")) {                    Plotly.newPlot(                        \"988f4930-487c-4a21-87f1-f8fb3fee97a5\",                        [{\"labels\":[\"Jardim Am\\u00e9rica\",\"Jardim Europa\",\"Jardim Paulista\",\"Jardim Petr\\u00f3polis\",\"Vila Morumbi\"],\"values\":[42313888.88888889,41750000.0,30000000.0,32000000.0,30000000.0],\"type\":\"pie\"}],                        {\"template\":{\"data\":{\"histogram2dcontour\":[{\"type\":\"histogram2dcontour\",\"colorbar\":{\"outlinewidth\":0,\"ticks\":\"\"},\"colorscale\":[[0.0,\"#0d0887\"],[0.1111111111111111,\"#46039f\"],[0.2222222222222222,\"#7201a8\"],[0.3333333333333333,\"#9c179e\"],[0.4444444444444444,\"#bd3786\"],[0.5555555555555556,\"#d8576b\"],[0.6666666666666666,\"#ed7953\"],[0.7777777777777778,\"#fb9f3a\"],[0.8888888888888888,\"#fdca26\"],[1.0,\"#f0f921\"]]}],\"choropleth\":[{\"type\":\"choropleth\",\"colorbar\":{\"outlinewidth\":0,\"ticks\":\"\"}}],\"histogram2d\":[{\"type\":\"histogram2d\",\"colorbar\":{\"outlinewidth\":0,\"ticks\":\"\"},\"colorscale\":[[0.0,\"#0d0887\"],[0.1111111111111111,\"#46039f\"],[0.2222222222222222,\"#7201a8\"],[0.3333333333333333,\"#9c179e\"],[0.4444444444444444,\"#bd3786\"],[0.5555555555555556,\"#d8576b\"],[0.6666666666666666,\"#ed7953\"],[0.7777777777777778,\"#fb9f3a\"],[0.8888888888888888,\"#fdca26\"],[1.0,\"#f0f921\"]]}],\"heatmap\":[{\"type\":\"heatmap\",\"colorbar\":{\"outlinewidth\":0,\"ticks\":\"\"},\"colorscale\":[[0.0,\"#0d0887\"],[0.1111111111111111,\"#46039f\"],[0.2222222222222222,\"#7201a8\"],[0.3333333333333333,\"#9c179e\"],[0.4444444444444444,\"#bd3786\"],[0.5555555555555556,\"#d8576b\"],[0.6666666666666666,\"#ed7953\"],[0.7777777777777778,\"#fb9f3a\"],[0.8888888888888888,\"#fdca26\"],[1.0,\"#f0f921\"]]}],\"heatmapgl\":[{\"type\":\"heatmapgl\",\"colorbar\":{\"outlinewidth\":0,\"ticks\":\"\"},\"colorscale\":[[0.0,\"#0d0887\"],[0.1111111111111111,\"#46039f\"],[0.2222222222222222,\"#7201a8\"],[0.3333333333333333,\"#9c179e\"],[0.4444444444444444,\"#bd3786\"],[0.5555555555555556,\"#d8576b\"],[0.6666666666666666,\"#ed7953\"],[0.7777777777777778,\"#fb9f3a\"],[0.8888888888888888,\"#fdca26\"],[1.0,\"#f0f921\"]]}],\"contourcarpet\":[{\"type\":\"contourcarpet\",\"colorbar\":{\"outlinewidth\":0,\"ticks\":\"\"}}],\"contour\":[{\"type\":\"contour\",\"colorbar\":{\"outlinewidth\":0,\"ticks\":\"\"},\"colorscale\":[[0.0,\"#0d0887\"],[0.1111111111111111,\"#46039f\"],[0.2222222222222222,\"#7201a8\"],[0.3333333333333333,\"#9c179e\"],[0.4444444444444444,\"#bd3786\"],[0.5555555555555556,\"#d8576b\"],[0.6666666666666666,\"#ed7953\"],[0.7777777777777778,\"#fb9f3a\"],[0.8888888888888888,\"#fdca26\"],[1.0,\"#f0f921\"]]}],\"surface\":[{\"type\":\"surface\",\"colorbar\":{\"outlinewidth\":0,\"ticks\":\"\"},\"colorscale\":[[0.0,\"#0d0887\"],[0.1111111111111111,\"#46039f\"],[0.2222222222222222,\"#7201a8\"],[0.3333333333333333,\"#9c179e\"],[0.4444444444444444,\"#bd3786\"],[0.5555555555555556,\"#d8576b\"],[0.6666666666666666,\"#ed7953\"],[0.7777777777777778,\"#fb9f3a\"],[0.8888888888888888,\"#fdca26\"],[1.0,\"#f0f921\"]]}],\"mesh3d\":[{\"type\":\"mesh3d\",\"colorbar\":{\"outlinewidth\":0,\"ticks\":\"\"}}],\"scatter\":[{\"fillpattern\":{\"fillmode\":\"overlay\",\"size\":10,\"solidity\":0.2},\"type\":\"scatter\"}],\"parcoords\":[{\"type\":\"parcoords\",\"line\":{\"colorbar\":{\"outlinewidth\":0,\"ticks\":\"\"}}}],\"scatterpolargl\":[{\"type\":\"scatterpolargl\",\"marker\":{\"colorbar\":{\"outlinewidth\":0,\"ticks\":\"\"}}}],\"bar\":[{\"error_x\":{\"color\":\"#2a3f5f\"},\"error_y\":{\"color\":\"#2a3f5f\"},\"marker\":{\"line\":{\"color\":\"#E5ECF6\",\"width\":0.5},\"pattern\":{\"fillmode\":\"overlay\",\"size\":10,\"solidity\":0.2}},\"type\":\"bar\"}],\"scattergeo\":[{\"type\":\"scattergeo\",\"marker\":{\"colorbar\":{\"outlinewidth\":0,\"ticks\":\"\"}}}],\"scatterpolar\":[{\"type\":\"scatterpolar\",\"marker\":{\"colorbar\":{\"outlinewidth\":0,\"ticks\":\"\"}}}],\"histogram\":[{\"marker\":{\"pattern\":{\"fillmode\":\"overlay\",\"size\":10,\"solidity\":0.2}},\"type\":\"histogram\"}],\"scattergl\":[{\"type\":\"scattergl\",\"marker\":{\"colorbar\":{\"outlinewidth\":0,\"ticks\":\"\"}}}],\"scatter3d\":[{\"type\":\"scatter3d\",\"line\":{\"colorbar\":{\"outlinewidth\":0,\"ticks\":\"\"}},\"marker\":{\"colorbar\":{\"outlinewidth\":0,\"ticks\":\"\"}}}],\"scattermapbox\":[{\"type\":\"scattermapbox\",\"marker\":{\"colorbar\":{\"outlinewidth\":0,\"ticks\":\"\"}}}],\"scatterternary\":[{\"type\":\"scatterternary\",\"marker\":{\"colorbar\":{\"outlinewidth\":0,\"ticks\":\"\"}}}],\"scattercarpet\":[{\"type\":\"scattercarpet\",\"marker\":{\"colorbar\":{\"outlinewidth\":0,\"ticks\":\"\"}}}],\"carpet\":[{\"aaxis\":{\"endlinecolor\":\"#2a3f5f\",\"gridcolor\":\"white\",\"linecolor\":\"white\",\"minorgridcolor\":\"white\",\"startlinecolor\":\"#2a3f5f\"},\"baxis\":{\"endlinecolor\":\"#2a3f5f\",\"gridcolor\":\"white\",\"linecolor\":\"white\",\"minorgridcolor\":\"white\",\"startlinecolor\":\"#2a3f5f\"},\"type\":\"carpet\"}],\"table\":[{\"cells\":{\"fill\":{\"color\":\"#EBF0F8\"},\"line\":{\"color\":\"white\"}},\"header\":{\"fill\":{\"color\":\"#C8D4E3\"},\"line\":{\"color\":\"white\"}},\"type\":\"table\"}],\"barpolar\":[{\"marker\":{\"line\":{\"color\":\"#E5ECF6\",\"width\":0.5},\"pattern\":{\"fillmode\":\"overlay\",\"size\":10,\"solidity\":0.2}},\"type\":\"barpolar\"}],\"pie\":[{\"automargin\":true,\"type\":\"pie\"}]},\"layout\":{\"autotypenumbers\":\"strict\",\"colorway\":[\"#636efa\",\"#EF553B\",\"#00cc96\",\"#ab63fa\",\"#FFA15A\",\"#19d3f3\",\"#FF6692\",\"#B6E880\",\"#FF97FF\",\"#FECB52\"],\"font\":{\"color\":\"#2a3f5f\"},\"hovermode\":\"closest\",\"hoverlabel\":{\"align\":\"left\"},\"paper_bgcolor\":\"white\",\"plot_bgcolor\":\"#E5ECF6\",\"polar\":{\"bgcolor\":\"#E5ECF6\",\"angularaxis\":{\"gridcolor\":\"white\",\"linecolor\":\"white\",\"ticks\":\"\"},\"radialaxis\":{\"gridcolor\":\"white\",\"linecolor\":\"white\",\"ticks\":\"\"}},\"ternary\":{\"bgcolor\":\"#E5ECF6\",\"aaxis\":{\"gridcolor\":\"white\",\"linecolor\":\"white\",\"ticks\":\"\"},\"baxis\":{\"gridcolor\":\"white\",\"linecolor\":\"white\",\"ticks\":\"\"},\"caxis\":{\"gridcolor\":\"white\",\"linecolor\":\"white\",\"ticks\":\"\"}},\"coloraxis\":{\"colorbar\":{\"outlinewidth\":0,\"ticks\":\"\"}},\"colorscale\":{\"sequential\":[[0.0,\"#0d0887\"],[0.1111111111111111,\"#46039f\"],[0.2222222222222222,\"#7201a8\"],[0.3333333333333333,\"#9c179e\"],[0.4444444444444444,\"#bd3786\"],[0.5555555555555556,\"#d8576b\"],[0.6666666666666666,\"#ed7953\"],[0.7777777777777778,\"#fb9f3a\"],[0.8888888888888888,\"#fdca26\"],[1.0,\"#f0f921\"]],\"sequentialminus\":[[0.0,\"#0d0887\"],[0.1111111111111111,\"#46039f\"],[0.2222222222222222,\"#7201a8\"],[0.3333333333333333,\"#9c179e\"],[0.4444444444444444,\"#bd3786\"],[0.5555555555555556,\"#d8576b\"],[0.6666666666666666,\"#ed7953\"],[0.7777777777777778,\"#fb9f3a\"],[0.8888888888888888,\"#fdca26\"],[1.0,\"#f0f921\"]],\"diverging\":[[0,\"#8e0152\"],[0.1,\"#c51b7d\"],[0.2,\"#de77ae\"],[0.3,\"#f1b6da\"],[0.4,\"#fde0ef\"],[0.5,\"#f7f7f7\"],[0.6,\"#e6f5d0\"],[0.7,\"#b8e186\"],[0.8,\"#7fbc41\"],[0.9,\"#4d9221\"],[1,\"#276419\"]]},\"xaxis\":{\"gridcolor\":\"white\",\"linecolor\":\"white\",\"ticks\":\"\",\"title\":{\"standoff\":15},\"zerolinecolor\":\"white\",\"automargin\":true,\"zerolinewidth\":2},\"yaxis\":{\"gridcolor\":\"white\",\"linecolor\":\"white\",\"ticks\":\"\",\"title\":{\"standoff\":15},\"zerolinecolor\":\"white\",\"automargin\":true,\"zerolinewidth\":2},\"scene\":{\"xaxis\":{\"backgroundcolor\":\"#E5ECF6\",\"gridcolor\":\"white\",\"linecolor\":\"white\",\"showbackground\":true,\"ticks\":\"\",\"zerolinecolor\":\"white\",\"gridwidth\":2},\"yaxis\":{\"backgroundcolor\":\"#E5ECF6\",\"gridcolor\":\"white\",\"linecolor\":\"white\",\"showbackground\":true,\"ticks\":\"\",\"zerolinecolor\":\"white\",\"gridwidth\":2},\"zaxis\":{\"backgroundcolor\":\"#E5ECF6\",\"gridcolor\":\"white\",\"linecolor\":\"white\",\"showbackground\":true,\"ticks\":\"\",\"zerolinecolor\":\"white\",\"gridwidth\":2}},\"shapedefaults\":{\"line\":{\"color\":\"#2a3f5f\"}},\"annotationdefaults\":{\"arrowcolor\":\"#2a3f5f\",\"arrowhead\":0,\"arrowwidth\":1},\"geo\":{\"bgcolor\":\"white\",\"landcolor\":\"#E5ECF6\",\"subunitcolor\":\"white\",\"showland\":true,\"showlakes\":true,\"lakecolor\":\"white\"},\"title\":{\"x\":0.05},\"mapbox\":{\"style\":\"light\"}}}},                        {\"responsive\": true}                    ).then(function(){\n",
              "                            \n",
              "var gd = document.getElementById('988f4930-487c-4a21-87f1-f8fb3fee97a5');\n",
              "var x = new MutationObserver(function (mutations, observer) {{\n",
              "        var display = window.getComputedStyle(gd).display;\n",
              "        if (!display || display === 'none') {{\n",
              "            console.log([gd, 'removed!']);\n",
              "            Plotly.purge(gd);\n",
              "            observer.disconnect();\n",
              "        }}\n",
              "}});\n",
              "\n",
              "// Listen for the removal of the full notebook cells\n",
              "var notebookContainer = gd.closest('#notebook-container');\n",
              "if (notebookContainer) {{\n",
              "    x.observe(notebookContainer, {childList: true});\n",
              "}}\n",
              "\n",
              "// Listen for the clearing of the current output cell\n",
              "var outputEl = gd.closest('.output');\n",
              "if (outputEl) {{\n",
              "    x.observe(outputEl, {childList: true});\n",
              "}}\n",
              "\n",
              "                        })                };                            </script>        </div>\n",
              "</body>\n",
              "</html>"
            ]
          },
          "metadata": {}
        }
      ]
    },
    {
      "cell_type": "code",
      "source": [
        "# média por bairro dos 20 mais caros"
      ],
      "metadata": {
        "id": "VbI6IrG3K_Ex"
      },
      "execution_count": null,
      "outputs": []
    },
    {
      "cell_type": "markdown",
      "source": [
        "4 - Pegar outros estatísticas dos dados, média, mediana, mim, max"
      ],
      "metadata": {
        "id": "W1Y_fxP8yGwB"
      }
    },
    {
      "cell_type": "code",
      "source": [
        "dados.vagas.value_counts()"
      ],
      "metadata": {
        "colab": {
          "base_uri": "https://localhost:8080/"
        },
        "id": "aofZzI1zC_Wq",
        "outputId": "41a48396-33d9-4993-e20b-178b0a5243c2"
      },
      "execution_count": null,
      "outputs": [
        {
          "output_type": "execute_result",
          "data": {
            "text/plain": [
              "2     2380\n",
              "4     2117\n",
              "3     1564\n",
              "6     1068\n",
              "5      879\n",
              "1      800\n",
              "8      435\n",
              "10     282\n",
              "7      238\n",
              "12      67\n",
              "9       57\n",
              "15      25\n",
              "14      25\n",
              "11      14\n",
              "20      13\n",
              "16       9\n",
              "13       6\n",
              "30       6\n",
              "25       5\n",
              "18       5\n",
              "26       3\n",
              "24       2\n",
              "40       2\n",
              "50       2\n",
              "38       1\n",
              "42       1\n",
              "34       1\n",
              "23       1\n",
              "Name: vagas, dtype: int64"
            ]
          },
          "metadata": {},
          "execution_count": 31
        }
      ]
    },
    {
      "cell_type": "code",
      "source": [
        "dados.vagas[dados.vagas == 4].value_counts()"
      ],
      "metadata": {
        "colab": {
          "base_uri": "https://localhost:8080/"
        },
        "id": "z7oHqBtHFSzp",
        "outputId": "595f879e-90bd-463c-bb00-f7cea5571937"
      },
      "execution_count": null,
      "outputs": [
        {
          "output_type": "execute_result",
          "data": {
            "text/plain": [
              "4    2117\n",
              "Name: vagas, dtype: int64"
            ]
          },
          "metadata": {},
          "execution_count": 32
        }
      ]
    },
    {
      "cell_type": "code",
      "source": [
        "\n",
        "dados.mean(numeric_only=True)"
      ],
      "metadata": {
        "colab": {
          "base_uri": "https://localhost:8080/"
        },
        "id": "uPLs-RTV_8-z",
        "outputId": "5fd8520c-7e45-46b7-8549-b94de7963d82"
      },
      "execution_count": null,
      "outputs": [
        {
          "output_type": "execute_result",
          "data": {
            "text/plain": [
              "metragem     4.423007e+02\n",
              "quartos      3.483114e+00\n",
              "banheiros    3.879097e+00\n",
              "vagas        4.097222e+00\n",
              "valor        3.052203e+06\n",
              "dtype: float64"
            ]
          },
          "metadata": {},
          "execution_count": 33
        }
      ]
    },
    {
      "cell_type": "code",
      "source": [
        "dados.median(numeric_only=True)"
      ],
      "metadata": {
        "colab": {
          "base_uri": "https://localhost:8080/"
        },
        "id": "kgWG-NooAAhj",
        "outputId": "ba333c50-fd7a-4138-c52b-9c3094cccaa5"
      },
      "execution_count": null,
      "outputs": [
        {
          "output_type": "execute_result",
          "data": {
            "text/plain": [
              "metragem         290.0\n",
              "quartos            3.0\n",
              "banheiros          4.0\n",
              "vagas              4.0\n",
              "valor        1800000.0\n",
              "dtype: float64"
            ]
          },
          "metadata": {},
          "execution_count": 34
        }
      ]
    },
    {
      "cell_type": "code",
      "source": [
        "dados.min(numeric_only=True)"
      ],
      "metadata": {
        "colab": {
          "base_uri": "https://localhost:8080/"
        },
        "id": "2GWHOfpOAAj2",
        "outputId": "e34e7d95-0c3d-452e-8454-cecb85c65301"
      },
      "execution_count": null,
      "outputs": [
        {
          "output_type": "execute_result",
          "data": {
            "text/plain": [
              "metragem        10.0\n",
              "quartos          1.0\n",
              "banheiros        1.0\n",
              "vagas            1.0\n",
              "valor        13000.0\n",
              "dtype: float64"
            ]
          },
          "metadata": {},
          "execution_count": 35
        }
      ]
    },
    {
      "cell_type": "code",
      "source": [
        "dados.max(numeric_only=True)"
      ],
      "metadata": {
        "colab": {
          "base_uri": "https://localhost:8080/"
        },
        "id": "BdMRlyi_AAly",
        "outputId": "a0c056a0-cccd-4928-e1eb-09cebea09f02"
      },
      "execution_count": null,
      "outputs": [
        {
          "output_type": "execute_result",
          "data": {
            "text/plain": [
              "metragem       750000.0\n",
              "quartos            16.0\n",
              "banheiros          40.0\n",
              "vagas              50.0\n",
              "valor        65000000.0\n",
              "dtype: float64"
            ]
          },
          "metadata": {},
          "execution_count": 36
        }
      ]
    },
    {
      "cell_type": "markdown",
      "source": [
        "5 - Descobrir quais são os bairros que não tem nome de Rua."
      ],
      "metadata": {
        "id": "om5f1VYtyI_R"
      }
    },
    {
      "cell_type": "code",
      "source": [
        "dados.columns"
      ],
      "metadata": {
        "colab": {
          "base_uri": "https://localhost:8080/"
        },
        "id": "J5epdSrtEWxa",
        "outputId": "ca418673-8566-4189-eeef-4ac561ccdaac"
      },
      "execution_count": null,
      "outputs": [
        {
          "output_type": "execute_result",
          "data": {
            "text/plain": [
              "Index(['rua', 'bairro', 'cidade', 'metragem', 'quartos', 'banheiros', 'vagas',\n",
              "       'valor'],\n",
              "      dtype='object')"
            ]
          },
          "metadata": {},
          "execution_count": 37
        }
      ]
    },
    {
      "cell_type": "code",
      "source": [
        "dados.bairro[dados.bairro.str.contains('Rua') == False]"
      ],
      "metadata": {
        "colab": {
          "base_uri": "https://localhost:8080/"
        },
        "id": "eB-lYsKVEQlK",
        "outputId": "e914d722-20d5-4626-d7b2-f3bc27c63548"
      },
      "execution_count": null,
      "outputs": [
        {
          "output_type": "execute_result",
          "data": {
            "text/plain": [
              "0         Planalto Paulista\n",
              "1        Jardim dos Estados\n",
              "2           Jardim Reimberg\n",
              "3            Jardim Morumbi\n",
              "4                     Mooca\n",
              "                ...        \n",
              "10003            Vila Sofia\n",
              "10004       Bosque da Saúde\n",
              "10005         Vila da Saúde\n",
              "10006         Vila Oratório\n",
              "10007           Vila Alpina\n",
              "Name: bairro, Length: 9996, dtype: object"
            ]
          },
          "metadata": {},
          "execution_count": 38
        }
      ]
    },
    {
      "cell_type": "markdown",
      "source": [
        "6 - Criem uma escala de valores em milhões (De alguma das colunas existentes nos dados)\n"
      ],
      "metadata": {
        "id": "3Jj2QwAoyNF4"
      }
    },
    {
      "cell_type": "code",
      "source": [
        "dados.columns"
      ],
      "metadata": {
        "colab": {
          "base_uri": "https://localhost:8080/"
        },
        "id": "WXfRvcmGHatQ",
        "outputId": "463a4454-eb49-47a3-af5a-bcbf9898a652"
      },
      "execution_count": null,
      "outputs": [
        {
          "output_type": "execute_result",
          "data": {
            "text/plain": [
              "Index(['rua', 'bairro', 'cidade', 'metragem', 'quartos', 'banheiros', 'vagas',\n",
              "       'valor'],\n",
              "      dtype='object')"
            ]
          },
          "metadata": {},
          "execution_count": 39
        }
      ]
    },
    {
      "cell_type": "code",
      "source": [
        "dados.valor.info()"
      ],
      "metadata": {
        "colab": {
          "base_uri": "https://localhost:8080/"
        },
        "id": "KI_FY2YdLLAS",
        "outputId": "26de32da-dc66-45f0-c11e-07f2a87d6409"
      },
      "execution_count": null,
      "outputs": [
        {
          "output_type": "stream",
          "name": "stdout",
          "text": [
            "<class 'pandas.core.series.Series'>\n",
            "RangeIndex: 10008 entries, 0 to 10007\n",
            "Series name: valor\n",
            "Non-Null Count  Dtype  \n",
            "--------------  -----  \n",
            "9156 non-null   float64\n",
            "dtypes: float64(1)\n",
            "memory usage: 78.3 KB\n"
          ]
        }
      ]
    },
    {
      "cell_type": "code",
      "source": [
        "dados.metragem.info()"
      ],
      "metadata": {
        "colab": {
          "base_uri": "https://localhost:8080/"
        },
        "id": "m1FVC4WYLLCg",
        "outputId": "3ecc7dbd-e36a-4ae2-fa75-57092d5f5cc6"
      },
      "execution_count": null,
      "outputs": [
        {
          "output_type": "stream",
          "name": "stdout",
          "text": [
            "<class 'pandas.core.series.Series'>\n",
            "RangeIndex: 10008 entries, 0 to 10007\n",
            "Series name: metragem\n",
            "Non-Null Count  Dtype\n",
            "--------------  -----\n",
            "10008 non-null  int64\n",
            "dtypes: int64(1)\n",
            "memory usage: 78.3 KB\n"
          ]
        }
      ]
    },
    {
      "cell_type": "code",
      "source": [
        "dados['valor_por_metro'] = (dados.valor / dados.metragem) / 1000000"
      ],
      "metadata": {
        "id": "Me4zKOWzGsjQ"
      },
      "execution_count": null,
      "outputs": []
    },
    {
      "cell_type": "code",
      "source": [
        "dados.valor_por_metro"
      ],
      "metadata": {
        "id": "WveTMnTkGslX",
        "colab": {
          "base_uri": "https://localhost:8080/"
        },
        "outputId": "04382dea-dab5-418f-d079-b46b29b28358"
      },
      "execution_count": null,
      "outputs": [
        {
          "output_type": "execute_result",
          "data": {
            "text/plain": [
              "0        0.007000\n",
              "1        0.007460\n",
              "2        0.003040\n",
              "3        0.002210\n",
              "4        0.005400\n",
              "           ...   \n",
              "10003    0.007000\n",
              "10004    0.003802\n",
              "10005    0.005122\n",
              "10006         NaN\n",
              "10007    0.002213\n",
              "Name: valor_por_metro, Length: 10008, dtype: float64"
            ]
          },
          "metadata": {},
          "execution_count": 43
        }
      ]
    },
    {
      "cell_type": "code",
      "source": [
        "dados.valor_por_metro.fillna(0.0)"
      ],
      "metadata": {
        "id": "fzq1IbeTGsnf",
        "colab": {
          "base_uri": "https://localhost:8080/"
        },
        "outputId": "c12f398d-813d-4928-9719-b2f751317794"
      },
      "execution_count": null,
      "outputs": [
        {
          "output_type": "execute_result",
          "data": {
            "text/plain": [
              "0        0.007000\n",
              "1        0.007460\n",
              "2        0.003040\n",
              "3        0.002210\n",
              "4        0.005400\n",
              "           ...   \n",
              "10003    0.007000\n",
              "10004    0.003802\n",
              "10005    0.005122\n",
              "10006    0.000000\n",
              "10007    0.002213\n",
              "Name: valor_por_metro, Length: 10008, dtype: float64"
            ]
          },
          "metadata": {},
          "execution_count": 44
        }
      ]
    },
    {
      "cell_type": "markdown",
      "source": [
        "7 - Criem um gráfico de histograma com valores legíveis (alterar labels, cores, título, escala)\n"
      ],
      "metadata": {
        "id": "zKkmMYFizNu9"
      }
    },
    {
      "cell_type": "code",
      "source": [
        "axes = dados.hist(layout=(1, len(dados.columns)), figsize=(15, 5), bins=10)\n",
        "\n",
        "for ax, column in zip(axes.flatten(), dados.columns):\n",
        "  ax.set_title(column.upper())"
      ],
      "metadata": {
        "colab": {
          "base_uri": "https://localhost:8080/",
          "height": 486
        },
        "id": "fyQJMfdRMLn4",
        "outputId": "b1e5863f-e5a3-495c-f704-060b71d846cb"
      },
      "execution_count": null,
      "outputs": [
        {
          "output_type": "display_data",
          "data": {
            "text/plain": [
              "<Figure size 1500x500 with 9 Axes>"
            ],
            "image/png": "[encoded data removed]"
          },
          "metadata": {}
        }
      ]
    },
    {
      "cell_type": "markdown",
      "source": [
        "8 - Faça um gráfico de preço do metro quadrado por bairro."
      ],
      "metadata": {
        "id": "n7RrpQ_DzQuM"
      }
    },
    {
      "cell_type": "code",
      "source": [
        "dados['valor_por_metro'] = (dados.valor / dados.metragem)"
      ],
      "metadata": {
        "id": "lVDfR79iM1RI"
      },
      "execution_count": null,
      "outputs": []
    },
    {
      "cell_type": "code",
      "source": [
        "colunas = ['bairro', 'valor_por_metro']\n",
        "\n",
        "df_plot = dados.groupby('bairro')[colunas].mean(numeric_only=True)\n",
        "df_plot"
      ],
      "metadata": {
        "colab": {
          "base_uri": "https://localhost:8080/",
          "height": 455
        },
        "id": "zZbPC-ktM2C-",
        "outputId": "b1e6512e-63b7-43ac-c2ae-037ed51a635c"
      },
      "execution_count": null,
      "outputs": [
        {
          "output_type": "execute_result",
          "data": {
            "text/plain": [
              "                   valor_por_metro\n",
              "bairro                            \n",
              "Aclimação              7656.169465\n",
              "Alto da Boa Vista      5849.569011\n",
              "Alto da Lapa           7606.728080\n",
              "Alto da Mooca          5691.740133\n",
              "Alto de Pinheiros     11269.979971\n",
              "...                            ...\n",
              "Vila Água Funda        4467.127995\n",
              "Água Branca            7269.113912\n",
              "Água Fria              5841.104428\n",
              "Água Funda             3876.862745\n",
              "Água Rasa              4509.608463\n",
              "\n",
              "[701 rows x 1 columns]"
            ],
            "text/html": [
              "\n",
              "  <div id=\"df-435452c1-6f71-418e-a208-11608c1a1623\" class=\"colab-df-container\">\n",
              "    <div>\n",
              "<style scoped>\n",
              "    .dataframe tbody tr th:only-of-type {\n",
              "        vertical-align: middle;\n",
              "    }\n",
              "\n",
              "    .dataframe tbody tr th {\n",
              "        vertical-align: top;\n",
              "    }\n",
              "\n",
              "    .dataframe thead th {\n",
              "        text-align: right;\n",
              "    }\n",
              "</style>\n",
              "<table border=\"1\" class=\"dataframe\">\n",
              "  <thead>\n",
              "    <tr style=\"text-align: right;\">\n",
              "      <th></th>\n",
              "      <th>valor_por_metro</th>\n",
              "    </tr>\n",
              "    <tr>\n",
              "      <th>bairro</th>\n",
              "      <th></th>\n",
              "    </tr>\n",
              "  </thead>\n",
              "  <tbody>\n",
              "    <tr>\n",
              "      <th>Aclimação</th>\n",
              "      <td>7656.169465</td>\n",
              "    </tr>\n",
              "    <tr>\n",
              "      <th>Alto da Boa Vista</th>\n",
              "      <td>5849.569011</td>\n",
              "    </tr>\n",
              "    <tr>\n",
              "      <th>Alto da Lapa</th>\n",
              "      <td>7606.728080</td>\n",
              "    </tr>\n",
              "    <tr>\n",
              "      <th>Alto da Mooca</th>\n",
              "      <td>5691.740133</td>\n",
              "    </tr>\n",
              "    <tr>\n",
              "      <th>Alto de Pinheiros</th>\n",
              "      <td>11269.979971</td>\n",
              "    </tr>\n",
              "    <tr>\n",
              "      <th>...</th>\n",
              "      <td>...</td>\n",
              "    </tr>\n",
              "    <tr>\n",
              "      <th>Vila Água Funda</th>\n",
              "      <td>4467.127995</td>\n",
              "    </tr>\n",
              "    <tr>\n",
              "      <th>Água Branca</th>\n",
              "      <td>7269.113912</td>\n",
              "    </tr>\n",
              "    <tr>\n",
              "      <th>Água Fria</th>\n",
              "      <td>5841.104428</td>\n",
              "    </tr>\n",
              "    <tr>\n",
              "      <th>Água Funda</th>\n",
              "      <td>3876.862745</td>\n",
              "    </tr>\n",
              "    <tr>\n",
              "      <th>Água Rasa</th>\n",
              "      <td>4509.608463</td>\n",
              "    </tr>\n",
              "  </tbody>\n",
              "</table>\n",
              "<p>701 rows × 1 columns</p>\n",
              "</div>\n",
              "    <div class=\"colab-df-buttons\">\n",
              "\n",
              "  <div class=\"colab-df-container\">\n",
              "    <button class=\"colab-df-convert\" onclick=\"convertToInteractive('df-435452c1-6f71-418e-a208-11608c1a1623')\"\n",
              "            title=\"Convert this dataframe to an interactive table.\"\n",
              "            style=\"display:none;\">\n",
              "\n",
              "  <svg xmlns=\"http://www.w3.org/2000/svg\" height=\"24px\" viewBox=\"0 -960 960 960\">\n",
              "    <path d=\"M120-120v-720h720v720H120Zm60-500h600v-160H180v160Zm220 220h160v-160H400v160Zm0 220h160v-160H400v160ZM180-400h160v-160H180v160Zm440 0h160v-160H620v160ZM180-180h160v-160H180v160Zm440 0h160v-160H620v160Z\"/>\n",
              "  </svg>\n",
              "    </button>\n",
              "\n",
              "  <style>\n",
              "    .colab-df-container {\n",
              "      display:flex;\n",
              "      gap: 12px;\n",
              "    }\n",
              "\n",
              "    .colab-df-convert {\n",
              "      background-color: #E8F0FE;\n",
              "      border: none;\n",
              "      border-radius: 50%;\n",
              "      cursor: pointer;\n",
              "      display: none;\n",
              "      fill: #1967D2;\n",
              "      height: 32px;\n",
              "      padding: 0 0 0 0;\n",
              "      width: 32px;\n",
              "    }\n",
              "\n",
              "    .colab-df-convert:hover {\n",
              "      background-color: #E2EBFA;\n",
              "      box-shadow: 0px 1px 2px rgba(60, 64, 67, 0.3), 0px 1px 3px 1px rgba(60, 64, 67, 0.15);\n",
              "      fill: #174EA6;\n",
              "    }\n",
              "\n",
              "    .colab-df-buttons div {\n",
              "      margin-bottom: 4px;\n",
              "    }\n",
              "\n",
              "    [theme=dark] .colab-df-convert {\n",
              "      background-color: #3B4455;\n",
              "      fill: #D2E3FC;\n",
              "    }\n",
              "\n",
              "    [theme=dark] .colab-df-convert:hover {\n",
              "      background-color: #434B5C;\n",
              "      box-shadow: 0px 1px 3px 1px rgba(0, 0, 0, 0.15);\n",
              "      filter: drop-shadow(0px 1px 2px rgba(0, 0, 0, 0.3));\n",
              "      fill: #FFFFFF;\n",
              "    }\n",
              "  </style>\n",
              "\n",
              "    <script>\n",
              "      const buttonEl =\n",
              "        document.querySelector('#df-435452c1-6f71-418e-a208-11608c1a1623 button.colab-df-convert');\n",
              "      buttonEl.style.display =\n",
              "        google.colab.kernel.accessAllowed ? 'block' : 'none';\n",
              "\n",
              "      async function convertToInteractive(key) {\n",
              "        const element = document.querySelector('#df-435452c1-6f71-418e-a208-11608c1a1623');\n",
              "        const dataTable =\n",
              "          await google.colab.kernel.invokeFunction('convertToInteractive',\n",
              "                                                    [key], {});\n",
              "        if (!dataTable) return;\n",
              "\n",
              "        const docLinkHtml = 'Like what you see? Visit the ' +\n",
              "          '<a target=\"_blank\" href=https://colab.research.google.com/notebooks/data_table.ipynb>data table notebook</a>'\n",
              "          + ' to learn more about interactive tables.';\n",
              "        element.innerHTML = '';\n",
              "        dataTable['output_type'] = 'display_data';\n",
              "        await google.colab.output.renderOutput(dataTable, element);\n",
              "        const docLink = document.createElement('div');\n",
              "        docLink.innerHTML = docLinkHtml;\n",
              "        element.appendChild(docLink);\n",
              "      }\n",
              "    </script>\n",
              "  </div>\n",
              "\n",
              "\n",
              "<div id=\"df-13dc247b-164c-43ea-9e85-ea565b9f9168\">\n",
              "  <button class=\"colab-df-quickchart\" onclick=\"quickchart('df-13dc247b-164c-43ea-9e85-ea565b9f9168')\"\n",
              "            title=\"Suggest charts\"\n",
              "            style=\"display:none;\">\n",
              "\n",
              "<svg xmlns=\"http://www.w3.org/2000/svg\" height=\"24px\"viewBox=\"0 0 24 24\"\n",
              "     width=\"24px\">\n",
              "    <g>\n",
              "        <path d=\"M19 3H5c-1.1 0-2 .9-2 2v14c0 1.1.9 2 2 2h14c1.1 0 2-.9 2-2V5c0-1.1-.9-2-2-2zM9 17H7v-7h2v7zm4 0h-2V7h2v10zm4 0h-2v-4h2v4z\"/>\n",
              "    </g>\n",
              "</svg>\n",
              "  </button>\n",
              "\n",
              "<style>\n",
              "  .colab-df-quickchart {\n",
              "      --bg-color: #E8F0FE;\n",
              "      --fill-color: #1967D2;\n",
              "      --hover-bg-color: #E2EBFA;\n",
              "      --hover-fill-color: #174EA6;\n",
              "      --disabled-fill-color: #AAA;\n",
              "      --disabled-bg-color: #DDD;\n",
              "  }\n",
              "\n",
              "  [theme=dark] .colab-df-quickchart {\n",
              "      --bg-color: #3B4455;\n",
              "      --fill-color: #D2E3FC;\n",
              "      --hover-bg-color: #434B5C;\n",
              "      --hover-fill-color: #FFFFFF;\n",
              "      --disabled-bg-color: #3B4455;\n",
              "      --disabled-fill-color: #666;\n",
              "  }\n",
              "\n",
              "  .colab-df-quickchart {\n",
              "    background-color: var(--bg-color);\n",
              "    border: none;\n",
              "    border-radius: 50%;\n",
              "    cursor: pointer;\n",
              "    display: none;\n",
              "    fill: var(--fill-color);\n",
              "    height: 32px;\n",
              "    padding: 0;\n",
              "    width: 32px;\n",
              "  }\n",
              "\n",
              "  .colab-df-quickchart:hover {\n",
              "    background-color: var(--hover-bg-color);\n",
              "    box-shadow: 0 1px 2px rgba(60, 64, 67, 0.3), 0 1px 3px 1px rgba(60, 64, 67, 0.15);\n",
              "    fill: var(--button-hover-fill-color);\n",
              "  }\n",
              "\n",
              "  .colab-df-quickchart-complete:disabled,\n",
              "  .colab-df-quickchart-complete:disabled:hover {\n",
              "    background-color: var(--disabled-bg-color);\n",
              "    fill: var(--disabled-fill-color);\n",
              "    box-shadow: none;\n",
              "  }\n",
              "\n",
              "  .colab-df-spinner {\n",
              "    border: 2px solid var(--fill-color);\n",
              "    border-color: transparent;\n",
              "    border-bottom-color: var(--fill-color);\n",
              "    animation:\n",
              "      spin 1s steps(1) infinite;\n",
              "  }\n",
              "\n",
              "  @keyframes spin {\n",
              "    0% {\n",
              "      border-color: transparent;\n",
              "      border-bottom-color: var(--fill-color);\n",
              "      border-left-color: var(--fill-color);\n",
              "    }\n",
              "    20% {\n",
              "      border-color: transparent;\n",
              "      border-left-color: var(--fill-color);\n",
              "      border-top-color: var(--fill-color);\n",
              "    }\n",
              "    30% {\n",
              "      border-color: transparent;\n",
              "      border-left-color: var(--fill-color);\n",
              "      border-top-color: var(--fill-color);\n",
              "      border-right-color: var(--fill-color);\n",
              "    }\n",
              "    40% {\n",
              "      border-color: transparent;\n",
              "      border-right-color: var(--fill-color);\n",
              "      border-top-color: var(--fill-color);\n",
              "    }\n",
              "    60% {\n",
              "      border-color: transparent;\n",
              "      border-right-color: var(--fill-color);\n",
              "    }\n",
              "    80% {\n",
              "      border-color: transparent;\n",
              "      border-right-color: var(--fill-color);\n",
              "      border-bottom-color: var(--fill-color);\n",
              "    }\n",
              "    90% {\n",
              "      border-color: transparent;\n",
              "      border-bottom-color: var(--fill-color);\n",
              "    }\n",
              "  }\n",
              "</style>\n",
              "\n",
              "  <script>\n",
              "    async function quickchart(key) {\n",
              "      const quickchartButtonEl =\n",
              "        document.querySelector('#' + key + ' button');\n",
              "      quickchartButtonEl.disabled = true;  // To prevent multiple clicks.\n",
              "      quickchartButtonEl.classList.add('colab-df-spinner');\n",
              "      try {\n",
              "        const charts = await google.colab.kernel.invokeFunction(\n",
              "            'suggestCharts', [key], {});\n",
              "      } catch (error) {\n",
              "        console.error('Error during call to suggestCharts:', error);\n",
              "      }\n",
              "      quickchartButtonEl.classList.remove('colab-df-spinner');\n",
              "      quickchartButtonEl.classList.add('colab-df-quickchart-complete');\n",
              "    }\n",
              "    (() => {\n",
              "      let quickchartButtonEl =\n",
              "        document.querySelector('#df-13dc247b-164c-43ea-9e85-ea565b9f9168 button');\n",
              "      quickchartButtonEl.style.display =\n",
              "        google.colab.kernel.accessAllowed ? 'block' : 'none';\n",
              "    })();\n",
              "  </script>\n",
              "</div>\n",
              "    </div>\n",
              "  </div>\n"
            ],
            "application/vnd.google.colaboratory.intrinsic+json": {
              "type": "dataframe",
              "variable_name": "df_plot",
              "summary": "{\n  \"name\": \"df_plot\",\n  \"rows\": 701,\n  \"fields\": [\n    {\n      \"column\": \"bairro\",\n      \"properties\": {\n        \"dtype\": \"string\",\n        \"num_unique_values\": 701,\n        \"samples\": [\n          \"Vila Tramontano\",\n          \"Jardim Gonzaga\",\n          \"Cidade Centen\\u00e1rio\"\n        ],\n        \"semantic_type\": \"\",\n        \"description\": \"\"\n      }\n    },\n    {\n      \"column\": \"valor_por_metro\",\n      \"properties\": {\n        \"dtype\": \"number\",\n        \"std\": 3846.677601062389,\n        \"min\": 78.37837837837837,\n        \"max\": 80000.0,\n        \"num_unique_values\": 675,\n        \"samples\": [\n          5172.111194627454,\n          5570.303905390539,\n          3876.8627450980393\n        ],\n        \"semantic_type\": \"\",\n        \"description\": \"\"\n      }\n    }\n  ]\n}"
            }
          },
          "metadata": {},
          "execution_count": 47
        }
      ]
    },
    {
      "cell_type": "code",
      "source": [
        "df_plot = pd.DataFrame(df_plot)\n",
        "df_plot"
      ],
      "metadata": {
        "colab": {
          "base_uri": "https://localhost:8080/",
          "height": 455
        },
        "id": "7yrz-MM8OSWb",
        "outputId": "b9223762-e72f-4501-a3fc-832f7cad7ddb"
      },
      "execution_count": null,
      "outputs": [
        {
          "output_type": "execute_result",
          "data": {
            "text/plain": [
              "                   valor_por_metro\n",
              "bairro                            \n",
              "Aclimação              7656.169465\n",
              "Alto da Boa Vista      5849.569011\n",
              "Alto da Lapa           7606.728080\n",
              "Alto da Mooca          5691.740133\n",
              "Alto de Pinheiros     11269.979971\n",
              "...                            ...\n",
              "Vila Água Funda        4467.127995\n",
              "Água Branca            7269.113912\n",
              "Água Fria              5841.104428\n",
              "Água Funda             3876.862745\n",
              "Água Rasa              4509.608463\n",
              "\n",
              "[701 rows x 1 columns]"
            ],
            "text/html": [
              "\n",
              "  <div id=\"df-ab100b86-77ce-4295-8be4-8a97c262e50b\" class=\"colab-df-container\">\n",
              "    <div>\n",
              "<style scoped>\n",
              "    .dataframe tbody tr th:only-of-type {\n",
              "        vertical-align: middle;\n",
              "    }\n",
              "\n",
              "    .dataframe tbody tr th {\n",
              "        vertical-align: top;\n",
              "    }\n",
              "\n",
              "    .dataframe thead th {\n",
              "        text-align: right;\n",
              "    }\n",
              "</style>\n",
              "<table border=\"1\" class=\"dataframe\">\n",
              "  <thead>\n",
              "    <tr style=\"text-align: right;\">\n",
              "      <th></th>\n",
              "      <th>valor_por_metro</th>\n",
              "    </tr>\n",
              "    <tr>\n",
              "      <th>bairro</th>\n",
              "      <th></th>\n",
              "    </tr>\n",
              "  </thead>\n",
              "  <tbody>\n",
              "    <tr>\n",
              "      <th>Aclimação</th>\n",
              "      <td>7656.169465</td>\n",
              "    </tr>\n",
              "    <tr>\n",
              "      <th>Alto da Boa Vista</th>\n",
              "      <td>5849.569011</td>\n",
              "    </tr>\n",
              "    <tr>\n",
              "      <th>Alto da Lapa</th>\n",
              "      <td>7606.728080</td>\n",
              "    </tr>\n",
              "    <tr>\n",
              "      <th>Alto da Mooca</th>\n",
              "      <td>5691.740133</td>\n",
              "    </tr>\n",
              "    <tr>\n",
              "      <th>Alto de Pinheiros</th>\n",
              "      <td>11269.979971</td>\n",
              "    </tr>\n",
              "    <tr>\n",
              "      <th>...</th>\n",
              "      <td>...</td>\n",
              "    </tr>\n",
              "    <tr>\n",
              "      <th>Vila Água Funda</th>\n",
              "      <td>4467.127995</td>\n",
              "    </tr>\n",
              "    <tr>\n",
              "      <th>Água Branca</th>\n",
              "      <td>7269.113912</td>\n",
              "    </tr>\n",
              "    <tr>\n",
              "      <th>Água Fria</th>\n",
              "      <td>5841.104428</td>\n",
              "    </tr>\n",
              "    <tr>\n",
              "      <th>Água Funda</th>\n",
              "      <td>3876.862745</td>\n",
              "    </tr>\n",
              "    <tr>\n",
              "      <th>Água Rasa</th>\n",
              "      <td>4509.608463</td>\n",
              "    </tr>\n",
              "  </tbody>\n",
              "</table>\n",
              "<p>701 rows × 1 columns</p>\n",
              "</div>\n",
              "    <div class=\"colab-df-buttons\">\n",
              "\n",
              "  <div class=\"colab-df-container\">\n",
              "    <button class=\"colab-df-convert\" onclick=\"convertToInteractive('df-ab100b86-77ce-4295-8be4-8a97c262e50b')\"\n",
              "            title=\"Convert this dataframe to an interactive table.\"\n",
              "            style=\"display:none;\">\n",
              "\n",
              "  <svg xmlns=\"http://www.w3.org/2000/svg\" height=\"24px\" viewBox=\"0 -960 960 960\">\n",
              "    <path d=\"M120-120v-720h720v720H120Zm60-500h600v-160H180v160Zm220 220h160v-160H400v160Zm0 220h160v-160H400v160ZM180-400h160v-160H180v160Zm440 0h160v-160H620v160ZM180-180h160v-160H180v160Zm440 0h160v-160H620v160Z\"/>\n",
              "  </svg>\n",
              "    </button>\n",
              "\n",
              "  <style>\n",
              "    .colab-df-container {\n",
              "      display:flex;\n",
              "      gap: 12px;\n",
              "    }\n",
              "\n",
              "    .colab-df-convert {\n",
              "      background-color: #E8F0FE;\n",
              "      border: none;\n",
              "      border-radius: 50%;\n",
              "      cursor: pointer;\n",
              "      display: none;\n",
              "      fill: #1967D2;\n",
              "      height: 32px;\n",
              "      padding: 0 0 0 0;\n",
              "      width: 32px;\n",
              "    }\n",
              "\n",
              "    .colab-df-convert:hover {\n",
              "      background-color: #E2EBFA;\n",
              "      box-shadow: 0px 1px 2px rgba(60, 64, 67, 0.3), 0px 1px 3px 1px rgba(60, 64, 67, 0.15);\n",
              "      fill: #174EA6;\n",
              "    }\n",
              "\n",
              "    .colab-df-buttons div {\n",
              "      margin-bottom: 4px;\n",
              "    }\n",
              "\n",
              "    [theme=dark] .colab-df-convert {\n",
              "      background-color: #3B4455;\n",
              "      fill: #D2E3FC;\n",
              "    }\n",
              "\n",
              "    [theme=dark] .colab-df-convert:hover {\n",
              "      background-color: #434B5C;\n",
              "      box-shadow: 0px 1px 3px 1px rgba(0, 0, 0, 0.15);\n",
              "      filter: drop-shadow(0px 1px 2px rgba(0, 0, 0, 0.3));\n",
              "      fill: #FFFFFF;\n",
              "    }\n",
              "  </style>\n",
              "\n",
              "    <script>\n",
              "      const buttonEl =\n",
              "        document.querySelector('#df-ab100b86-77ce-4295-8be4-8a97c262e50b button.colab-df-convert');\n",
              "      buttonEl.style.display =\n",
              "        google.colab.kernel.accessAllowed ? 'block' : 'none';\n",
              "\n",
              "      async function convertToInteractive(key) {\n",
              "        const element = document.querySelector('#df-ab100b86-77ce-4295-8be4-8a97c262e50b');\n",
              "        const dataTable =\n",
              "          await google.colab.kernel.invokeFunction('convertToInteractive',\n",
              "                                                    [key], {});\n",
              "        if (!dataTable) return;\n",
              "\n",
              "        const docLinkHtml = 'Like what you see? Visit the ' +\n",
              "          '<a target=\"_blank\" href=https://colab.research.google.com/notebooks/data_table.ipynb>data table notebook</a>'\n",
              "          + ' to learn more about interactive tables.';\n",
              "        element.innerHTML = '';\n",
              "        dataTable['output_type'] = 'display_data';\n",
              "        await google.colab.output.renderOutput(dataTable, element);\n",
              "        const docLink = document.createElement('div');\n",
              "        docLink.innerHTML = docLinkHtml;\n",
              "        element.appendChild(docLink);\n",
              "      }\n",
              "    </script>\n",
              "  </div>\n",
              "\n",
              "\n",
              "<div id=\"df-97cd21c3-230d-4cd2-a008-96062a0a6011\">\n",
              "  <button class=\"colab-df-quickchart\" onclick=\"quickchart('df-97cd21c3-230d-4cd2-a008-96062a0a6011')\"\n",
              "            title=\"Suggest charts\"\n",
              "            style=\"display:none;\">\n",
              "\n",
              "<svg xmlns=\"http://www.w3.org/2000/svg\" height=\"24px\"viewBox=\"0 0 24 24\"\n",
              "     width=\"24px\">\n",
              "    <g>\n",
              "        <path d=\"M19 3H5c-1.1 0-2 .9-2 2v14c0 1.1.9 2 2 2h14c1.1 0 2-.9 2-2V5c0-1.1-.9-2-2-2zM9 17H7v-7h2v7zm4 0h-2V7h2v10zm4 0h-2v-4h2v4z\"/>\n",
              "    </g>\n",
              "</svg>\n",
              "  </button>\n",
              "\n",
              "<style>\n",
              "  .colab-df-quickchart {\n",
              "      --bg-color: #E8F0FE;\n",
              "      --fill-color: #1967D2;\n",
              "      --hover-bg-color: #E2EBFA;\n",
              "      --hover-fill-color: #174EA6;\n",
              "      --disabled-fill-color: #AAA;\n",
              "      --disabled-bg-color: #DDD;\n",
              "  }\n",
              "\n",
              "  [theme=dark] .colab-df-quickchart {\n",
              "      --bg-color: #3B4455;\n",
              "      --fill-color: #D2E3FC;\n",
              "      --hover-bg-color: #434B5C;\n",
              "      --hover-fill-color: #FFFFFF;\n",
              "      --disabled-bg-color: #3B4455;\n",
              "      --disabled-fill-color: #666;\n",
              "  }\n",
              "\n",
              "  .colab-df-quickchart {\n",
              "    background-color: var(--bg-color);\n",
              "    border: none;\n",
              "    border-radius: 50%;\n",
              "    cursor: pointer;\n",
              "    display: none;\n",
              "    fill: var(--fill-color);\n",
              "    height: 32px;\n",
              "    padding: 0;\n",
              "    width: 32px;\n",
              "  }\n",
              "\n",
              "  .colab-df-quickchart:hover {\n",
              "    background-color: var(--hover-bg-color);\n",
              "    box-shadow: 0 1px 2px rgba(60, 64, 67, 0.3), 0 1px 3px 1px rgba(60, 64, 67, 0.15);\n",
              "    fill: var(--button-hover-fill-color);\n",
              "  }\n",
              "\n",
              "  .colab-df-quickchart-complete:disabled,\n",
              "  .colab-df-quickchart-complete:disabled:hover {\n",
              "    background-color: var(--disabled-bg-color);\n",
              "    fill: var(--disabled-fill-color);\n",
              "    box-shadow: none;\n",
              "  }\n",
              "\n",
              "  .colab-df-spinner {\n",
              "    border: 2px solid var(--fill-color);\n",
              "    border-color: transparent;\n",
              "    border-bottom-color: var(--fill-color);\n",
              "    animation:\n",
              "      spin 1s steps(1) infinite;\n",
              "  }\n",
              "\n",
              "  @keyframes spin {\n",
              "    0% {\n",
              "      border-color: transparent;\n",
              "      border-bottom-color: var(--fill-color);\n",
              "      border-left-color: var(--fill-color);\n",
              "    }\n",
              "    20% {\n",
              "      border-color: transparent;\n",
              "      border-left-color: var(--fill-color);\n",
              "      border-top-color: var(--fill-color);\n",
              "    }\n",
              "    30% {\n",
              "      border-color: transparent;\n",
              "      border-left-color: var(--fill-color);\n",
              "      border-top-color: var(--fill-color);\n",
              "      border-right-color: var(--fill-color);\n",
              "    }\n",
              "    40% {\n",
              "      border-color: transparent;\n",
              "      border-right-color: var(--fill-color);\n",
              "      border-top-color: var(--fill-color);\n",
              "    }\n",
              "    60% {\n",
              "      border-color: transparent;\n",
              "      border-right-color: var(--fill-color);\n",
              "    }\n",
              "    80% {\n",
              "      border-color: transparent;\n",
              "      border-right-color: var(--fill-color);\n",
              "      border-bottom-color: var(--fill-color);\n",
              "    }\n",
              "    90% {\n",
              "      border-color: transparent;\n",
              "      border-bottom-color: var(--fill-color);\n",
              "    }\n",
              "  }\n",
              "</style>\n",
              "\n",
              "  <script>\n",
              "    async function quickchart(key) {\n",
              "      const quickchartButtonEl =\n",
              "        document.querySelector('#' + key + ' button');\n",
              "      quickchartButtonEl.disabled = true;  // To prevent multiple clicks.\n",
              "      quickchartButtonEl.classList.add('colab-df-spinner');\n",
              "      try {\n",
              "        const charts = await google.colab.kernel.invokeFunction(\n",
              "            'suggestCharts', [key], {});\n",
              "      } catch (error) {\n",
              "        console.error('Error during call to suggestCharts:', error);\n",
              "      }\n",
              "      quickchartButtonEl.classList.remove('colab-df-spinner');\n",
              "      quickchartButtonEl.classList.add('colab-df-quickchart-complete');\n",
              "    }\n",
              "    (() => {\n",
              "      let quickchartButtonEl =\n",
              "        document.querySelector('#df-97cd21c3-230d-4cd2-a008-96062a0a6011 button');\n",
              "      quickchartButtonEl.style.display =\n",
              "        google.colab.kernel.accessAllowed ? 'block' : 'none';\n",
              "    })();\n",
              "  </script>\n",
              "</div>\n",
              "    </div>\n",
              "  </div>\n"
            ],
            "application/vnd.google.colaboratory.intrinsic+json": {
              "type": "dataframe",
              "variable_name": "df_plot",
              "summary": "{\n  \"name\": \"df_plot\",\n  \"rows\": 701,\n  \"fields\": [\n    {\n      \"column\": \"bairro\",\n      \"properties\": {\n        \"dtype\": \"string\",\n        \"num_unique_values\": 701,\n        \"samples\": [\n          \"Vila Tramontano\",\n          \"Jardim Gonzaga\",\n          \"Cidade Centen\\u00e1rio\"\n        ],\n        \"semantic_type\": \"\",\n        \"description\": \"\"\n      }\n    },\n    {\n      \"column\": \"valor_por_metro\",\n      \"properties\": {\n        \"dtype\": \"number\",\n        \"std\": 3846.677601062389,\n        \"min\": 78.37837837837837,\n        \"max\": 80000.0,\n        \"num_unique_values\": 675,\n        \"samples\": [\n          5172.111194627454,\n          5570.303905390539,\n          3876.8627450980393\n        ],\n        \"semantic_type\": \"\",\n        \"description\": \"\"\n      }\n    }\n  ]\n}"
            }
          },
          "metadata": {},
          "execution_count": 48
        }
      ]
    },
    {
      "cell_type": "code",
      "source": [
        "df_plot.columns"
      ],
      "metadata": {
        "colab": {
          "base_uri": "https://localhost:8080/"
        },
        "id": "hBNnz7fMOCLn",
        "outputId": "e418aef7-d297-48b4-bc7c-e02fd310093e"
      },
      "execution_count": null,
      "outputs": [
        {
          "output_type": "execute_result",
          "data": {
            "text/plain": [
              "Index(['valor_por_metro'], dtype='object')"
            ]
          },
          "metadata": {},
          "execution_count": 49
        }
      ]
    },
    {
      "cell_type": "code",
      "source": [
        "import plotly.graph_objects as go\n",
        "\n",
        "go.Figure(data=[go.Bar(x=df_plot.index, y=df_plot['valor_por_metro'])]).show()"
      ],
      "metadata": {
        "colab": {
          "base_uri": "https://localhost:8080/",
          "height": 542
        },
        "id": "HcS5hx1GOb7J",
        "outputId": "7e0f653d-dffb-4eab-efc2-080802f05cd2"
      },
      "execution_count": null,
      "outputs": [
        {
          "output_type": "display_data",
          "data": {
            "text/html": [
              "<html>\n",
              "<head><meta charset=\"utf-8\" /></head>\n",
              "<body>\n",
              "    <div>            <script src=\"https://cdnjs.cloudflare.com/ajax/libs/mathjax/2.7.5/MathJax.js?config=TeX-AMS-MML_SVG\"></script><script type=\"text/javascript\">if (window.MathJax && window.MathJax.Hub && window.MathJax.Hub.Config) {window.MathJax.Hub.Config({SVG: {font: \"STIX-Web\"}});}</script>                <script type=\"text/javascript\">window.PlotlyConfig = {MathJaxConfig: 'local'};</script>\n",
              "        <script charset=\"utf-8\" src=\"https://cdn.plot.ly/plotly-2.24.1.min.js\"></script>                <div id=\"91e0328e-9178-4829-b4ca-38754d54e4b8\" class=\"plotly-graph-div\" style=\"height:525px; width:100%;\"></div>            <script type=\"text/javascript\">                                    window.PLOTLYENV=window.PLOTLYENV || {};                                    if (document.getElementById(\"91e0328e-9178-4829-b4ca-38754d54e4b8\")) {                    Plotly.newPlot(                        \"91e0328e-9178-4829-b4ca-38754d54e4b8\",                        [{\"x\":[\"Aclima\\u00e7\\u00e3o\",\"Alto da Boa Vista\",\"Alto da Lapa\",\"Alto da Mooca\",\"Alto de Pinheiros\",\"Aricanduva\",\"Balne\\u00e1rio Mar Paulista\",\"Barra Funda\",\"Barro Branco (Zona Norte)\",\"Bela Alian\\u00e7a\",\"Bela Vista\",\"Belenzinho\",\"Boa\\u00e7ava\",\"Bom Retiro\",\"Bortol\\u00e2ndia\",\"Bosque da Sa\\u00fade\",\"Brasil\\u00e2ndia\",\"Brooklin\",\"Brooklin Novo\",\"Brooklin Paulista\",\"Br\\u00e1s\",\"Burgo Paulista\",\"Butant\\u00e3\",\"Cambuci\",\"Campininha\",\"Campo Belo\",\"Campo Grande\",\"Campos El\\u00edseos\",\"Canind\\u00e9\",\"Capela do Socorro\",\"Cap\\u00e3o Redondo\",\"Carandiru\",\"Casa Verde\",\"Casa Verde Alta\",\"Catumbi\",\"Caxingui\",\"Cerqueira C\\u00e9sar\",\"Chora Menino\",\"Ch\\u00e1cara Belenzinho\",\"Ch\\u00e1cara Calif\\u00f3rnia\",\"Ch\\u00e1cara Flora\",\"Ch\\u00e1cara Inglesa\",\"Ch\\u00e1cara Japonesa\",\"Ch\\u00e1cara Jaragu\\u00e1\",\"Ch\\u00e1cara Mafalda\",\"Ch\\u00e1cara Meyer\",\"Ch\\u00e1cara Monte Alegre\",\"Ch\\u00e1cara Santo Ant\\u00f4nio (Zona Leste)\",\"Ch\\u00e1cara Santo Ant\\u00f4nio (Zona Sul)\",\"Ch\\u00e1cara Seis de Outubro\",\"Ch\\u00e1cara Tatuap\\u00e9\",\"Ch\\u00e1cara das Paineiras\",\"Cidade Ademar\",\"Cidade Ant\\u00f4nio Estev\\u00e3o de Carvalho\",\"Cidade Centen\\u00e1rio\",\"Cidade Domitila\",\"Cidade Dutra\",\"Cidade Jardim\",\"Cidade L\\u00edder\",\"Cidade Mon\\u00e7\\u00f5es\",\"Cidade M\\u00e3e do C\\u00e9u\",\"Cidade Patriarca\",\"Cidade S\\u00e3o Francisco\",\"Cidade S\\u00e3o Mateus\",\"Cidade Vargas\",\"Cidade dos Bandeirantes\",\"City Am\\u00e9rica\",\"Conjunto Habitacional Barreira Grande\",\"Conjunto Habitacional Castro Alves\",\"Conjunto Promorar Raposo Tavares\",\"Conjunto Residencial Bandeirantes\",\"Conjunto Residencial Butant\\u00e3\",\"Conjunto Residencial Jardim Cana\\u00e3\",\"Conjunto Residencial Jos\\u00e9 Bonif\\u00e1cio\",\"Conjunto Residencial Morada do Sol\",\"Conjunto Residencial Vista Verde\",\"Consola\\u00e7\\u00e3o\",\"Cupec\\u00ea\",\"Cursino\",\"Educand\\u00e1rio\",\"Engenheiro Goulart\",\"Fazenda Morumbi\",\"Ferreira\",\"Granja Julieta\",\"Guaianases\",\"Guaianazes\",\"Higien\\u00f3polis\",\"Horto Florestal\",\"Ibirapuera\",\"Imirim\",\"Indian\\u00f3polis\",\"Instituto de Previd\\u00eancia\",\"Interlagos\",\"Ipiranga\",\"Itaberaba\",\"Itaim Bibi\",\"Itaquera\",\"Jabaquara\",\"Jaguar\\u00e9\",\"Jaragu\\u00e1\",\"Jardim Aeroporto\",\"Jardim Alvorada (Zona Oeste)\",\"Jardim Amplia\\u00e7\\u00e3o\",\"Jardim Am\\u00e1lia\",\"Jardim Am\\u00e9rica\",\"Jardim Ana Maria\",\"Jardim Analia Franco\",\"Jardim Anhanguera\",\"Jardim An\\u00e1lia Franco\",\"Jardim Aricanduva\",\"Jardim Arize\",\"Jardim Aur\\u00e9lia\",\"Jardim Avelino\",\"Jardim Avenida\",\"Jardim Bandeirantes (Zona Norte)\",\"Jardim Benfica\",\"Jardim Boa Vista (Zona Oeste)\",\"Jardim Bonfiglioli\",\"Jardim Botucatu\",\"Jardim Brasil (Zona Norte)\",\"Jardim Brasil (Zona Sul)\",\"Jardim Bras\\u00edlia (Zona Leste)\",\"Jardim B\\u00e9lgica\",\"Jardim Camargo Novo\",\"Jardim Cambara\",\"Jardim Campo Grande\",\"Jardim Caravelas\",\"Jardim Carlu\",\"Jardim Casablanca\",\"Jardim Castelo\",\"Jardim Catanduva\",\"Jardim Catarina\",\"Jardim Celeste\",\"Jardim Cidade Pirituba\",\"Jardim Cidalia\",\"Jardim Cid\\u00e1lia\",\"Jardim Cl\\u00e1udia\",\"Jardim Coimbra\",\"Jardim Colombo\",\"Jardim Colonial\",\"Jardim Colorado\",\"Jardim Cons\\u00f3rcio\",\"Jardim Cordeiro\",\"Jardim Cotiana\",\"Jardim Cristal\",\"Jardim C\\u00e9lia (Zona Sul)\",\"Jardim D'Abril\",\"Jardim Danfer\",\"Jardim Dom Bosco\",\"Jardim Domitila\",\"Jardim Dracena\",\"Jardim Egle\",\"Jardim Eliana\",\"Jardim Ernestina\",\"Jardim Esmeralda\",\"Jardim Ester\",\"Jardim Ester Yolanda\",\"Jardim Europa\",\"Jardim Everest\",\"Jardim Felicidade (Zona Oeste)\",\"Jardim Fernandes\",\"Jardim Floresta\",\"Jardim Franca\",\"Jardim Germ\\u00e2nia\",\"Jardim Gonzaga\",\"Jardim Guairaca\",\"Jardim Guanca\",\"Jardim Guapira\",\"Jardim Guarapiranga\",\"Jardim Guarau\",\"Jardim Guedala\",\"Jardim Heliomar\",\"Jardim H\\u00edpico\",\"Jardim Ibitirama\",\"Jardim Imperador (Zona Leste)\",\"Jardim Independ\\u00eancia\",\"Jardim Ipanema (Zona Oeste)\",\"Jardim Ipanema (Zona Sul)\",\"Jardim Itacolomi\",\"Jardim Itapemirim\",\"Jardim Itapeva\",\"Jardim Iva\",\"Jardim Ivana\",\"Jardim Jabaquara\",\"Jardim Jap\\u00e3o\",\"Jardim Jaragu\\u00e1\",\"Jardim Ja\\u00fa (Zona Leste)\",\"Jardim Jussara\",\"Jardim Leila\",\"Jardim Leonor\",\"Jardim Leonor Mendes de Barros\",\"Jardim Londrina\",\"Jardim Lourdes\",\"Jardim Luanda\",\"Jardim Luzit\\u00e2nia\",\"Jardim Mangalot\",\"Jardim Maracan\\u00e3\",\"Jardim Marajoara\",\"Jardim Maria Augusta\",\"Jardim Maria Duarte\",\"Jardim Maria Estela\",\"Jardim Maria Luiza\",\"Jardim Maring\\u00e1\",\"Jardim Mar\\u00edlia\",\"Jardim Miriam\",\"Jardim Modelo\",\"Jardim Monte Alegre\",\"Jardim Monte Azul\",\"Jardim Monte Kemel\",\"Jardim Morais Prado\",\"Jardim Morro Verde\",\"Jardim Morumbi\",\"Jardim Nice\",\"Jardim Niteroi\",\"Jardim Nossa Senhora do Carmo\",\"Jardim Nova Germania\",\"Jardim Nove de Julho\",\"Jardim Novo Mundo\",\"Jardim Odete\",\"Jardim Olympia\",\"Jardim Oriental\",\"Jardim Palmares (Zona Sul)\",\"Jardim Panorama\",\"Jardim Panorama (Zona Leste)\",\"Jardim Panorama D'Oeste\",\"Jardim Para\\u00edso\",\"Jardim Parque Morumbi\",\"Jardim Patente\",\"Jardim Patente Novo\",\"Jardim Paulista\",\"Jardim Paulistano\",\"Jardim Penha\",\"Jardim Peri\",\"Jardim Peri Peri\",\"Jardim Petropolis\",\"Jardim Petr\\u00f3polis\",\"Jardim Pinheiros\",\"Jardim Pirituba\",\"Jardim Planalto\",\"Jardim Ponte Rasa\",\"Jardim Popular\",\"Jardim Primavera (Zona Sul)\",\"Jardim Promiss\\u00e3o\",\"Jardim Prud\\u00eancia\",\"Jardim Raposo Tavares\",\"Jardim Record\",\"Jardim Reimberg\",\"Jardim Rinc\\u00e3o\",\"Jardim Rio Pequeno\",\"Jardim Riviera\",\"Jardim Rizzo\",\"Jardim Rosa Maria\",\"Jardim Sabar\\u00e1\",\"Jardim Santa Ad\\u00e9lia\",\"Jardim Santa Cruz (Campo Grande)\",\"Jardim Santa Cruz (Sacom\\u00e3)\",\"Jardim Santa F\\u00e9 (Zona Sul)\",\"Jardim Santa Helena\",\"Jardim Santa Maria\",\"Jardim Santo Amaro\",\"Jardim Santo Ant\\u00f4nio\",\"Jardim Santo Elias\",\"Jardim Sarah\",\"Jardim Sat\\u00e9lite\",\"Jardim Sul S\\u00e3o Paulo\",\"Jardim S\\u00e3o Bento\",\"Jardim S\\u00e3o Carlos (Zona Leste)\",\"Jardim S\\u00e3o Carlos (Zona Sul)\",\"Jardim S\\u00e3o Jorge\",\"Jardim S\\u00e3o Jorge (Raposo Tavares)\",\"Jardim S\\u00e3o Jos\\u00e9\",\"Jardim S\\u00e3o Lu\\u00eds\",\"Jardim S\\u00e3o Nicolau\",\"Jardim S\\u00e3o Paulo(Zona Norte)\",\"Jardim S\\u00edlvia (Zona Oeste)\",\"Jardim Taboao\",\"Jardim Tabo\\u00e3o\",\"Jardim Taquaral\",\"Jardim Tenani\",\"Jardim Teresa\",\"Jardim Textil\",\"Jardim Tiet\\u00ea\",\"Jardim Tremembe\",\"Jardim Trememb\\u00e9\",\"Jardim Triana\",\"Jardim Trussardi\",\"Jardim Tr\\u00eas Marias\",\"Jardim Ubirajara\",\"Jardim Umarizal\",\"Jardim Umuarama\",\"Jardim Vaz de Lima\",\"Jardim Vera Cruz\",\"Jardim Vera Cruz(Zona Leste)\",\"Jardim Vergueiro\",\"Jardim Vergueiro (Sacom\\u00e3)\",\"Jardim Viana\",\"Jardim Vila Carr\\u00e3o\",\"Jardim Vila Formosa\",\"Jardim Vila Mariana\",\"Jardim Virginia Bianca\",\"Jardim Vista Linda\",\"Jardim Vitoria Regia\",\"Jardim Vit\\u00f3ria R\\u00e9gia\",\"Jardim Vivan\",\"Jardim da Gl\\u00f3ria\",\"Jardim da Pedreira\",\"Jardim da Sa\\u00fade\",\"Jardim das Ac\\u00e1cias\",\"Jardim das Bandeiras\",\"Jardim das Cam\\u00e9lias\",\"Jardim das Carmelitas\",\"Jardim das Imbuias\",\"Jardim das Laranjeiras\",\"Jardim das Vertentes\",\"Jardim de Lorenzo\",\"Jardim do Campo\",\"Jardim do Carmo\",\"Jardim do Col\\u00e9gio (Zona Norte)\",\"Jardim dos Cataldis\",\"Jardim dos Estados\",\"Jardim dos Pinheiros\",\"Jardim dos Prados\",\"Jardim \\u00cdris\",\"Jardins\",\"Jurubatuba\",\"Lapa\",\"Lapa de Baixo\",\"Lar S\\u00e3o Paulo\",\"Lauzane Paulista\",\"Liberdade\",\"Limoeiro\",\"Mandaqui\",\"Maranh\\u00e3o\",\"Mirand\\u00f3polis\",\"Moema\",\"Mooca\",\"Morro dos Ingleses\",\"Morumbi\",\"Nossa Senhora do \\u00d3\",\"Nova Piraju\",\"Pacaembu\",\"Paineiras do Morumbi\",\"Parada Inglesa\",\"Parada XV de Novembro\",\"Parais\\u00f3polis\",\"Para\\u00edso\",\"Para\\u00edso do Morumbi\",\"Pari\",\"Parque Alves de Lima\",\"Parque Boturussu\",\"Parque Casa de Pedra\",\"Parque Colonial\",\"Parque Continental\",\"Parque C\\u00edS\\u00e3o Pauloer\",\"Parque Edu Chaves\",\"Parque Fernanda\",\"Parque Fongaro\",\"Parque Guarani\",\"Parque Imperial\",\"Parque Ip\\u00ea\",\"Parque Jabaquara\",\"Parque Mandaqui\",\"Parque Maria Domitila\",\"Parque Maria Fernandes\",\"Parque Maria Helena\",\"Parque Monteiro Soares\",\"Parque Munhoz\",\"Parque Na\\u00e7\\u00f5es Unidas\",\"Parque Novo Mundo\",\"Parque Peruche\",\"Parque Ramos Freitas\",\"Parque Regina\",\"Parque Residencial Julia\",\"Parque Residencial Oratorio\",\"Parque Santa Cec\\u00edlia\",\"Parque Santa Madalena\",\"Parque Santa Rita\",\"Parque Santo Ant\\u00f4nio (Aricanduva)\",\"Parque Savoy City\",\"Parque Sevilha\",\"Parque S\\u00e3o Domingos\",\"Parque S\\u00e3o Jorge\",\"Parque S\\u00e3o Lucas\",\"Parque S\\u00e3o Rafael\",\"Parque Vit\\u00f3ria\",\"Parque da Lapa\",\"Parque da Mooca\",\"Parque da Vila Prudente\",\"Parque das Paineiras\",\"Parque das \\u00c1rvores\",\"Parque do Castelo\",\"Parque do Terceiro Lago\",\"Parque dos Pr\\u00edncipes\",\"Penha de Fran\\u00e7a\",\"Perdizes\",\"Pinheiros\",\"Piqueri\",\"Pirituba\",\"Planalto Paulista\",\"Pompeia\",\"Praia Azul\",\"Praia Paulistinha\",\"Praia da Lagoa\",\"Quarta Parada\",\"Quinta da Paineira\",\"Real Parque\",\"Recanto dos Sonhos\",\"Retiro Morumbi\",\"Rio Bonito\",\"Rio Pequeno\",\"Rolin\\u00f3polis\",\"Sacom\\u00e3\",\"Santa Cec\\u00edlia\",\"Santa Teresinha\",\"Santana\",\"Santo Amaro\",\"Sa\\u00fade\",\"Siciliano\",\"Socorro\",\"Sumarezinho\",\"Sumar\\u00e9\",\"Super Quadra Morumbi\",\"S\\u00e3o Jo\\u00e3o Cl\\u00edmaco\",\"S\\u00e3o Judas\",\"S\\u00e3o Lucas\",\"S\\u00e3o Miguel Paulista\",\"S\\u00edtio Represa\",\"S\\u00edtio da Figueira\",\"S\\u00edtio do Mandaqui\",\"Tatuap\\u00e9\",\"Terceira Divis\\u00e3o de Interlagos\",\"Trememb\\u00e9\",\"Tucuruvi\",\"Veleiros\",\"Vila Adalgisa\",\"Vila Agueda\",\"Vila Albertina\",\"Vila Alexandria\",\"Vila Almeida\",\"Vila Alpina\",\"Vila Am\\u00e9lia\",\"Vila Am\\u00e9rica\",\"Vila Analia\",\"Vila Anast\\u00e1cio\",\"Vila Andrade\",\"Vila Anglo Brasileira\",\"Vila Anhang\\u00fcera\",\"Vila Antonieta\",\"Vila Antonina\",\"Vila Ant\\u00f4nio\",\"Vila Ant\\u00f4nio dos Santos\",\"Vila Aparecida\",\"Vila Araguaia\",\"Vila Aricanduva\",\"Vila Arriete\",\"Vila Aurea\",\"Vila Aurora (Zona Norte)\",\"Vila Ayrosa\",\"Vila Babil\\u00f4nia\",\"Vila Baby\",\"Vila Banc\\u00e1ria Munhoz\",\"Vila Bandeirantes\",\"Vila Barbosa\",\"Vila Bela\",\"Vila Bela Alian\\u00e7a\",\"Vila Bertioga\",\"Vila Boa\\u00e7ava\",\"Vila Bonilha Nova\",\"Vila Brasilina\",\"Vila Bras\\u00edlio Machado\",\"Vila Buenos Aires\",\"Vila Butant\\u00e3\",\"Vila Calif\\u00f3rnia\",\"Vila Calif\\u00f3rnia(Zona Sul)\",\"Vila Campanela\",\"Vila Campestre\",\"Vila Campo Grande\",\"Vila Canero\",\"Vila Caraguat\\u00e1\",\"Vila Carbone\",\"Vila Cardoso Franco\",\"Vila Carioca\",\"Vila Carlos de Campos\",\"Vila Carmosina\",\"Vila Carolina\",\"Vila Carrao\",\"Vila Carr\\u00e3o\",\"Vila Castelo\",\"Vila Celeste\",\"Vila Clara\",\"Vila Clarice\",\"Vila Clementino\",\"Vila Cleonice\",\"Vila Cl\\u00e1udia\",\"Vila Comercial\",\"Vila Conde do Pinhal\",\"Vila Congonhas\",\"Vila Constancia\",\"Vila Constan\\u00e7a\",\"Vila Corberi\",\"Vila Cordeiro\",\"Vila Cruzeiro\",\"Vila Cunha Bueno\",\"Vila Curu\\u00e7\\u00e1\",\"Vila Dalila\",\"Vila Dalva\",\"Vila Darli\",\"Vila Deodoro\",\"Vila Diva (Zona Leste)\",\"Vila Dom Pedro I\",\"Vila Dom Pedro II\",\"Vila Domitila\",\"Vila Dorna\",\"Vila Duarte\",\"Vila ES\\u00e3o Pauloeran\\u00e7a\",\"Vila Elvira\",\"Vila Ema\",\"Vila Emir\",\"Vila Ester (Zona Norte)\",\"Vila Euthalia\",\"Vila Fachini\",\"Vila Fernandes\",\"Vila Fiat Lux\",\"Vila Firmiano Pinto\",\"Vila Formosa\",\"Vila Gea\",\"Vila Gertrudes\",\"Vila Gomes\",\"Vila Gomes Cardim\",\"Vila Guaca\",\"Vila Guarani (Z Sul)\",\"Vila Guedes\",\"Vila Guilherme\",\"Vila Guilhermina\",\"Vila Gumercindo\",\"Vila Gustavo\",\"Vila Hamburguesa\",\"Vila Hebe\",\"Vila Ida\",\"Vila Imp\\u00e9rio\",\"Vila Inah\",\"Vila Independ\\u00eancia\",\"Vila Indiana\",\"Vila Industrial\",\"Vila Inglesa\",\"Vila Invernada\",\"Vila Ipojuca\",\"Vila Irm\\u00e3os Arnoni\",\"Vila Isa\",\"Vila Isolina Mazzei\",\"Vila Ivg\",\"Vila Ivone\",\"Vila Jacu\\u00ed\",\"Vila Jaguara\",\"Vila Joaniza\",\"Vila Jo\\u00e3o Batista\",\"Vila Jurema\",\"Vila Lageado\",\"Vila La\\u00eds\",\"Vila Leonor\",\"Vila Leopoldina\",\"Vila Libanesa\",\"Vila Liviero\",\"Vila Londrina\",\"Vila L\\u00facia\",\"Vila Maced\\u00f3polis\",\"Vila Madalena\",\"Vila Mafra\",\"Vila Marari\",\"Vila Maria Alta\",\"Vila Maria Baixa\",\"Vila Mariana\",\"Vila Marieta\",\"Vila Mascote\",\"Vila Matilde\",\"Vila Mazzei\",\"Vila Medeiros\",\"Vila Minerva\",\"Vila Mira\",\"Vila Moinho Velho\",\"Vila Monte Alegre\",\"Vila Monumento\",\"Vila Moraes\",\"Vila Moreira\",\"Vila Morse\",\"Vila Morumbi\",\"Vila Nair\",\"Vila Nancy\",\"Vila Nat\\u00e1lia\",\"Vila Neila\",\"Vila Nelson\",\"Vila Nhocune\",\"Vila Nilo\",\"Vila Nivi\",\"Vila Noca\",\"Vila Nova\",\"Vila Nova Alba\",\"Vila Nova Cachoeirinha\",\"Vila Nova Caledonia\",\"Vila Nova Caled\\u00f4nia\",\"Vila Nova Concei\\u00e7\\u00e3o\",\"Vila Nova Curu\\u00e7\\u00e1\",\"Vila Nova Manchester\",\"Vila Nova Mazzei\",\"Vila Nova Pauliceia\",\"Vila Nova Savoia\",\"Vila Olinda\",\"Vila Ol\\u00edmpia\",\"Vila Orat\\u00f3rio\",\"Vila Paiva\",\"Vila Palmeiras\",\"Vila Paranagu\\u00e1\",\"Vila Parque Jabaquara\",\"Vila Paulic\\u00e9ia\",\"Vila Paulista\",\"Vila Paulo Silas\",\"Vila Pedra Branca\",\"Vila Pedroso\",\"Vila Pereira Barreto\",\"Vila Perus\",\"Vila Piau\\u00ed\",\"Vila Picinin\",\"Vila Pirajussara\",\"Vila Pirituba\",\"Vila Pita\",\"Vila Polopoli\",\"Vila Pomp\\u00e9ia\",\"Vila Ponte Rasa\",\"Vila Prado\",\"Vila Primavera\",\"Vila Progredior\",\"Vila Prudente\",\"Vila Regente Feij\\u00f3\",\"Vila Reis\",\"Vila Represa\",\"Vila Rica\",\"Vila Rio Branco\",\"Vila Romana\",\"Vila Romano\",\"Vila Romero\",\"Vila Rosa\",\"Vila Rosaria\",\"Vila Roseira II\",\"Vila Rui Barbosa\",\"Vila R\\u00e9\",\"Vila Sabrina\",\"Vila Salete\",\"Vila Santa Catarina\",\"Vila Santa Clara\",\"Vila Santa Edwiges\",\"Vila Santa Maria\",\"Vila Santa Teresa (Zona Leste)\",\"Vila Santa Teresa (Zona Sul)\",\"Vila Santa Terezinha (Zona Norte)\",\"Vila Santa Virginia\",\"Vila Santana\",\"Vila Santo Ant\\u00f4nio\",\"Vila Santo Estev\\u00e3o\",\"Vila Santo Est\\u00e9fano\",\"Vila Santos\",\"Vila Sao Paulo\",\"Vila Simone\",\"Vila Sofia\",\"Vila Sonia\",\"Vila Suzana\",\"Vila S\\u00e3o Domingos\",\"Vila S\\u00e3o Francisco\",\"Vila S\\u00e3o Francisco (Zona Sul)\",\"Vila S\\u00e3o Geraldo\",\"Vila S\\u00e3o Jos\\u00e9\",\"Vila S\\u00e3o Jos\\u00e9 (Ipiranga)\",\"Vila S\\u00e3o Paulo\",\"Vila S\\u00e3o Pedro\",\"Vila S\\u00e3o Silvestre\",\"Vila S\\u00e3o Vicente\",\"Vila S\\u00edlvia\",\"Vila S\\u00f4nia\",\"Vila Talarico\",\"Vila Tiradentes\",\"Vila Tolstoi\",\"Vila Tramontano\",\"Vila Uberabinha\",\"Vila Universit\\u00e1ria\",\"Vila Uni\\u00e3o(Zona Norte)\",\"Vila Vasconcelos\",\"Vila Vera\",\"Vila Virginia\",\"Vila Vit\\u00f3rio Mazzei\",\"Vila Zelina\",\"Vila da Sa\\u00fade\",\"Vila das Belezas\",\"Vila das Merc\\u00eas\",\"Vila do Bosque\",\"Vila do Castelo\",\"Vila do Encontro\",\"Vila dos Rem\\u00e9dios\",\"Vila \\u00c1gua Funda\",\"\\u00c1gua Branca\",\"\\u00c1gua Fria\",\"\\u00c1gua Funda\",\"\\u00c1gua Rasa\"],\"y\":[7656.169464859427,5849.56901090035,7606.728080096671,5691.74013307347,11269.97997142662,1726.6187050359713,3600.0,6173.434217972523,6146.308706231882,7233.548558995397,5052.631578947368,4890.457628621021,9712.545621738744,4457.898362566902,4252.116402116402,6303.922409757788,3584.5588235294117,7893.870096317158,12343.149200568865,7264.919084284394,6376.384384384384,2466.6666666666665,6743.329453932896,5904.606000649699,3645.3849832615974,7176.033638618857,5324.857142857142,2452.830188679245,6049.7835497835495,4166.666666666667,5520.0,2591.6230366492146,4575.16339869281,3457.6837107276237,5054.55525030525,6139.313071223833,8823.788083893218,3116.5051020408164,3458.4635701275047,6243.589743589743,10754.611214785393,7303.069194462542,8271.779165665786,3153.5812672176307,3274.26072707135,5273.537256682368,6302.877391258103,6790.553619821912,7483.294482889527,4999.4634905306075,4266.666666666667,9664.969135802468,2825.252525252525,5575.757575757576,3333.3333333333335,3684.5586187691456,4037.977759305727,8563.837613419473,3521.1111111111113,9739.80393627608,6725.169206447874,3747.5644758404533,7627.118644067797,2553.753943615407,4862.49483021374,3041.9715055833653,3977.1101330976667,3763.153513153513,1726.1538461538462,2062.074829931973,1666.6666666666667,5537.31577805548,4505.2492501934985,3399.2248062015506,5569.620253164557,4875.0,9808.769255981644,5272.237663226463,5007.365777101103,2755.5555555555557,2584.357744841616,5813.140199694469,5393.103448275862,7428.263265650797,8333.333333333334,1183.0357142857142,11324.918454828348,3838.149486550447,null,4632.675438596491,8404.04565146375,5554.909617695082,4820.411704270292,5254.579665594942,6144.09653674294,14235.395958284367,2933.5579749091667,3974.785897755549,4442.687747035573,3373.327826096376,5097.877799533973,2609.6618357487923,20051.041666666668,1741.6666666666665,24088.572449313826,5493.226757203361,8500.288961664419,4365.079365079365,6927.205016087782,3969.9166666666665,2625.0,9352.226720647774,5209.429824561404,2116.1290322580644,1494.5054945054944,4164.583333333333,3631.818181818182,5681.770487773403,4035.714285714286,5987.822988602255,4718.551238496995,1055.0091074681238,6725.516996664538,3166.6666666666665,1450.4662004662005,7532.535969231199,11578.198356807512,3672.316384180791,3307.6923076923076,2076.67731629393,4439.156757936075,2739.72602739726,4275.300379632891,3511.3261161757828,6276.923076923077,4718.034108968429,3866.013071895425,3328.6450662739326,5093.913259018036,5625.0,3000.0,3833.2505286758897,8096.688608053165,2633.3333333333335,1478.4468508585499,9398.496240601504,3446.717348927875,3072.463768115942,7592.592592592592,null,3367.7891345074304,1888.888888888889,2000.0,5259.818768715081,4568.696023212152,4241.443488517208,4610.136452241715,19962.68787046938,7515.83486411856,6285.714285714285,1333.3333333333333,2428.5714285714284,5687.208432872116,2637.5227686703097,2488.620194233771,3401.198273935393,4054.054054054054,4736.8421052631575,3747.072599531616,4403.594771241829,8027.996572316355,6753.846153846154,8626.67884230948,8688.095238095239,3123.5964980114895,5333.333333333333,1887.3239436619717,4637.647311913367,2200.0,1054.5,5158.257009257255,1480.0,2600.0,3599.349489795918,3662.769628990509,3368.452380952381,2445.6521739130435,4223.156462585034,5960.0,6563.875304869731,5489.250278349863,4527.585724728354,2000.0,12450.592885375494,16568.759826142286,3813.3633633633635,2301.065162907268,5307.3461763548685,5500.0,2546.017237429772,3744.757769538236,3757.719976924904,3797.778824268111,2333.3333333333335,3592.842839181001,2500.0,3300.0,3100.9615384615386,4215.386072869452,1440.0,5021.176330231448,6112.480904145904,4009.7680097680095,4464.285714285715,4090.2385378469726,6140.350877192983,1407.5091575091574,8168.409150440499,4629.79797979798,4086.493987049029,4163.020716999033,4875.0,7180.259309334177,1920.6140350877192,11073.843660733904,6060.606060606061,4000.0,2531.3554461859544,3424.737643194745,16087.451844844403,14995.060915591557,3458.6466165413535,5105.392490065859,7278.992636628642,7142.857142857143,8627.179992537336,5267.857142857143,6031.746031746032,3000.0,1532.846715328467,4086.5384615384614,2240.782122905028,4205.152258623178,5122.694932905282,3125.0,1679.0123456790122,3040.0,6349.206349206349,2857.1428571428573,6468.7820960776935,6875.0,4557.583953121479,3472.916666666667,5308.333333333334,4916.666666666667,3255.813953488372,1357.912457912458,3964.753382039303,3965.167548500882,6228.234286588174,2600.0,2800.0,4104.173973529374,3503.2715376226824,1627.906976744186,7964.865674266564,1407.6502732240438,4018.4951660361494,4600.0,5403.290322580645,3449.1935483870966,3721.601641055415,1800.0,5036.68283916168,5708.689867820677,3344.2374510238783,5048.2165661615645,6000.0,7453.453453453454,17465.56461749832,5165.201098065549,2507.6719576719574,4711.290322580646,2916.6666666666665,3286.0966081871343,7720.445956160242,3166.6666666666665,5067.812561917971,4490.033222591363,5592.740078043547,4947.772277227723,7834.908050924129,544.7553294573643,3000.0,6805.555555555556,7872.978225779315,3382.124352331606,3574.195079902627,8565.738315112741,4032.958512483166,4053.4375,8464.638311809846,7153.299611514344,3145.979020979021,6252.824294119201,2636.768628341184,5726.67114500848,8885.555555555557,11482.254552410623,1941.1764705882354,5570.303905390539,6250.0,6384.489795918367,4680.921154009389,3768.90756302521,3166.6666666666665,5300.0,3536.1111111111113,2990.0,9329.484266415493,4581.005586592179,4840.909090909091,3469.2982456140353,11904.143640624843,3975.1552795031057,7246.135972335521,5165.688094177065,5106.759922909522,5120.245700919664,5132.295034268718,2250.0,4888.866666666667,5737.812911725955,6887.087773058774,12076.267819492656,5416.21507452183,11749.029107736142,6255.171664805065,3813.5593220338983,4692.073170731707,8768.361377666173,7371.760360912643,7282.803403493059,3224.9269005847955,2996.4465647345387,10980.302392229787,5542.2762672147155,4166.666666666667,3941.0549081473755,2657.868762816131,2706.5199593935226,6816.979243715358,4926.0298336930055,2500.0,3644.260844166507,3115.942028985507,2673.3007369708403,3775.5,6535.023809523809,3397.3189964157705,4854.869571665758,4583.296381148878,3266.6666666666665,1500.0,3437.5,4693.877551020408,5430.533926585094,2962.962962962963,6120.401337792642,3166.6666666666665,2532.0570192634414,4500.0,5764.3678160919535,4685.714285714286,1200.0,1666.6666666666667,2619.0476190476193,1506.2450922654102,3634.349819140841,5461.206896551724,5288.604734750975,4666.666666666667,4502.309052198432,2621.333333333333,5912.183676889559,5072.5903937819385,6396.218772516746,5315.063124767334,1833.3333333333333,8333.333333333334,3517.786561264822,3000.0,5478.767308905849,3507.589591362788,7657.139598333277,12086.703946801454,3236.6071428571427,4425.954592363261,6447.722579475104,8254.604344151223,4629.8089171974525,2456.8965517241377,8243.413516609393,5161.040005642108,3057.231478623855,5118.5303737006,5911.111111111111,10866.553439738631,2214.078431372549,3449.7778087905167,3947.3684210526317,5172.111194627454,9590.968832279921,5730.019284305308,6434.347270693608,7702.385004348982,7393.656664227419,7950.8920240361285,5446.592266138781,9635.74813937301,8430.60014563788,3841.1387631975867,3672.222222222222,10266.793149851843,2456.8965517241377,3197.154471544715,78.37837837837837,4365.079365079365,4770.833333333333,4972.210271985071,3922.22348629895,4978.202387069733,4624.866998670036,7719.362745098039,4601.977011494253,5825.0,4853.390671829008,5407.007007007007,6173.136474231365,3388.9577567640554,2504.743457980868,5200.0,4545.454545454545,4944.970340100089,5938.775724289714,6867.633615881623,5791.868533481437,4026.444902588798,4766.356531123799,4444.670345052506,2800.0,3696.4285714285716,3532.4055555555556,2400.0,4775.650726392252,906.5934065934066,2401.8603857313537,1679.2682926829268,3913.6958640857815,3698.759439050701,3462.853913082746,4166.666666666667,1692.1296296296296,4361.229681202236,9121.284153005465,5357.874219102969,2728.5714285714284,3836.2795048934945,4706.407677288943,5295.807672796882,2985.0114043662434,5601.0573110657215,3157.426307426307,2796.1748633879783,3134.3283582089553,4848.848731887269,4161.361986921799,3339.9014778325122,3771.809519483388,3695.6521739130435,2183.823529411765,1939.655172413793,2828.282828282828,4444.444444444444,3958.3333333333335,4737.588652482269,5199.83250856375,1403.5087719298247,1669.2379616643293,3325.0,5493.939393939394,11232.395614741625,3920.0,7674.042350402895,4167.384558632063,5214.285714285715,6341.253207903232,3421.0526315789475,4698.333333333333,3400.0,8938.718690856793,7892.186725294771,2940.0,4091.7933884297518,3526.115859449192,2269.5823483057525,3900.0,7702.343818642675,3135.70269783092,5739.203430460667,2189.78102189781,2864.7058823529414,1517.857142857143,4134.615384615385,4802.133286963009,7438.153846153846,3581.343201217022,4214.285714285714,4401.494737209603,2692.3076923076924,4641.471424677806,2500.0,3828.0,5970.478290835568,5003.1701740361505,4413.586956521739,7738.839906271099,4610.195185634708,6847.552761820877,80000.0,3866.3059092340422,4397.427476737821,4717.163271511097,3889.036045119394,5835.3114730580155,4482.597039717298,8080.96865168133,4363.636363636364,7822.443060546497,4289.0625,6102.078320467972,4200.0,8024.836224655393,3029.2397660818715,3180.5860805860807,5390.625,6402.2648693576675,3416.5871943371944,4538.151818419676,5857.165404040404,2909.090909090909,2422.174329501916,3513.6358591665435,3409.090909090909,3363.6363636363635,1728.5464098073555,7058.823529411765,5738.383060779097,2596.153846153846,6304.347826086957,5698.108165797746,3389.836559869682,2655.0751879699246,3891.908212560387,5066.236908262123,4135.75036075036,9054.395958167552,4090.743477668417,4410.064598434852,2746.011396011396,4841.250476190476,7913.154806155142,4694.551247208347,5060.113519091848,4717.941579490233,5097.473665982888,3004.3932672131023,1911.764705882353,4262.564745196324,4503.446000248912,6956.4599378386865,5919.368180598498,3965.4831776495885,6958.828648122475,4267.099514677363,7427.968372074427,4997.300507518106,2954.5454545454545,5170.741369552915,3279.9671592775044,1521.4285714285713,3113.9680320714806,3100.0,4663.495430337362,null,2333.3333333333335,3244.3009182181645,2999.652029457765,5289.617486338798,5809.351524076079,17614.033885540764,2581.1640929871355,3542.9027841168418,3244.7986831046655,4800.0,5076.923076923077,2049.8485907290938,12428.420146305414,4783.7961824855165,2253.968253968254,4282.484127538958,3348.956725146199,6673.33062257161,6095.5846379647755,3773.8993631764406,3078.703703703704,4091.6819696660546,5388.888888888889,3999.310344827586,3866.9904726321693,5166.666666666666,2500.0,2877.604166666667,4187.526354193021,2840.909090909091,5964.635156038595,8252.857254752584,4444.444444444444,5889.830508474576,6078.6967418546365,7242.68110832083,4750.446889538806,4385.7342560867255,4848.545454545455,7073.943661971831,3640.0,5861.794871794872,6979.469407459317,5719.648083844344,2853.212204096252,5100.0,3333.3333333333335,5266.666666666667,4245.726495726496,4387.820512820513,1980.0,3678.1609195402298,4573.423098027934,5040.1651651651655,4591.397849462366,5063.377091377091,3312.796208530806,5659.574468085107,6122.222222222223,3534.977494373594,5207.592636599447,7019.704433497537,5434.782608695652,4983.067167227121,4057.4396059593428,5661.816045526893,2205.928614640048,7208.333333333333,5660.23973682992,4809.618853562686,3369.458128078818,5062.91918175721,6359.272687647974,4842.424242424243,5090.909090909091,5254.271847776036,5517.90821744998,5430.555555555556,5655.359824290474,4093.2245654032486,3016.837002062589,6052.988281607656,3100.710309814356,3822.259136212625,3154.166666666667,8388.410212518582,9912.121093128775,2552.9548239828614,null,3666.6666666666665,3152.6040734442427,4347.826086956522,6360.0,4813.67163336805,5456.14857241238,4531.25,4643.6631174208815,4390.471029769591,2847.564794387979,4267.915766058171,4546.515151515152,4467.127995320215,7269.113912061975,5841.104427523172,3876.8627450980393,4509.6084627217415],\"type\":\"bar\"}],                        {\"template\":{\"data\":{\"histogram2dcontour\":[{\"type\":\"histogram2dcontour\",\"colorbar\":{\"outlinewidth\":0,\"ticks\":\"\"},\"colorscale\":[[0.0,\"#0d0887\"],[0.1111111111111111,\"#46039f\"],[0.2222222222222222,\"#7201a8\"],[0.3333333333333333,\"#9c179e\"],[0.4444444444444444,\"#bd3786\"],[0.5555555555555556,\"#d8576b\"],[0.6666666666666666,\"#ed7953\"],[0.7777777777777778,\"#fb9f3a\"],[0.8888888888888888,\"#fdca26\"],[1.0,\"#f0f921\"]]}],\"choropleth\":[{\"type\":\"choropleth\",\"colorbar\":{\"outlinewidth\":0,\"ticks\":\"\"}}],\"histogram2d\":[{\"type\":\"histogram2d\",\"colorbar\":{\"outlinewidth\":0,\"ticks\":\"\"},\"colorscale\":[[0.0,\"#0d0887\"],[0.1111111111111111,\"#46039f\"],[0.2222222222222222,\"#7201a8\"],[0.3333333333333333,\"#9c179e\"],[0.4444444444444444,\"#bd3786\"],[0.5555555555555556,\"#d8576b\"],[0.6666666666666666,\"#ed7953\"],[0.7777777777777778,\"#fb9f3a\"],[0.8888888888888888,\"#fdca26\"],[1.0,\"#f0f921\"]]}],\"heatmap\":[{\"type\":\"heatmap\",\"colorbar\":{\"outlinewidth\":0,\"ticks\":\"\"},\"colorscale\":[[0.0,\"#0d0887\"],[0.1111111111111111,\"#46039f\"],[0.2222222222222222,\"#7201a8\"],[0.3333333333333333,\"#9c179e\"],[0.4444444444444444,\"#bd3786\"],[0.5555555555555556,\"#d8576b\"],[0.6666666666666666,\"#ed7953\"],[0.7777777777777778,\"#fb9f3a\"],[0.8888888888888888,\"#fdca26\"],[1.0,\"#f0f921\"]]}],\"heatmapgl\":[{\"type\":\"heatmapgl\",\"colorbar\":{\"outlinewidth\":0,\"ticks\":\"\"},\"colorscale\":[[0.0,\"#0d0887\"],[0.1111111111111111,\"#46039f\"],[0.2222222222222222,\"#7201a8\"],[0.3333333333333333,\"#9c179e\"],[0.4444444444444444,\"#bd3786\"],[0.5555555555555556,\"#d8576b\"],[0.6666666666666666,\"#ed7953\"],[0.7777777777777778,\"#fb9f3a\"],[0.8888888888888888,\"#fdca26\"],[1.0,\"#f0f921\"]]}],\"contourcarpet\":[{\"type\":\"contourcarpet\",\"colorbar\":{\"outlinewidth\":0,\"ticks\":\"\"}}],\"contour\":[{\"type\":\"contour\",\"colorbar\":{\"outlinewidth\":0,\"ticks\":\"\"},\"colorscale\":[[0.0,\"#0d0887\"],[0.1111111111111111,\"#46039f\"],[0.2222222222222222,\"#7201a8\"],[0.3333333333333333,\"#9c179e\"],[0.4444444444444444,\"#bd3786\"],[0.5555555555555556,\"#d8576b\"],[0.6666666666666666,\"#ed7953\"],[0.7777777777777778,\"#fb9f3a\"],[0.8888888888888888,\"#fdca26\"],[1.0,\"#f0f921\"]]}],\"surface\":[{\"type\":\"surface\",\"colorbar\":{\"outlinewidth\":0,\"ticks\":\"\"},\"colorscale\":[[0.0,\"#0d0887\"],[0.1111111111111111,\"#46039f\"],[0.2222222222222222,\"#7201a8\"],[0.3333333333333333,\"#9c179e\"],[0.4444444444444444,\"#bd3786\"],[0.5555555555555556,\"#d8576b\"],[0.6666666666666666,\"#ed7953\"],[0.7777777777777778,\"#fb9f3a\"],[0.8888888888888888,\"#fdca26\"],[1.0,\"#f0f921\"]]}],\"mesh3d\":[{\"type\":\"mesh3d\",\"colorbar\":{\"outlinewidth\":0,\"ticks\":\"\"}}],\"scatter\":[{\"fillpattern\":{\"fillmode\":\"overlay\",\"size\":10,\"solidity\":0.2},\"type\":\"scatter\"}],\"parcoords\":[{\"type\":\"parcoords\",\"line\":{\"colorbar\":{\"outlinewidth\":0,\"ticks\":\"\"}}}],\"scatterpolargl\":[{\"type\":\"scatterpolargl\",\"marker\":{\"colorbar\":{\"outlinewidth\":0,\"ticks\":\"\"}}}],\"bar\":[{\"error_x\":{\"color\":\"#2a3f5f\"},\"error_y\":{\"color\":\"#2a3f5f\"},\"marker\":{\"line\":{\"color\":\"#E5ECF6\",\"width\":0.5},\"pattern\":{\"fillmode\":\"overlay\",\"size\":10,\"solidity\":0.2}},\"type\":\"bar\"}],\"scattergeo\":[{\"type\":\"scattergeo\",\"marker\":{\"colorbar\":{\"outlinewidth\":0,\"ticks\":\"\"}}}],\"scatterpolar\":[{\"type\":\"scatterpolar\",\"marker\":{\"colorbar\":{\"outlinewidth\":0,\"ticks\":\"\"}}}],\"histogram\":[{\"marker\":{\"pattern\":{\"fillmode\":\"overlay\",\"size\":10,\"solidity\":0.2}},\"type\":\"histogram\"}],\"scattergl\":[{\"type\":\"scattergl\",\"marker\":{\"colorbar\":{\"outlinewidth\":0,\"ticks\":\"\"}}}],\"scatter3d\":[{\"type\":\"scatter3d\",\"line\":{\"colorbar\":{\"outlinewidth\":0,\"ticks\":\"\"}},\"marker\":{\"colorbar\":{\"outlinewidth\":0,\"ticks\":\"\"}}}],\"scattermapbox\":[{\"type\":\"scattermapbox\",\"marker\":{\"colorbar\":{\"outlinewidth\":0,\"ticks\":\"\"}}}],\"scatterternary\":[{\"type\":\"scatterternary\",\"marker\":{\"colorbar\":{\"outlinewidth\":0,\"ticks\":\"\"}}}],\"scattercarpet\":[{\"type\":\"scattercarpet\",\"marker\":{\"colorbar\":{\"outlinewidth\":0,\"ticks\":\"\"}}}],\"carpet\":[{\"aaxis\":{\"endlinecolor\":\"#2a3f5f\",\"gridcolor\":\"white\",\"linecolor\":\"white\",\"minorgridcolor\":\"white\",\"startlinecolor\":\"#2a3f5f\"},\"baxis\":{\"endlinecolor\":\"#2a3f5f\",\"gridcolor\":\"white\",\"linecolor\":\"white\",\"minorgridcolor\":\"white\",\"startlinecolor\":\"#2a3f5f\"},\"type\":\"carpet\"}],\"table\":[{\"cells\":{\"fill\":{\"color\":\"#EBF0F8\"},\"line\":{\"color\":\"white\"}},\"header\":{\"fill\":{\"color\":\"#C8D4E3\"},\"line\":{\"color\":\"white\"}},\"type\":\"table\"}],\"barpolar\":[{\"marker\":{\"line\":{\"color\":\"#E5ECF6\",\"width\":0.5},\"pattern\":{\"fillmode\":\"overlay\",\"size\":10,\"solidity\":0.2}},\"type\":\"barpolar\"}],\"pie\":[{\"automargin\":true,\"type\":\"pie\"}]},\"layout\":{\"autotypenumbers\":\"strict\",\"colorway\":[\"#636efa\",\"#EF553B\",\"#00cc96\",\"#ab63fa\",\"#FFA15A\",\"#19d3f3\",\"#FF6692\",\"#B6E880\",\"#FF97FF\",\"#FECB52\"],\"font\":{\"color\":\"#2a3f5f\"},\"hovermode\":\"closest\",\"hoverlabel\":{\"align\":\"left\"},\"paper_bgcolor\":\"white\",\"plot_bgcolor\":\"#E5ECF6\",\"polar\":{\"bgcolor\":\"#E5ECF6\",\"angularaxis\":{\"gridcolor\":\"white\",\"linecolor\":\"white\",\"ticks\":\"\"},\"radialaxis\":{\"gridcolor\":\"white\",\"linecolor\":\"white\",\"ticks\":\"\"}},\"ternary\":{\"bgcolor\":\"#E5ECF6\",\"aaxis\":{\"gridcolor\":\"white\",\"linecolor\":\"white\",\"ticks\":\"\"},\"baxis\":{\"gridcolor\":\"white\",\"linecolor\":\"white\",\"ticks\":\"\"},\"caxis\":{\"gridcolor\":\"white\",\"linecolor\":\"white\",\"ticks\":\"\"}},\"coloraxis\":{\"colorbar\":{\"outlinewidth\":0,\"ticks\":\"\"}},\"colorscale\":{\"sequential\":[[0.0,\"#0d0887\"],[0.1111111111111111,\"#46039f\"],[0.2222222222222222,\"#7201a8\"],[0.3333333333333333,\"#9c179e\"],[0.4444444444444444,\"#bd3786\"],[0.5555555555555556,\"#d8576b\"],[0.6666666666666666,\"#ed7953\"],[0.7777777777777778,\"#fb9f3a\"],[0.8888888888888888,\"#fdca26\"],[1.0,\"#f0f921\"]],\"sequentialminus\":[[0.0,\"#0d0887\"],[0.1111111111111111,\"#46039f\"],[0.2222222222222222,\"#7201a8\"],[0.3333333333333333,\"#9c179e\"],[0.4444444444444444,\"#bd3786\"],[0.5555555555555556,\"#d8576b\"],[0.6666666666666666,\"#ed7953\"],[0.7777777777777778,\"#fb9f3a\"],[0.8888888888888888,\"#fdca26\"],[1.0,\"#f0f921\"]],\"diverging\":[[0,\"#8e0152\"],[0.1,\"#c51b7d\"],[0.2,\"#de77ae\"],[0.3,\"#f1b6da\"],[0.4,\"#fde0ef\"],[0.5,\"#f7f7f7\"],[0.6,\"#e6f5d0\"],[0.7,\"#b8e186\"],[0.8,\"#7fbc41\"],[0.9,\"#4d9221\"],[1,\"#276419\"]]},\"xaxis\":{\"gridcolor\":\"white\",\"linecolor\":\"white\",\"ticks\":\"\",\"title\":{\"standoff\":15},\"zerolinecolor\":\"white\",\"automargin\":true,\"zerolinewidth\":2},\"yaxis\":{\"gridcolor\":\"white\",\"linecolor\":\"white\",\"ticks\":\"\",\"title\":{\"standoff\":15},\"zerolinecolor\":\"white\",\"automargin\":true,\"zerolinewidth\":2},\"scene\":{\"xaxis\":{\"backgroundcolor\":\"#E5ECF6\",\"gridcolor\":\"white\",\"linecolor\":\"white\",\"showbackground\":true,\"ticks\":\"\",\"zerolinecolor\":\"white\",\"gridwidth\":2},\"yaxis\":{\"backgroundcolor\":\"#E5ECF6\",\"gridcolor\":\"white\",\"linecolor\":\"white\",\"showbackground\":true,\"ticks\":\"\",\"zerolinecolor\":\"white\",\"gridwidth\":2},\"zaxis\":{\"backgroundcolor\":\"#E5ECF6\",\"gridcolor\":\"white\",\"linecolor\":\"white\",\"showbackground\":true,\"ticks\":\"\",\"zerolinecolor\":\"white\",\"gridwidth\":2}},\"shapedefaults\":{\"line\":{\"color\":\"#2a3f5f\"}},\"annotationdefaults\":{\"arrowcolor\":\"#2a3f5f\",\"arrowhead\":0,\"arrowwidth\":1},\"geo\":{\"bgcolor\":\"white\",\"landcolor\":\"#E5ECF6\",\"subunitcolor\":\"white\",\"showland\":true,\"showlakes\":true,\"lakecolor\":\"white\"},\"title\":{\"x\":0.05},\"mapbox\":{\"style\":\"light\"}}}},                        {\"responsive\": true}                    ).then(function(){\n",
              "                            \n",
              "var gd = document.getElementById('91e0328e-9178-4829-b4ca-38754d54e4b8');\n",
              "var x = new MutationObserver(function (mutations, observer) {{\n",
              "        var display = window.getComputedStyle(gd).display;\n",
              "        if (!display || display === 'none') {{\n",
              "            console.log([gd, 'removed!']);\n",
              "            Plotly.purge(gd);\n",
              "            observer.disconnect();\n",
              "        }}\n",
              "}});\n",
              "\n",
              "// Listen for the removal of the full notebook cells\n",
              "var notebookContainer = gd.closest('#notebook-container');\n",
              "if (notebookContainer) {{\n",
              "    x.observe(notebookContainer, {childList: true});\n",
              "}}\n",
              "\n",
              "// Listen for the clearing of the current output cell\n",
              "var outputEl = gd.closest('.output');\n",
              "if (outputEl) {{\n",
              "    x.observe(outputEl, {childList: true});\n",
              "}}\n",
              "\n",
              "                        })                };                            </script>        </div>\n",
              "</body>\n",
              "</html>"
            ]
          },
          "metadata": {}
        }
      ]
    },
    {
      "cell_type": "markdown",
      "source": [
        "9 - Explore as bibliotecas de visualizações e tente fazer alguma correlação com os dados e tire suas  conclusões\n"
      ],
      "metadata": {
        "id": "oC3SEBF-y6cG"
      }
    },
    {
      "cell_type": "markdown",
      "source": [
        "10 - Pesquise alguma visualização para analisar os quartis, mediana e outliers existentes na base,"
      ],
      "metadata": {
        "id": "vk0iKHDfzG29"
      }
    },
    {
      "cell_type": "code",
      "source": [
        "srn.boxplot(dados.vagas)"
      ],
      "metadata": {
        "colab": {
          "base_uri": "https://localhost:8080/",
          "height": 428
        },
        "id": "YXxeao7XNA3r",
        "outputId": "d63fa25e-d39b-49de-8b5c-d85170c885f0"
      },
      "execution_count": null,
      "outputs": [
        {
          "output_type": "execute_result",
          "data": {
            "text/plain": [
              "<Axes: ylabel='vagas'>"
            ]
          },
          "metadata": {},
          "execution_count": 51
        },
        {
          "output_type": "display_data",
          "data": {
            "text/plain": [
              "<Figure size 640x480 with 1 Axes>"
            ],
            "image/png": "[encoded data removed]"
          },
          "metadata": {}
        }
      ]
    }
  ]
}